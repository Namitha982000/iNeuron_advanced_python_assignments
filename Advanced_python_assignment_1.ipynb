{
 "cells": [
  {
   "cell_type": "markdown",
   "id": "f505fd7c-92bd-4238-99dc-2b71e91fb739",
   "metadata": {},
   "source": [
    "# Assignment- 1"
   ]
  },
  {
   "cell_type": "markdown",
   "id": "cd650f49-e392-47fd-a4b7-6c479db84870",
   "metadata": {},
   "source": [
    "**Q1. What is the purpose of Python's OOP?**"
   ]
  },
  {
   "cell_type": "markdown",
   "id": "0244fdff-d417-485a-af86-0d0c6bf5e99f",
   "metadata": {},
   "source": [
    "In order to provide a structured and efficient method of organising and managing code, Python's object-oriented programming (OOP) strives to mimic real-world objects and their interactions. OOP allows for the modular, reusable, and maintainable design and construction of software systems.\n",
    "The core principles of Python's OOP are:\n",
    "1. Classes: Classes act as models or models for the creation of objects. They specify the properties (data) and actions (methods) that class objects may have.\n",
    "2. Objects: Instances of classes make up objects. They represent distinct entities, each of which has a particular collection of data and behaviour. By calling methods or gaining access to properties, objects can communicate with one another.\n",
    "3. Encapsulation: Within a class, encapsulation is the grouping of data (attributes) and functions (methods). It makes information possible."
   ]
  },
  {
   "cell_type": "markdown",
   "id": "a2a4d690-7dfd-4c15-a35d-87182ff5571c",
   "metadata": {},
   "source": [
    "**Q2. Where does an inheritance search look for an attribute?**"
   ]
  },
  {
   "cell_type": "markdown",
   "id": "3992ba95-15ec-4463-a814-8512f4f77df8",
   "metadata": {},
   "source": [
    "The inheritance search in Python looks for a property when it is accessed on an object in a particular order known as the Method Resolution Order (MRO). The order in which Python looks for characteristics in a class hierarchy is specified by the MRO. The C3 linearization algorithm, which is based on the idea of a directed acyclic graph, is used to calculate the MRO.\n",
    "Following the MRO, the inheritance search for an attribute looks in the following locations, in that order:\n",
    "1. The instance itself: Python first looks for the attribute directly on the instance of the object. If the attribute is found, the search stops, and that value is returned.\n",
    "2. The class of the instance: If the attribute is not found on the instance, Python then looks for the attribute in the class of the object. If the attribute is found in the class, the search stops, and that value is returned.\n",
    "3. Parent classes in the inheritance hierarchy: If the attribute is not found in the instance or the class, Python continues the search in the parent classes according to the MRO. It follows a depth-first, left-to-right traversal of the inheritance graph. The search stops as soon as the attribute is found in one of the parent classes. If the attribute is not found in any parent class, a `AttributeError` is raised.\n",
    "It's crucial to remember that the order in which the base classes are stated in the class declaration using the inheritance syntax determines the MRO. The'mro()' method on a class or accessing the '__mro__' attribute can be used to look at the MRO.\n",
    "Overall, Python's inheritance search is consistent and predictable, allowing for the inheritance and overriding of attributes in the class hierarchy of an object as required."
   ]
  },
  {
   "cell_type": "markdown",
   "id": "f2643516-93a6-480f-a32f-9d111ae86a8e",
   "metadata": {},
   "source": [
    "**Q3. How do you distinguish between a class object and an instance object?**"
   ]
  },
  {
   "cell_type": "markdown",
   "id": "c4565394-16f5-4ff2-b5fc-88369c4da47f",
   "metadata": {},
   "source": [
    "In Python, a class object and an instance object represent different concepts in the object-oriented programming paradigm.\n",
    "1. Class Object: A class object represents the class itself. It is created when the class is defined and acts as a blueprint or template for creating instances of that class. The class object holds information about the class, including its attributes and methods. You can access and modify class-level attributes and methods through the class object. Class objects are typically used to define the structure, behavior, and characteristics that instances of the class will possess.\n",
    "Example:"
   ]
  },
  {
   "cell_type": "code",
   "execution_count": 2,
   "id": "aaeac3bb-8b1e-4a35-8174-badf467cd26c",
   "metadata": {},
   "outputs": [
    {
     "name": "stdout",
     "output_type": "stream",
     "text": [
      "blue\n",
      "6\n"
     ]
    }
   ],
   "source": [
    "class Car:\n",
    "    color = 'blue'\n",
    "    wheels = 4\n",
    "print(Car.color)  # Accessing class attribute\n",
    "# Output: 'blue'\n",
    "Car.wheels = 6  # Modifying class attribute\n",
    "print(Car.wheels)\n",
    "# Output: 6"
   ]
  },
  {
   "cell_type": "markdown",
   "id": "a14cc06c-aee6-44d6-ad7d-ef6cfda7cabb",
   "metadata": {},
   "source": [
    "2. Instance Object: An instance object, also known as an instance, is created by calling the class object as if it were a function. It represents a specific occurrence or instantiation of the class. Each instance has its own unique set of attributes and can invoke methods defined in the class. Instances can have different attribute values, even if they belong to the same class. They allow for individual data storage and manipulation.\n",
    "Example:"
   ]
  },
  {
   "cell_type": "code",
   "execution_count": 1,
   "id": "575b82df-9c47-45cb-9232-b97526b4ac5b",
   "metadata": {},
   "outputs": [
    {
     "name": "stdout",
     "output_type": "stream",
     "text": [
      "red\n",
      "green\n"
     ]
    }
   ],
   "source": [
    "class Car:\n",
    "    def __init__(self, color):\n",
    "        self.color = color\n",
    "my_car = Car('red')  # Creating an instance of the Car class\n",
    "print(my_car.color)  # Accessing instance attribute\n",
    "# Output: 'red'\n",
    "my_car.color = 'green'  # Modifying instance attribute\n",
    "print(my_car.color)"
   ]
  },
  {
   "cell_type": "markdown",
   "id": "cb1f3feb-abd1-43a4-a701-57ea3ead98b6",
   "metadata": {},
   "source": [
    "**Q4. What makes the first argument in a class’s method function special?**"
   ]
  },
  {
   "cell_type": "markdown",
   "id": "37cd7ced-2d00-4aba-87bb-85352e8eecde",
   "metadata": {},
   "source": [
    "'self' is often the name of the first argument in a class' method function in Python. Because it refers to the class instance on which the method is called, this parameter is unique. It serves as a pointer to the particular object that invoked the procedure.\n",
    "The class instance itself is automatically supplied as the first argument to a method when it is called on an instance of the class. This enables the method to call other methods inside the class to access and modify the attributes of the instance.\n",
    "Although it is a common moniker, Python does not use the term \"self.\" Although you technically have the option to substitute any other legal variable name for \"self,\" doing so will improve code readability and ensure that your programme is consistent with other Python scripts.\n",
    "Here is an illustration of how to use the word \"self\":"
   ]
  },
  {
   "cell_type": "code",
   "execution_count": 3,
   "id": "4f85575e-ee2a-48a7-b072-e316fa79e210",
   "metadata": {},
   "outputs": [
    {
     "name": "stdout",
     "output_type": "stream",
     "text": [
      "blue\n"
     ]
    }
   ],
   "source": [
    "class Car:\n",
    "    def __init__(self, color):\n",
    "        self.color = color\n",
    "    def get_color(self):\n",
    "        return self.color\n",
    "my_car = Car('blue')\n",
    "print(my_car.get_color())\n"
   ]
  },
  {
   "cell_type": "markdown",
   "id": "b69475f1-9aa0-49f1-b5c4-7f468f5720a4",
   "metadata": {},
   "source": [
    "The 'get_color' method in the example above accepts'self' as the first argument, which refers to the instance of the 'Car' class. The method's internal variable'self.color' has access to the instance's 'colour' property, enabling it to find and return the colour value specific to that instance.\n",
    "Although it is customary for a method's first argument to be called \"self,\" you are free to use any other legitimate variable name. To make your codebase more comprehensible for other developers, it is crucial to uphold consistency."
   ]
  },
  {
   "cell_type": "markdown",
   "id": "5f66b6ba-d6b2-4808-aed2-d2db1aad85ac",
   "metadata": {},
   "source": [
    "**Q5. What is the purpose of the __init__ method?**"
   ]
  },
  {
   "cell_type": "markdown",
   "id": "eb6632fb-8432-4bdf-9c62-1327b0fccbc6",
   "metadata": {},
   "source": [
    "When a new instance of a class is created, Python's special '__init__' method, commonly known as a constructor, is immediately invoked. Initialising the properties and carrying out any necessary setup or configuration for the instance are its intended uses.\n",
    "Based on the arguments supplied when the object was created, you can define and assign values to the attributes of the instance using the '__init__' method. It usually serves to establish an object's initial state by giving its attributes default or user-specified values.\n",
    "Here is an example to show how to use the '__init__' command:"
   ]
  },
  {
   "cell_type": "code",
   "execution_count": 4,
   "id": "db3f2932-5344-4176-b3a5-829dbae6d6e1",
   "metadata": {},
   "outputs": [
    {
     "name": "stdout",
     "output_type": "stream",
     "text": [
      "blue\n",
      "Toyota\n"
     ]
    }
   ],
   "source": [
    "class Car:\n",
    "    def __init__(self, color, brand):\n",
    "        self.color = color\n",
    "        self.brand = brand\n",
    "my_car = Car('blue', 'Toyota')\n",
    "print(my_car.color)\n",
    "\n",
    "print(my_car.brand)"
   ]
  },
  {
   "cell_type": "markdown",
   "id": "1ac2be58-88b9-471b-b2b2-e63999902a6c",
   "metadata": {},
   "source": [
    "The '__init__' method in the sample above accepts the arguments'self', 'colour', and 'brand'. The method assigns the instance's self.color and self.brand attributes with the values colour and brand, respectively.\n",
    "You may make sure that each time a class instance is generated, it is initialised with the required attributes by creating the '__init__' method. By doing so, you can manage the objects' initial state and make sure they have the appropriate information before any additional methods are called on them.\n",
    "It's crucial to remember that the '__init__' method is not required. If you don't define it in your class, you can still create objects, but they won't have any initialization other than the properties they inherit from the class or any defaults you provide in the class declaration.\n",
    "In general, the '__init__' method is essential for setting up an object's initial state when it is formed and initialising its attributes."
   ]
  },
  {
   "cell_type": "markdown",
   "id": "d8569fd3-cc78-495f-b3c4-1496fbffbfd9",
   "metadata": {},
   "source": [
    "**Q6. What is the process for creating a class instance?**"
   ]
  },
  {
   "cell_type": "markdown",
   "id": "4acab107-a1f5-44c8-bb78-fc4e9e6150a4",
   "metadata": {},
   "source": [
    "To create a class instance in Python, you follow these steps:\n",
    "1. Define the Class: First, you need to define the class blueprint by using the `class` keyword followed by the class name. Inside the class, you can define attributes and methods that the instances will possess.\n",
    "2. Instantiate the Class: To create an instance of the class, you call the class as if it were a function, passing any necessary arguments to the class's `__init__` method. This process is known as instantiation. The `__init__` method initializes the instance's attributes and sets up its initial state.\n",
    "3. Access Instance Attributes and Methods: Once the instance is created, you can access its attributes and invoke its methods using dot notation (`.`). This allows you to interact with the instance and perform operations specific to that instance.\n",
    "Here's an example that demonstrates the process of creating a class instance:"
   ]
  },
  {
   "cell_type": "code",
   "execution_count": 5,
   "id": "d2446627-fa9c-4c38-b106-e3202162d9f9",
   "metadata": {},
   "outputs": [
    {
     "name": "stdout",
     "output_type": "stream",
     "text": [
      "blue\n",
      "Toyota\n",
      "The blue Toyota is accelerating.\n"
     ]
    }
   ],
   "source": [
    "class Car:\n",
    "    def __init__(self, color, brand):\n",
    "        self.color = color\n",
    "        self.brand = brand\n",
    "    def accelerate(self):\n",
    "        print(f\"The {self.color} {self.brand} is accelerating.\")\n",
    "# Create an instance of the Car class\n",
    "my_car = Car('blue', 'Toyota')\n",
    "# Access instance attributes\n",
    "print(my_car.color)\n",
    "\n",
    "print(my_car.brand)\n",
    "\n",
    "# Invoke instance method\n",
    "my_car.accelerate()\n"
   ]
  },
  {
   "cell_type": "markdown",
   "id": "a2b8d942-7c97-4758-b641-87e35a5fa77d",
   "metadata": {},
   "source": [
    "In the above example, the `Car` class is defined with an `__init__` method that sets the `color` and `brand` attributes of the instance. Then, an instance of the class is created by calling `Car('blue', 'Toyota')`, and the resulting instance is assigned to the `my_car` variable.\n",
    "After the instance is created, we can access its attributes (`my_car.color`, `my_car.brand`) and invoke its methods (`my_car.accelerate()`) using dot notation.\n",
    "By following this process, you can create instances of a class, each with its own unique set of attributes and behavior, and interact with them as needed in your program."
   ]
  },
  {
   "cell_type": "markdown",
   "id": "00ecc3de-f208-4a07-8392-2ca010d059b2",
   "metadata": {},
   "source": [
    "**Q7. What is the process for creating a class?**"
   ]
  },
  {
   "cell_type": "markdown",
   "id": "bf8aed73-13c9-4000-8779-96ad79656aed",
   "metadata": {},
   "source": [
    "To create a class in Python, you follow these steps:\n",
    "1. Use the `class` keyword: Start by using the `class` keyword, followed by the name you want to give to your class. The class name should follow the naming conventions for Python identifiers.\n",
    "2. Define class attributes and methods: Inside the class block, you can define attributes and methods that will be associated with objects created from the class. Attributes represent the data or characteristics of the objects, while methods represent the functions or behaviors that the objects can perform.\n",
    "3. Instantiate objects from the class: Once the class is defined, you can create objects or instances of the class by calling the class as if it were a function. This process is known as instantiation and involves creating an object that inherits the attributes and methods defined in the class.\n",
    "Here's an example that demonstrates the process of creating a class:"
   ]
  },
  {
   "cell_type": "code",
   "execution_count": 6,
   "id": "ef2e4c54-e42f-4957-8533-7131f0bef31e",
   "metadata": {},
   "outputs": [
    {
     "name": "stdout",
     "output_type": "stream",
     "text": [
      "blue\n",
      "Toyota\n",
      "The blue Toyota is accelerating.\n"
     ]
    }
   ],
   "source": [
    "class Car:\n",
    "    def __init__(self, color, brand):\n",
    "        self.color = color\n",
    "        self.brand = brand\n",
    "    def accelerate(self):\n",
    "        print(f\"The {self.color} {self.brand} is accelerating.\")\n",
    "# Create an instance of the Car class\n",
    "my_car = Car('blue', 'Toyota')\n",
    "# Access instance attributes\n",
    "print(my_car.color)\n",
    "\n",
    "print(my_car.brand)\n",
    "\n",
    "# Invoke instance method\n",
    "my_car.accelerate()\n"
   ]
  },
  {
   "cell_type": "markdown",
   "id": "a37774b7-c4e1-4095-853e-748ffc005661",
   "metadata": {},
   "source": [
    "In the above example, the `Car` class is created with the `class` keyword. Inside the class, there is an `__init__` method that initializes the instance attributes `color` and `brand`. Additionally, there is a `accelerate` method that represents a behavior of the car.\n",
    "To create an instance of the `Car` class, we call it as a function, passing the required arguments to the `__init__` method (`Car('blue', 'Toyota')`). This creates a new object or instance of the class, which is assigned to the `my_car` variable.\n",
    "Once the object is created, we can access its attributes (`my_car.color`, `my_car.brand`) and invoke its methods (`my_car.accelerate()`) using dot notation.\n",
    "By following this process, you can define classes to encapsulate data and behavior, and then create instances of those classes to work with objects in your program."
   ]
  },
  {
   "cell_type": "markdown",
   "id": "5af2d7cd-8752-4955-aa12-90efda4d405b",
   "metadata": {},
   "source": [
    "**Q8. How would you define the superclasses of a class?**"
   ]
  },
  {
   "cell_type": "markdown",
   "id": "84c892ce-c6ad-4524-93fa-cb927f23a3d9",
   "metadata": {},
   "source": [
    "The superclasses of a class, also known as base classes or parent classes, are the classes from which a particular class inherits attributes and methods. In Python, you can define the superclasses of a class by specifying them in the class definition using the inheritance syntax.\n",
    "The inheritance syntax in Python is as follows:"
   ]
  },
  {
   "cell_type": "markdown",
   "id": "f92d73b5-71db-494f-9bd0-ef99e71bd3c9",
   "metadata": {},
   "source": [
    "class ChildClass(Superclass1, Superclass2, ...):\n",
    "\n",
    "    # Class body\n",
    "    pass"
   ]
  },
  {
   "cell_type": "markdown",
   "id": "661d2bc2-72f3-40fa-bb67-974a4d56c8d3",
   "metadata": {},
   "source": [
    "In the above syntax, the class `ChildClass` is defined with `Superclass1`, `Superclass2`, and so on, as its superclasses. The order of superclasses matters because it determines the method resolution order (MRO) and affects how attribute lookup and inheritance behave.\n",
    "Here's an example to illustrate the definition of superclasses:"
   ]
  },
  {
   "cell_type": "code",
   "execution_count": 7,
   "id": "7db425dc-8ce5-406c-9cff-2e6a4a90ab28",
   "metadata": {},
   "outputs": [
    {
     "name": "stdout",
     "output_type": "stream",
     "text": [
      "The car is accelerating.\n",
      "The vehicle is moving.\n"
     ]
    }
   ],
   "source": [
    "\n",
    "class Vehicle:\n",
    "    def move(self):\n",
    "        print(\"The vehicle is moving.\")\n",
    "class Car(Vehicle):\n",
    "    def accelerate(self):\n",
    "        print(\"The car is accelerating.\")\n",
    "my_car = Car()\n",
    "my_car.accelerate()\n",
    "\n",
    "my_car.move()\n"
   ]
  },
  {
   "cell_type": "markdown",
   "id": "014554a8-656b-4e03-b7cc-61e1c0bcbde0",
   "metadata": {},
   "source": [
    "In the above example, we define two classes: `Vehicle` and `Car`. The `Car` class is derived from the `Vehicle` class by specifying `Vehicle` as the superclass in the class definition.\n",
    "By defining `Car(Vehicle)`, the `Car` class inherits the `move` method from the `Vehicle` class. This means that instances of `Car` have both their own methods (`accelerate`) and the inherited methods (`move`) from the superclass.\n",
    "When we create an instance of `Car` (`my_car = Car()`), we can invoke both the methods specific to `Car` (`my_car.accelerate()`) and the methods inherited from `Vehicle` (`my_car.move()`).\n",
    "By specifying superclasses in the class definition, you establish a hierarchical relationship between classes and enable code reuse through inheritance. The subclass inherits the attributes and methods of its superclasses, allowing you to create specialized classes that extend or modify the behavior of their parent classes."
   ]
  },
  {
   "cell_type": "code",
   "execution_count": null,
   "id": "f6c92b1a-70d7-49cb-bc84-076fbd1545bb",
   "metadata": {},
   "outputs": [],
   "source": []
  }
 ],
 "metadata": {
  "kernelspec": {
   "display_name": "Python 3 (ipykernel)",
   "language": "python",
   "name": "python3"
  },
  "language_info": {
   "codemirror_mode": {
    "name": "ipython",
    "version": 3
   },
   "file_extension": ".py",
   "mimetype": "text/x-python",
   "name": "python",
   "nbconvert_exporter": "python",
   "pygments_lexer": "ipython3",
   "version": "3.10.6"
  }
 },
 "nbformat": 4,
 "nbformat_minor": 5
}
