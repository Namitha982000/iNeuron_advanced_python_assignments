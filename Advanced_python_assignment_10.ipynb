{
 "cells": [
  {
   "cell_type": "markdown",
   "id": "27fbda15-625b-44bb-915a-0de459836cc0",
   "metadata": {},
   "source": [
    "# Assignment 10"
   ]
  },
  {
   "cell_type": "markdown",
   "id": "9dfc9b07-64bd-499f-b43b-96017b7d1e43",
   "metadata": {},
   "source": [
    "**Q1. What is the difference between __getattr__ and __getattribute__?**"
   ]
  },
  {
   "cell_type": "markdown",
   "id": "596ba4be-e49f-44ff-b6d3-8baf9dae1fe6",
   "metadata": {},
   "source": [
    "Both `__getattr__` and `__getattribute__` are special methods in Python that are called when an attribute is accessed on an object. However, there is a significant difference between them:\n",
    "1. `__getattr__(self, name)`: This method is called when an attribute that doesn't exist is accessed. It allows you to define custom behavior for handling attribute access for non-existing attributes. It takes two parameters: `self` (the instance of the object) and `name` (the name of the attribute being accessed).\n",
    "   If `__getattr__` is defined in a class, it is only called when a non-existing attribute is accessed. It is not called for existing attributes or for special methods (e.g., `__init__`, `__str__`). This method is generally used for implementing \"attribute lookup fallback\" behavior or handling dynamic attributes.\n",
    "   Here's an example:"
   ]
  },
  {
   "cell_type": "code",
   "execution_count": 1,
   "id": "b33169a8-7434-4686-9dae-537a22c4ce2b",
   "metadata": {},
   "outputs": [
    {
     "name": "stdout",
     "output_type": "stream",
     "text": [
      "Accessed non-existing attribute: foo\n"
     ]
    }
   ],
   "source": [
    "\n",
    "class Example:\n",
    "   def __getattr__(self, name):\n",
    "       return f\"Accessed non-existing attribute: {name}\"\n",
    "obj = Example()\n",
    "print(obj.foo) "
   ]
  },
  {
   "cell_type": "markdown",
   "id": "05432b96-4133-4f74-b18e-d768cc7cedb9",
   "metadata": {},
   "source": [
    "2. `__getattribute__(self, name)`: This method is called for every attribute access, whether the attribute exists or not. It is called before `__getattr__` and allows you to define custom behavior for attribute access, including existing attributes and special methods. This method is typically used for implementing attribute access control or performing additional actions on attribute access.\n",
    "   It is important to be cautious when implementing `__getattribute__` because any attempt to access an attribute within the method itself can trigger an infinite recursion. To avoid this, you can use the `super()` function to access the attribute from the superclass.\n",
    "   Here's an example:"
   ]
  },
  {
   "cell_type": "code",
   "execution_count": 2,
   "id": "33c38393-6cd7-4c34-95c1-b2706ec6f826",
   "metadata": {},
   "outputs": [
    {
     "name": "stdout",
     "output_type": "stream",
     "text": [
      "Accessing attribute: existing_method\n",
      "Existing method\n"
     ]
    }
   ],
   "source": [
    "\n",
    "class Example:\n",
    "   def __getattribute__(self, name):\n",
    "       print(f\"Accessing attribute: {name}\")\n",
    "       return super().__getattribute__(name)\n",
    "   def existing_method(self):\n",
    "       return \"Existing method\"\n",
    "obj = Example()\n",
    "print(obj.existing_method())  \n"
   ]
  },
  {
   "cell_type": "markdown",
   "id": "cad33ae2-9112-48e3-bde9-b97a759893dc",
   "metadata": {},
   "source": [
    "**Q2. What is the difference between properties and descriptors?**"
   ]
  },
  {
   "cell_type": "markdown",
   "id": "d8e6d01a-6b3e-4023-8aed-863ce2a063c8",
   "metadata": {},
   "source": [
    "Properties and descriptors are both mechanisms in Python that allow you to define controlled access to attributes of an object. However, there are some differences between them:\n",
    "Properties:\n",
    "- Properties are a high-level feature provided by Python that allow you to define special methods (getter, setter, and deleter) for attribute access.\n",
    "- Properties are defined on a per-attribute basis within a class, using the `@property`, `@attribute_name.setter`, and `@attribute_name.deleter` decorators.\n",
    "- Properties provide a clean and straightforward syntax for attribute access, making it appear like accessing a regular attribute.\n",
    "- Properties are usually defined within the class where the attribute is being accessed or modified.\n",
    "- Properties are specific to the attributes they are defined for, and each attribute can have its own getter, setter, and deleter methods.\n",
    "- Properties can be used to add additional behavior or logic when accessing or modifying attributes, such as validation or computation.\n",
    "Descriptors:\n",
    "- Descriptors are a lower-level feature in Python that allows you to define how attribute access and modification are handled using special methods defined in a separate descriptor class.\n",
    "- Descriptors are defined as separate classes that implement at least one of the descriptor methods: `__get__()`, `__set__()`, or `__delete__()`.\n",
    "- Descriptors are typically defined outside the class where the attribute is being accessed or modified.\n",
    "- Descriptors can be shared across multiple attributes or even multiple classes.\n",
    "- Descriptors allow more fine-grained control over attribute access, as they can define behavior for multiple attributes simultaneously.\n",
    "- Descriptors can be used to implement custom attribute access patterns, enforce access restrictions, or define computed attributes.\n",
    "In summary, properties provide a convenient and high-level way to define controlled attribute access within a class, while descriptors offer lower-level control and flexibility for managing attribute access and modification across multiple attributes or classes. Properties are often used for simple attribute access control and behavior, while descriptors are more suitable for advanced scenarios that require fine-grained control over attribute handling."
   ]
  },
  {
   "cell_type": "markdown",
   "id": "ccd2f981-43e8-40b6-940b-04efe54f088a",
   "metadata": {},
   "source": [
    "**Q3. What are the key differences in functionality between __getattr__ and __getattribute__, as well as properties and descriptors?**"
   ]
  },
  {
   "cell_type": "markdown",
   "id": "e561c50a-fd40-4b67-bbeb-65ae055c65cf",
   "metadata": {},
   "source": [
    "The key differences in functionality between `__getattr__`, `__getattribute__`, properties, and descriptors are as follows:\n",
    "1. __getattr__ vs. __getattribute__:\n",
    "- `__getattr__(self, name)` is called when accessing a non-existing attribute, while `__getattribute__(self, name)` is called for every attribute access, whether the attribute exists or not.\n",
    "- `__getattr__` is a fallback mechanism for handling non-existing attributes, allowing you to define custom behavior. It is not called for existing attributes or special methods.\n",
    "- `__getattribute__` is called for all attribute accesses and allows you to define custom behavior for attribute access, including existing attributes and special methods.\n",
    "- `__getattr__` is typically used for implementing \"attribute lookup fallback\" behavior or handling dynamic attributes, while `__getattribute__` is used for attribute access control or performing additional actions on attribute access.\n",
    "2. Properties vs. Descriptors:\n",
    "- Properties provide a high-level way to define special methods (getter, setter, and deleter) for attribute access within a class.\n",
    "- Properties are defined on a per-attribute basis using decorators (`@property`, `@attribute_name.setter`, and `@attribute_name.deleter`) and provide a clean syntax for attribute access.\n",
    "- Properties are specific to the attributes they are defined for, and each attribute can have its own getter, setter, and deleter methods.\n",
    "- Descriptors are a lower-level feature that allows you to define how attribute access and modification are handled using special methods in a separate descriptor class.\n",
    "- Descriptors are typically defined outside the class where the attribute is being accessed or modified and can be shared across multiple attributes or classes.\n",
    "- Descriptors offer more fine-grained control over attribute access, as they can define behavior for multiple attributes simultaneously and can implement custom attribute access patterns or computed attributes.\n",
    "- Properties are often used for simple attribute access control and behavior, while descriptors are more suitable for advanced scenarios that require fine-grained control over attribute handling.\n",
    "In summary, `__getattr__` and `__getattribute__` are special methods that control attribute access, with `__getattr__` being a fallback for non-existing attributes and `__getattribute__` being called for all attribute accesses. Properties provide a high-level way to define controlled attribute access within a class, while descriptors offer lower-level control and flexibility for managing attribute access and modification across multiple attributes or classes."
   ]
  },
  {
   "cell_type": "markdown",
   "id": "2a2e98d1-3e6f-4964-b2c2-e9cea53bd15e",
   "metadata": {},
   "source": []
  }
 ],
 "metadata": {
  "kernelspec": {
   "display_name": "Python 3 (ipykernel)",
   "language": "python",
   "name": "python3"
  },
  "language_info": {
   "codemirror_mode": {
    "name": "ipython",
    "version": 3
   },
   "file_extension": ".py",
   "mimetype": "text/x-python",
   "name": "python",
   "nbconvert_exporter": "python",
   "pygments_lexer": "ipython3",
   "version": "3.10.6"
  }
 },
 "nbformat": 4,
 "nbformat_minor": 5
}
