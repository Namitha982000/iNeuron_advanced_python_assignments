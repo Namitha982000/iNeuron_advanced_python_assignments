{
 "cells": [
  {
   "cell_type": "markdown",
   "id": "093a3164-4495-4aab-8000-6543fadd462d",
   "metadata": {},
   "source": [
    "# Assignment 11"
   ]
  },
  {
   "cell_type": "markdown",
   "id": "5c3ab762-70c6-4502-a2bd-9ea3ba4fd29b",
   "metadata": {},
   "source": [
    "**Q1. What is the concept of a metaclass?**"
   ]
  },
  {
   "cell_type": "markdown",
   "id": "75246c73-7382-46dd-9d30-7ec3b15f5330",
   "metadata": {},
   "source": [
    "The idea of specifying the structure and behaviour of classes themselves is at the heart of the metaclass concept. Similar to how a class dictates how an instance should be generated, a metaclass in Python is a class that specifies how a class should be created. A metaclass is the class of a class, to put it another way.\n",
    "When you define a class in Python, the metaclass governs its formation and behaviour. The built-in 'type' metaclass is the default metaclass for a class. By subclassing 'type' or utilising existing metaclasses, you can define your own metaclasses.\n",
    "By offering hooks for updating class attributes, adding or modifying methods, or carrying out other actions during class construction, metaclasses let you personalise class creation and behaviour. Metaclasses are helpful in a variety of situations, including the implementation of class decorators, the enforcement of coding standards, the development of domain-specific languages (DSLs), and the construction of frameworks with specified class behaviour.\n",
    "Typically, to define a metaclass, one must define a class that subclasses 'type' or another metaclass. The '__new__()' and '__init__()' methods of this metaclass are special ones that let you customise how classes are created and initialised. You can link a metaclass with a class by using the'metaclass' option to specify it or by setting the '__metaclass__' property.\n",
    "Here's a simple example of a metaclass that adds a prefix to all attribute names of its associated classes:"
   ]
  },
  {
   "cell_type": "code",
   "execution_count": 6,
   "id": "55300eaa-f98d-4b49-876e-bcbe39fa8b55",
   "metadata": {},
   "outputs": [
    {
     "name": "stdout",
     "output_type": "stream",
     "text": [
      "42\n"
     ]
    }
   ],
   "source": [
    "class PrefixMetaclass(type):\n",
    "    def __new__(cls, name, bases, attrs):\n",
    "        prefix = attrs.pop('prefix', '')\n",
    "        prefixed_attrs = {prefix + attr_name: attr_value for attr_name, attr_value in attrs.items()}\n",
    "        return super().__new__(cls, name, bases, prefixed_attrs)\n",
    "class MyClass(metaclass=PrefixMetaclass):\n",
    "    prefix = 'my_'\n",
    "    attribute = 42\n",
    "print(MyClass.my_attribute)  # Output: 42"
   ]
  },
  {
   "cell_type": "markdown",
   "id": "ae299de6-aa6d-46cc-957b-a250ee1f718e",
   "metadata": {},
   "source": [
    "In the aforementioned illustration, the 'PrefixMetaclass' specifies the '__new__()' function, which, prior to constructing the class, prefixes all attribute names in the 'attrs' dictionary. The 'prefix' attribute is specified by the 'MyClass' class, which utilises 'PrefixMetaclass' as its metaclass. Because of this, the attribute 'attribute' is prefixed with ''my_'', and we can access it as 'MyClass.my_attribute'.\n",
    "Although metaclasses offer strong tools for expanding and customising class formation and behaviour, they should only be used with care because they introduce complicated ideas and increase the complexity of the code."
   ]
  },
  {
   "cell_type": "markdown",
   "id": "2e200467-b79b-4bf7-a06a-d0ab0fe521ad",
   "metadata": {},
   "source": [
    "**Q2. What is the best way to declare a class&#39;s metaclass?**"
   ]
  },
  {
   "cell_type": "markdown",
   "id": "b2a551c5-4c7e-4bd3-8839-be787b3d122e",
   "metadata": {},
   "source": [
    "By include the metaclass argument in the class specification, you can declare a class's metaclass in Python. You can define a special metaclass for a class using the metaclass argument. Here are several methods for announcing a class's metaclass."
   ]
  },
  {
   "cell_type": "markdown",
   "id": "b404a21e-5670-4cdd-b5d9-f7196573d044",
   "metadata": {},
   "source": [
    "1. Inherit from a metaclass:"
   ]
  },
  {
   "cell_type": "code",
   "execution_count": 1,
   "id": "da8468f4-6672-4f98-a302-0508c621027c",
   "metadata": {},
   "outputs": [],
   "source": [
    "class MyMetaclass(type):\n",
    "    pass\n",
    "\n",
    "class MyClass(metaclass=MyMetaclass):\n",
    "    pass\n"
   ]
  },
  {
   "cell_type": "markdown",
   "id": "63cd95a7-df75-4f93-aff1-6e4134f1d241",
   "metadata": {},
   "source": [
    "2. Set the __metaclass__ attribute within the class:"
   ]
  },
  {
   "cell_type": "code",
   "execution_count": 2,
   "id": "3f024de4-838a-4d20-9f65-218f78d931e9",
   "metadata": {},
   "outputs": [],
   "source": [
    "class MyClass:\n",
    "    __metaclass__ = MyMetaclass\n",
    "    pass\n"
   ]
  },
  {
   "cell_type": "markdown",
   "id": "e45fbf34-b8d4-4fbc-ad10-cc877d683e41",
   "metadata": {},
   "source": [
    "3. Use the @staticmethod decorator with a metaclass:"
   ]
  },
  {
   "cell_type": "code",
   "execution_count": 3,
   "id": "b2e232bb-d8bb-4747-8212-7200761e8526",
   "metadata": {},
   "outputs": [],
   "source": [
    "class MyClass:\n",
    "    @staticmethod\n",
    "    def __init_subclass__(cls, **kwargs):\n",
    "        super().__init_subclass__(**kwargs)\n",
    "        # Custom metaclass logic here\n"
   ]
  },
  {
   "cell_type": "markdown",
   "id": "bcceef1a-b7e2-480c-966d-f50c24b1290a",
   "metadata": {},
   "source": [
    "It's crucial to remember that your individual needs and use case will influence the metaclass you select. If no custom metaclass is supplied, Python's built-in type metaclass is utilised by default. You can modify and override a number of characteristics of class formation and behaviour when establishing a custom metaclass. Strong tools for changing class creation, attribute access, and other class-related behaviours are provided via metaclasses."
   ]
  },
  {
   "cell_type": "markdown",
   "id": "0522946a-27c6-4440-b454-e308d7889d7b",
   "metadata": {},
   "source": [
    "**Q3. How do class decorators overlap with metaclasses for handling classes?**"
   ]
  },
  {
   "cell_type": "markdown",
   "id": "b597e989-e2b7-4080-ac8b-e11920aafdd8",
   "metadata": {},
   "source": [
    "Python has two distinct ways for changing or extending class behaviour: class decorators and metaclasses. They function at various phases of class development and offer varying degrees of flexibility, despite the fact that they can sometimes produce outcomes that are comparable. Here is a summary of the similarities and differences between class decorators and metaclasses:\n",
    "\n",
    "Class Decorators:\n",
    "- The '@decorator' syntax is used to apply functions to a class declaration.\n",
    "- They are carried out immediately following the processing of the class definition but before the class is actually generated.\n",
    "- Class decorators have the ability to directly alter a class by adding, changing, or removing attributes or methods.\n",
    "- They can be applied to the class to change its behaviour, provide functionality, or perform transformations.\n",
    "- Class decorators are used on a per-class basis; they have no bearing on the hierarchy of the class or its inheritance.\n",
    "\n",
    "Metaclasses:\n",
    "- Metaclasses are in charge of defining classes and managing the class definition procedure.\n",
    "- They are defined by using the '__metaclass__' attribute or by specifying the'metaclass' parameter in the class specification.\n",
    "- Metaclasses are able to specify and regulate actions taken at the class level, including attribute access, method resolution, and class formation.\n",
    "- In an inheritance structure, they can have an impact on many classes and function at a lower level than class decorators.\n",
    "- To impose coding standards, add class-level validation, or change class behaviour globally, metaclasses can be utilised.\n",
    "\n",
    "Overlap and Interaction:\n",
    "- Class modifications can be made more complicated by combining the use of metaclasses and class decorators.\n",
    "- A class with a metaclass can use class decorators to further customise it beyond what the metaclass already offers.\n",
    "- By examining the class's properties or other metadata, metaclasses can be created that can recognise and interact with class decorators.\n",
    "- The way that class decorators and metaclasses interact relies on the needs and implementation details. If their behaviours overlap, they can enhance one another or cause conflicts."
   ]
  },
  {
   "cell_type": "markdown",
   "id": "50ad18aa-e699-4f45-aea3-645f6cdb67bc",
   "metadata": {},
   "source": [
    "**Q4. How do class decorators overlap with metaclasses for handling instances**"
   ]
  },
  {
   "cell_type": "markdown",
   "id": "3e23a8f2-d888-41ec-9a90-ca07a6273dce",
   "metadata": {},
   "source": [
    "Instead than handling instances, class decorators and metaclasses mostly deal with classes. By altering the actions of the classes to which those instances belong, they can nevertheless have an indirect impact on the instances.\n",
    "\n",
    "1. Class Decorators:\n",
    "By altering the class itself, class decorators might indirectly change how instances behave. A class decorator often produces a new class with altered behaviour when it is applied to a class. The modifications made by the decorator will be inherited by all instances made from the modified class. An example of this would be the addition of additional methods or properties to a class that would be available to instances of that class by a class decorator.\n",
    "\n",
    "2. Metaclasses:\n",
    "On the other side, metaclasses are in charge of class creation and initialization. They can alter class construction and behaviour at a more fundamental level than class decorators. Metaclasses have the power to alter a class's design, including the attributes, methods, and inheritance structure. Metaclasses might indirectly alter the behaviour of instances formed from the modified class by interfering with the creation process.\n",
    "\n",
    "Metaclasses have more direct influence over class creation and can thus indirectly affect the behaviour of instances, whereas class decorators primarily alter the behaviour of classes, which can indirectly effect instances. In Python, both approaches offer strong tools for modifying how classes and their instances behave."
   ]
  },
  {
   "cell_type": "markdown",
   "id": "09950d5d-9864-475e-ac49-1b062c9ce6e0",
   "metadata": {},
   "source": []
  }
 ],
 "metadata": {
  "kernelspec": {
   "display_name": "Python 3 (ipykernel)",
   "language": "python",
   "name": "python3"
  },
  "language_info": {
   "codemirror_mode": {
    "name": "ipython",
    "version": 3
   },
   "file_extension": ".py",
   "mimetype": "text/x-python",
   "name": "python",
   "nbconvert_exporter": "python",
   "pygments_lexer": "ipython3",
   "version": "3.10.6"
  }
 },
 "nbformat": 4,
 "nbformat_minor": 5
}
