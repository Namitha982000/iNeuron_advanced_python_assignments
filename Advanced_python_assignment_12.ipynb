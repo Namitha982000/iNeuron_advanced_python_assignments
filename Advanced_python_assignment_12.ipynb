{
 "cells": [
  {
   "cell_type": "markdown",
   "id": "bebd5fa4-f2d8-47be-9313-87476b45d367",
   "metadata": {},
   "source": [
    "# Assignment 12"
   ]
  },
  {
   "cell_type": "markdown",
   "id": "2d073c33-c574-4def-a211-a1932c261bb6",
   "metadata": {},
   "source": [
    "**Q1. Does assigning a value to a string's indexed character violate Python's string immutability?**"
   ]
  },
  {
   "cell_type": "markdown",
   "id": "fd533c6b-e1bc-490c-a113-8ae1ec415c1f",
   "metadata": {},
   "source": [
    "Yes, directly breaking Python's string immutability by giving a value to a string's indexed character. Strings in Python are immutable, which means that once they are produced, they cannot be altered. A string's individual characters cannot be changed directly.\n",
    "\n",
    "Python will generate a \"TypeError\" with the message \"'str' object does not support item assignment\" if you attempt to assign a value to a particular character in a string using indexing. Because Python strings are intended to be immutable, guaranteeing that their contents remain constant, this mistake arises."
   ]
  },
  {
   "cell_type": "code",
   "execution_count": 2,
   "id": "d1d1ec27-45be-47b6-af99-b264f31741d8",
   "metadata": {},
   "outputs": [
    {
     "ename": "TypeError",
     "evalue": "'str' object does not support item assignment",
     "output_type": "error",
     "traceback": [
      "\u001b[0;31m---------------------------------------------------------------------------\u001b[0m",
      "\u001b[0;31mTypeError\u001b[0m                                 Traceback (most recent call last)",
      "Cell \u001b[0;32mIn [2], line 4\u001b[0m\n\u001b[1;32m      1\u001b[0m \u001b[38;5;66;03m#For example, consider the following code snippet:\u001b[39;00m\n\u001b[1;32m      3\u001b[0m string \u001b[38;5;241m=\u001b[39m \u001b[38;5;124m\"\u001b[39m\u001b[38;5;124mHello\u001b[39m\u001b[38;5;124m\"\u001b[39m\n\u001b[0;32m----> 4\u001b[0m \u001b[43mstring\u001b[49m\u001b[43m[\u001b[49m\u001b[38;5;241;43m0\u001b[39;49m\u001b[43m]\u001b[49m \u001b[38;5;241m=\u001b[39m \u001b[38;5;124m'\u001b[39m\u001b[38;5;124mJ\u001b[39m\u001b[38;5;124m'\u001b[39m\n",
      "\u001b[0;31mTypeError\u001b[0m: 'str' object does not support item assignment"
     ]
    }
   ],
   "source": [
    "#For example, consider the following code snippet:\n",
    "\n",
    "string = \"Hello\"\n",
    "string[0] = 'J'  # Attempting to assign a new value to the indexed character"
   ]
  },
  {
   "cell_type": "markdown",
   "id": "abf42357-cf7d-435a-81d5-edd1c5d0eb05",
   "metadata": {},
   "source": [
    "The above code will raise a `TypeError` at the line of the assignment. If you need to modify or manipulate a string, you can create a new string by concatenating or using string methods to perform the desired operations."
   ]
  },
  {
   "cell_type": "markdown",
   "id": "4a91fc95-e283-488a-9d2f-56fadcdcd04d",
   "metadata": {},
   "source": [
    "**Q2. Does using the += operator to concatenate strings violate Python's string immutability? Why or why not?**"
   ]
  },
  {
   "cell_type": "markdown",
   "id": "33419991-bd90-4169-9aa8-2852e69deeca",
   "metadata": {},
   "source": [
    "No, concatenating strings with the += operator does not go against Python's string immutability. Python strings are immutable, however when strings are concatenated, the += operator does not alter the original strings in any way. Instead, it combines the contents of the two original strings into a single new string.\n",
    "\n",
    "Python produces a new string object that includes the concatenated result of the original strings when you use the += operator to concatenate strings. The existing original strings are left alone."
   ]
  },
  {
   "cell_type": "code",
   "execution_count": 3,
   "id": "914cb1c3-365d-49e9-b172-c3ff28686dde",
   "metadata": {},
   "outputs": [
    {
     "name": "stdout",
     "output_type": "stream",
     "text": [
      "Hello World\n"
     ]
    }
   ],
   "source": [
    "string1 = \"Hello\"\n",
    "string2 = \" World\"\n",
    "string1 += string2  # Concatenating string2 to string1 using +=\n",
    "\n",
    "print(string1)  # Output: \"Hello World\"\n"
   ]
  },
  {
   "cell_type": "markdown",
   "id": "de1d31e5-77a2-488d-af7f-443d05ef0d9e",
   "metadata": {},
   "source": [
    "In the preceding illustration, string1 += string2 generates a new string object that contains the result of concatenating string1 and string2. There is no alteration to the initial string1. Concatenating strings with the += operator is more effective than using the concatenation operator (+) to create a new string and then assigning it to the original variable.\n",
    "\n",
    "As a result, the += operator adheres to Python's immutability rule for strings by creating a new string object invisibly behind the scenes."
   ]
  },
  {
   "cell_type": "markdown",
   "id": "aad819f4-5863-4052-a2fb-a18f2c400188",
   "metadata": {},
   "source": [
    "**Q3. In Python, how many different ways are there to index a character?**"
   ]
  },
  {
   "cell_type": "markdown",
   "id": "ad7665fa-db2e-4e7f-a748-25ad97f3c181",
   "metadata": {},
   "source": [
    "1. Positive indexing: \n",
    "\n",
    "Starting with 0 for the first character, positive indexing enables you to access characters in a string based on their location. To obtain specific characters, you can use positive integers as indices. For instance:"
   ]
  },
  {
   "cell_type": "code",
   "execution_count": 4,
   "id": "c7c73119-c937-4b60-b7eb-1f7454773637",
   "metadata": {},
   "outputs": [
    {
     "name": "stdout",
     "output_type": "stream",
     "text": [
      "H\n"
     ]
    }
   ],
   "source": [
    "string = \"Hello\"\n",
    "first_character = string[0]  # Accessing the first character using positive indexing\n",
    "print(first_character)  # Output: \"H\"\n"
   ]
  },
  {
   "cell_type": "markdown",
   "id": "425b65a6-3f96-4ff4-add4-8fd41564bc51",
   "metadata": {},
   "source": [
    "2. Negative indexing: \n",
    "\n",
    "With negative indexing, you can count backwards from the end of a string to reach characters within it. The index for the final character is 1, the index for the next-to-last is 2, and so on. You can extract characters from the string's end with the aid of negative indices. For instance:"
   ]
  },
  {
   "cell_type": "code",
   "execution_count": 5,
   "id": "8da6ff36-1fa3-4c4d-96e7-1675fdc72b10",
   "metadata": {},
   "outputs": [
    {
     "name": "stdout",
     "output_type": "stream",
     "text": [
      "o\n"
     ]
    }
   ],
   "source": [
    "string = \"Hello\"\n",
    "last_character = string[-1]  # Accessing the last character using negative indexing\n",
    "print(last_character)  # Output: \"o\"\n"
   ]
  },
  {
   "cell_type": "markdown",
   "id": "d60ec3bc-5584-451e-ae66-b6bdc557b5a7",
   "metadata": {},
   "source": [
    "3. Slicing\n",
    "\n",
    "By defining a range of indices, you can use slicing to extract a section of a string. String[start:end:step] is the syntax for slicing, where start denotes the starting index (inclusive), end denotes the finishing index (exclusive), and step denotes the step value that governs the increase between characters. These default settings will be used if any of the parameters are left out: start=0, end=len(string), and step=1. A new string containing the selected section is produced by slicing. For instance:"
   ]
  },
  {
   "cell_type": "code",
   "execution_count": 6,
   "id": "aa067773-6f16-42d6-89c3-1d0ba5721c86",
   "metadata": {},
   "outputs": [
    {
     "name": "stdout",
     "output_type": "stream",
     "text": [
      "ell\n"
     ]
    }
   ],
   "source": [
    "string = \"Hello\"\n",
    "substring = string[1:4]  # Slicing from index 1 to 4 (exclusive)\n",
    "print(substring)  # Output: \"ell\"\n"
   ]
  },
  {
   "cell_type": "markdown",
   "id": "c77d2016-6b60-49be-9ee4-74d2d83c0b82",
   "metadata": {},
   "source": [
    "**Q4. What is the relationship between indexing and slicing?**"
   ]
  },
  {
   "cell_type": "markdown",
   "id": "63163ab1-b416-47dc-8f11-2caf328abbba",
   "metadata": {},
   "source": [
    "In Python, the concepts of indexing and slicing are interrelated and are employed to access particular items or extract parts of a sequence, such as strings, lists, or tuples.\n",
    "\n",
    "- Indexing:\n",
    "\n",
    "Accessing individual items of a sequence based on their location or index is known as indexing. In Python, indexing begins at 0 for the first element, and you can access elements from the beginning or end of the series by using positive integers or negative integers, respectively. The result of indexing is one element."
   ]
  },
  {
   "cell_type": "code",
   "execution_count": 7,
   "id": "fb8cfc77-95ff-4f09-9103-1e984bab898f",
   "metadata": {},
   "outputs": [
    {
     "name": "stdout",
     "output_type": "stream",
     "text": [
      "H\n"
     ]
    }
   ],
   "source": [
    "string = \"Hello\"\n",
    "first_character = string[0]  # Accessing the first character using positive indexing\n",
    "print(first_character)  # Output: \"H\"\n"
   ]
  },
  {
   "cell_type": "markdown",
   "id": "bd16ecca-4827-477b-994a-14ae2500f511",
   "metadata": {},
   "source": [
    "- Slicing\n",
    "\n",
    "By defining a range of indices, slicing enables you to extract a section of a sequence. From the beginning index (inclusive) to the finishing index (exclusive), components are included in the newly created sequence. The syntax for slicing is start:end:step, where start is the index of the first element, end is the index of the last element, and step is the increment between them. The default settings are used if any of these arguments are left out. A new sequence is returned by slicing."
   ]
  },
  {
   "cell_type": "code",
   "execution_count": 8,
   "id": "91ed52aa-516f-4879-98bf-bc6846a8567a",
   "metadata": {},
   "outputs": [
    {
     "name": "stdout",
     "output_type": "stream",
     "text": [
      "ell\n"
     ]
    }
   ],
   "source": [
    "string = \"Hello\"\n",
    "substring = string[1:4]  # Slicing from index 1 to 4 (exclusive)\n",
    "print(substring)  # Output: \"ell\"\n"
   ]
  },
  {
   "cell_type": "markdown",
   "id": "c1ebb53a-4afe-45ec-9c8e-0098d806578c",
   "metadata": {},
   "source": [
    "- Relationship:\n",
    "\n",
    "One could think of slicing as an expansion of indexing. Slicing gets a sequence of elements based on a variety of indices, as opposed to indexing, which returns a single element at a specified index. You can access or extract elements from a sequence using either indexing or slicing, but the two methods differ in the quantity of elements returned. Slicing produces a new sequence with numerous elements, whereas indexing only produces a single element."
   ]
  },
  {
   "cell_type": "markdown",
   "id": "c1c89d18-6c03-407f-ad76-16b1d06577cb",
   "metadata": {},
   "source": [
    "**Q5. What is an indexed character's exact data type? What is the data form of a slicing-generated substring?**"
   ]
  },
  {
   "cell_type": "markdown",
   "id": "dd9bc349-355a-4769-9a4a-b2db16599c41",
   "metadata": {},
   "source": [
    "A character from a string that is indexable in Python is of the'str' type. A string containing that particular character is returned when you use indexing to access a single character. For instance:"
   ]
  },
  {
   "cell_type": "code",
   "execution_count": 10,
   "id": "1dbea7de-e695-498c-97d4-7b4db12187a8",
   "metadata": {},
   "outputs": [
    {
     "name": "stdout",
     "output_type": "stream",
     "text": [
      "H\n",
      "<class 'str'>\n"
     ]
    }
   ],
   "source": [
    "string = \"Hello\"\n",
    "character = string[0]  # Accessing the first character using indexing\n",
    "print(character)  # Output: \"H\"\n",
    "print(type(character))  # Output: <class 'str'>\n"
   ]
  },
  {
   "cell_type": "markdown",
   "id": "0ba893e6-b312-4b96-a305-6add720d4a4b",
   "metadata": {},
   "source": [
    "'str', a string data type representing the indexed character, is stored in the variable 'character'.\n",
    "\n",
    "On the other hand, a substring created through slicing is also of the'str' type. A new string that includes the extracted section is the outcome of a slice operation on a string. Also of the'str' data type is this substring. For instance:"
   ]
  },
  {
   "cell_type": "code",
   "execution_count": 9,
   "id": "e8062ac4-ee86-41d9-a819-5ea2c422f0d4",
   "metadata": {},
   "outputs": [
    {
     "name": "stdout",
     "output_type": "stream",
     "text": [
      "ell\n",
      "<class 'str'>\n"
     ]
    }
   ],
   "source": [
    "string = \"Hello\"\n",
    "substring = string[1:4]  # Slicing from index 1 to 4 (exclusive)\n",
    "print(substring)  # Output: \"ell\"\n",
    "print(type(substring))  # Output: <class 'str'>"
   ]
  },
  {
   "cell_type": "markdown",
   "id": "69e693a7-028b-4b71-95e7-86608f5237bb",
   "metadata": {},
   "source": [
    "The extracted string fragment is stored as a string data type ('str') in the variable \"substring.\"\n",
    "\n",
    "The final data type is a string ('str') in both scenarios, whether reading an indexed character or creating a substring through slicing."
   ]
  },
  {
   "cell_type": "markdown",
   "id": "625b9657-b1ac-46dd-b8db-163fea38da0e",
   "metadata": {},
   "source": [
    "**Q6. What is the relationship between string and character \"types\" in Python?**"
   ]
  },
  {
   "cell_type": "markdown",
   "id": "6bef2019-29c0-4c54-9be2-f0348fe9d832",
   "metadata": {},
   "source": [
    "In Python, the relationship between string and character \"types\" can be understood as follows:\n",
    "\n",
    "1. String:\n",
    "A string in Python is a collection of characters that are either single (''') or double ('\"') quoted. It is a form of data that is used to store text. Characters that can be included in strings include letters, numbers, symbols, and even whitespace."
   ]
  },
  {
   "cell_type": "code",
   "execution_count": 14,
   "id": "51b2a5ab-87c4-43c5-834a-39250b287be6",
   "metadata": {},
   "outputs": [
    {
     "name": "stdout",
     "output_type": "stream",
     "text": [
      "Hello\n"
     ]
    }
   ],
   "source": [
    "string = \"Hello\"\n",
    "print(string)  # Output: \"Hello\"\n"
   ]
  },
  {
   "cell_type": "markdown",
   "id": "61b00417-827e-49ab-96e8-6a9074f3c54a",
   "metadata": {},
   "source": [
    "2. Character:\n",
    "\n",
    "Unlike in several other programming languages, Python does not have a specific data type for characters. Instead, strings having a length of 1 are used to represent characters. Therefore, a character in Python is effectively a string made up of only one character."
   ]
  },
  {
   "cell_type": "code",
   "execution_count": 15,
   "id": "79c11f08-2cc2-4d80-a078-d287dfeb1496",
   "metadata": {},
   "outputs": [
    {
     "name": "stdout",
     "output_type": "stream",
     "text": [
      "H\n"
     ]
    }
   ],
   "source": [
    "character = 'H'  # Character represented as a string\n",
    "print(character)  # Output: \"H\"\n"
   ]
  },
  {
   "cell_type": "markdown",
   "id": "6c2d194b-d068-486c-8df3-9f3473ed2ce1",
   "metadata": {},
   "source": [
    "3. Relationship:\n",
    "\n",
    "There isn't a separate character-specific data type in Python. Instead, strings having a length of 1 are used to represent characters. A string that only contains one character can therefore be thought of as a subset or special case of a character. Because of this, any action or idea that can be used with strings, such as indexing, slicing, or string operations, may likewise be used with characters.\n",
    "\n",
    "For instance, you can slice or index a string to access particular characters, but you can also do the same for a single-character string to have the same effect."
   ]
  },
  {
   "cell_type": "code",
   "execution_count": 16,
   "id": "705ce0ab-4c16-4641-ab3d-d1154a9b30e2",
   "metadata": {},
   "outputs": [
    {
     "name": "stdout",
     "output_type": "stream",
     "text": [
      "H\n",
      "H\n"
     ]
    }
   ],
   "source": [
    "string = \"Hello\"\n",
    "print(string[0])  # Output: \"H\"\n",
    "\n",
    "character = 'H'\n",
    "print(character)  # Output: \"H\"\n"
   ]
  },
  {
   "cell_type": "markdown",
   "id": "cdd6d256-40c3-42d1-adf5-f33cd934a2d2",
   "metadata": {},
   "source": [
    "**Q7. Identify at least two operators and one method that allow you to combine one or more smaller strings to create a larger string.**"
   ]
  },
  {
   "cell_type": "markdown",
   "id": "1be258a7-049b-43c1-a453-21cfa2e5ed9a",
   "metadata": {},
   "source": [
    "1. Concatenation Operator (+):\n",
    "\n",
    "When using the concatenation operator (+), you can combine two or more strings into a single string. The + operator joins two strings together in the provided sequence when used between two strings."
   ]
  },
  {
   "cell_type": "code",
   "execution_count": 17,
   "id": "eb580e16-a12e-4e7c-8a56-98347d67071e",
   "metadata": {},
   "outputs": [
    {
     "name": "stdout",
     "output_type": "stream",
     "text": [
      "Hello World\n"
     ]
    }
   ],
   "source": [
    "string1 = \"Hello\"\n",
    "string2 = \" World\"\n",
    "combined_string = string1 + string2\n",
    "print(combined_string)  # Output: \"Hello World\"\n"
   ]
  },
  {
   "cell_type": "markdown",
   "id": "e171cc48-5daa-4f73-9e13-c84e7ee52e46",
   "metadata": {},
   "source": [
    "2. Augmented Assignment Operator (+=):\n",
    "\n",
    "Concatenating strings is made simple with the augmented assignment operator (+=). The right operand is added to the left operand, and the outcome is then assigned back to the left operand. When applied to strings, it joins the strings together and updates the left operand with the result."
   ]
  },
  {
   "cell_type": "code",
   "execution_count": 18,
   "id": "361f76d1-6153-44b5-bc87-c261d3e10199",
   "metadata": {},
   "outputs": [
    {
     "name": "stdout",
     "output_type": "stream",
     "text": [
      "Hello World\n"
     ]
    }
   ],
   "source": [
    "string1 = \"Hello\"\n",
    "string2 = \" World\"\n",
    "string1 += string2\n",
    "print(string1)  # Output: \"Hello World\"\n"
   ]
  },
  {
   "cell_type": "markdown",
   "id": "68c9a8be-9058-4f98-ab33-ef5de948d443",
   "metadata": {},
   "source": [
    "3. Join() Method:\n",
    "\n",
    "A list of strings can be concatenated into a single string using the join() method. It uses the string on which it is called as the separator to unite the components of an iterable (such as a list or tuple) that it is given as an argument."
   ]
  },
  {
   "cell_type": "code",
   "execution_count": 19,
   "id": "76926afc-658b-4732-a9c3-fc8ae3a7df57",
   "metadata": {},
   "outputs": [
    {
     "name": "stdout",
     "output_type": "stream",
     "text": [
      "Hello World\n"
     ]
    }
   ],
   "source": [
    "strings_list = [\"Hello\", \" \", \"World\"]\n",
    "combined_string = \"\".join(strings_list)\n",
    "print(combined_string)  # Output: \"Hello World\"\n"
   ]
  },
  {
   "cell_type": "markdown",
   "id": "bc88e2bd-5ba5-413f-a7cc-a8c2cf5e9334",
   "metadata": {},
   "source": [
    "The empty string \"\" is used as a separator to link the list's elements together into a single string in the example above.\n",
    "\n",
    "It's simple to merge shorter strings into longer ones with Python using these operators (+ and +=) and the join() method."
   ]
  },
  {
   "cell_type": "markdown",
   "id": "7414d648-1cfb-48df-83b1-7cba0fb89f4c",
   "metadata": {},
   "source": [
    "**Q8. What is the benefit of first checking the target string with in or not in before using the index method to find a substring?**"
   ]
  },
  {
   "cell_type": "markdown",
   "id": "ee003bf5-6c0d-4f72-bba3-2bc35117f315",
   "metadata": {},
   "source": [
    "Before using the index() method to identify a substring, checking the target string using the \"in\" or \"not in\" operator might have numerous advantages:\n",
    "\n",
    "1. Avoiding Errors: The 'in' or 'not in' operator allows you to determine whether the substring is present in the target string before attempting to determine its index. By doing this, it is possible to prevent problems that can arise if the substring is missing from the target string. When utilising the \"index()\" method, you can handle the situation graciously without resulting in a \"ValueError\" if the substring is not found.\n",
    "\n",
    "2. Improved Efficiency: In general, the 'in' or 'not in' operator is more effective than the 'index()' technique since it conducts a quick membership check. The 'in' operator determines whether the substring is present or absent in the target string, whereas the 'index()' method conducts a linear search to locate the substring's first appearance. The overhead of needless searching when the substring is absent can be avoided by conducting the membership check first.\n",
    "\n",
    "3. Code Readability: Including a membership check with `in` or `not in` before using the `index()` method provides clarity to the code and enhances its readability. It makes it clear that before performing any additional operations, you are checking to see if the substring exists.\n"
   ]
  },
  {
   "cell_type": "code",
   "execution_count": 21,
   "id": "f494e481-f67e-4016-88b0-749f26551714",
   "metadata": {},
   "outputs": [
    {
     "name": "stdout",
     "output_type": "stream",
     "text": [
      "Substring found at index: 6\n"
     ]
    }
   ],
   "source": [
    "target_string = \"Hello World\"\n",
    "substring = \"World\"\n",
    "\n",
    "# Checking substring existence before using index()\n",
    "if substring in target_string:\n",
    "    index = target_string.index(substring)\n",
    "    print(\"Substring found at index:\", index)\n",
    "else:\n",
    "    print(\"Substring not found\")"
   ]
  },
  {
   "cell_type": "markdown",
   "id": "35ffaee1-a9b1-417e-9ce6-61c6c4571528",
   "metadata": {},
   "source": [
    "\n",
    "The 'in' operator is used in the example above to determine whether the substring \"World\" is present in the target string \"Hello World.\" The 'index()' method is then used to get the index only if the substring is found. By avoiding probable mistakes, this method improves the code's effectiveness and readability.\n",
    "\n",
    "In general, you can increase the robustness, effectiveness, and clarity of your code while looking for substrings by verifying the target string using 'in' or 'not in' before using the 'index()' method."
   ]
  },
  {
   "cell_type": "markdown",
   "id": "81ab4e6f-84fe-4b0d-b62d-c4ffb2130bfd",
   "metadata": {},
   "source": [
    "**Q9. Which operators and built-in string methods produce simple Boolean (true/false) results?**"
   ]
  },
  {
   "cell_type": "markdown",
   "id": "93ce066a-4149-43ce-9d71-f9a17f60e7a6",
   "metadata": {},
   "source": [
    "Operators:\n",
    "\n",
    "1. Comparison Operators: Comparison operators such as ==, !=, <, >, <=, and >= compare two values and return a Boolean result indicating whether the comparison is true or false."
   ]
  },
  {
   "cell_type": "code",
   "execution_count": 22,
   "id": "ef9ad70f-f3bb-4e76-8a5b-1ffea14c5594",
   "metadata": {},
   "outputs": [
    {
     "name": "stdout",
     "output_type": "stream",
     "text": [
      "True\n"
     ]
    }
   ],
   "source": [
    "x = 5\n",
    "y = 10\n",
    "result = x < y  # Comparison operator producing a Boolean result\n",
    "print(result)  # Output: True\n"
   ]
  },
  {
   "cell_type": "markdown",
   "id": "c04143f9-c3a8-493d-9540-5c7e335a96f7",
   "metadata": {},
   "source": [
    "2. Membership Operators: Membership operators in and not in check whether a value is present in a sequence (such as a string) and return a Boolean result."
   ]
  },
  {
   "cell_type": "code",
   "execution_count": 23,
   "id": "0b870d82-bccf-4073-a318-03aa4b5adcc9",
   "metadata": {},
   "outputs": [
    {
     "name": "stdout",
     "output_type": "stream",
     "text": [
      "True\n"
     ]
    }
   ],
   "source": [
    "string = \"Hello\"\n",
    "result = \"e\" in string  # Membership operator producing a Boolean result\n",
    "print(result)  # Output: True\n"
   ]
  },
  {
   "cell_type": "markdown",
   "id": "a36b5916-b711-446b-83c6-b8fd7faa6e5a",
   "metadata": {},
   "source": [
    "Built-in String Methods:\n",
    "\n",
    "1. startswith(): The startswith() method checks if a string starts with a specified substring and returns a Boolean result."
   ]
  },
  {
   "cell_type": "code",
   "execution_count": 24,
   "id": "c4c0793a-a682-4aad-b5fb-99da98e6bd07",
   "metadata": {},
   "outputs": [
    {
     "name": "stdout",
     "output_type": "stream",
     "text": [
      "True\n"
     ]
    }
   ],
   "source": [
    "string = \"Hello\"\n",
    "result = string.startswith(\"H\")  # startswith() method producing a Boolean result\n",
    "print(result)  # Output: True\n"
   ]
  },
  {
   "cell_type": "markdown",
   "id": "f7920c3c-b8e2-4dd4-a68b-54a44c6e975a",
   "metadata": {},
   "source": [
    "2. endswith(): The endswith() method checks if a string ends with a specified substring and returns a Boolean result."
   ]
  },
  {
   "cell_type": "code",
   "execution_count": 26,
   "id": "79d6119c-e47b-46a4-bbb1-cb71fadd67a5",
   "metadata": {},
   "outputs": [
    {
     "name": "stdout",
     "output_type": "stream",
     "text": [
      "True\n"
     ]
    }
   ],
   "source": [
    "string = \"Hello\"\n",
    "result = string.endswith(\"o\")  # endswith() method producing a Boolean result\n",
    "print(result)  # Output: True\n"
   ]
  },
  {
   "cell_type": "code",
   "execution_count": null,
   "id": "8b1f9bfe-3045-4f08-b0a3-0b0b9eb37f0f",
   "metadata": {},
   "outputs": [],
   "source": []
  }
 ],
 "metadata": {
  "kernelspec": {
   "display_name": "Python 3 (ipykernel)",
   "language": "python",
   "name": "python3"
  },
  "language_info": {
   "codemirror_mode": {
    "name": "ipython",
    "version": 3
   },
   "file_extension": ".py",
   "mimetype": "text/x-python",
   "name": "python",
   "nbconvert_exporter": "python",
   "pygments_lexer": "ipython3",
   "version": "3.10.6"
  }
 },
 "nbformat": 4,
 "nbformat_minor": 5
}
