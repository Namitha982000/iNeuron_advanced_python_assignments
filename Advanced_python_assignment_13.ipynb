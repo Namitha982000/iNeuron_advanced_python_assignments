{
 "cells": [
  {
   "cell_type": "markdown",
   "id": "6b453fc4-ebb9-4918-a20c-39c02312a66b",
   "metadata": {},
   "source": [
    "# Assignment 13"
   ]
  },
  {
   "cell_type": "markdown",
   "id": "0ee808cb-955e-4016-80da-d1e282badcc7",
   "metadata": {},
   "source": [
    "**Q1. Can you create a programme or function that employs both positive and negative indexing? Is there any repercussion if you do so?**"
   ]
  },
  {
   "cell_type": "markdown",
   "id": "8ced4e2c-5faf-43d0-bd5f-6b9f2658feed",
   "metadata": {},
   "source": [
    "Yes, it is possible to write a Python programme or function that uses both positive and negative indexing. For the first element, positive indexing begins at 0, while for the last element, negative indexing begins at -1.\n",
    "\n",
    "Here is an illustration of a function that accesses elements from a string using both positive and negative indexing:"
   ]
  },
  {
   "cell_type": "code",
   "execution_count": 1,
   "id": "161a7a70-a708-4f5a-872d-eb8d6b2b7368",
   "metadata": {},
   "outputs": [
    {
     "name": "stdout",
     "output_type": "stream",
     "text": [
      "First character: H\n",
      "Last character: d\n"
     ]
    }
   ],
   "source": [
    "def access_elements(string):\n",
    "    first_character = string[0]  # Positive indexing\n",
    "    last_character = string[-1]  # Negative indexing\n",
    "\n",
    "    print(\"First character:\", first_character)\n",
    "    print(\"Last character:\", last_character)\n",
    "\n",
    "# Usage\n",
    "string = \"Hello World\"\n",
    "access_elements(string)\n"
   ]
  },
  {
   "cell_type": "markdown",
   "id": "cf507c57-bb3f-442c-920a-13dbd9a119be",
   "metadata": {},
   "source": [
    "The function access_elements in the preceding example accepts a string as input. The first character (\"H\") is accessed using positive indexing string[0], and the last (\"d\") is accessed using negative indexing string[-1]. The first and last characters are then printed by the function.\n",
    "\n",
    "Using both positive and negative indexing within a programme or function has no obvious consequences or problems. It's crucial to check if the used indices fall within the permitted range for the specified string or sequence, though. You can access elements from the sequence's end using negative indexing, which makes it simple to get the string's last elements without having to know how long it is in advance. Just be careful to use proper indices to prevent errors caused by out-of-range indices.\n",
    "\n",
    "It's also important to keep in mind that using both positive and negative indices simultaneously can occasionally cause complication or reduce the readability of the code. Therefore, unless there is a specific requirement to combine them, it is generally advised to use positive indexing when accessing elements from the start of the series and negative indexing when accessing elements from the end of the sequence."
   ]
  },
  {
   "cell_type": "markdown",
   "id": "f94bc9a9-bf39-4729-a1fc-2489420eb249",
   "metadata": {},
   "source": [
    "**Q2. What is the most effective way of starting with 1,000 elements in a Python list? Assume that all elements should be set to the same value.**"
   ]
  },
  {
   "cell_type": "markdown",
   "id": "f05d5e5e-66be-4bd4-91d9-1bee7e1b6eef",
   "metadata": {},
   "source": [
    "1. List Comprehension:\n",
    "\n",
    "List comprehension is a concise and efficient way to create lists in Python. You can use list comprehension with a specified value to generate a list of the desired length."
   ]
  },
  {
   "cell_type": "code",
   "execution_count": 2,
   "id": "d053003c-7a82-44a4-87b5-6fb307361ac7",
   "metadata": {},
   "outputs": [],
   "source": [
    "value = 0  # Example value\n",
    "my_list = [value for _ in range(1000)]\n"
   ]
  },
  {
   "cell_type": "markdown",
   "id": "0b92507a-d07e-4776-893e-44c5dff701d6",
   "metadata": {},
   "source": [
    "In the above example, value represents the value you want to set for all elements in the list. By using list comprehension, the list my_list will be created with 1,000 elements, each initialized to value."
   ]
  },
  {
   "cell_type": "markdown",
   "id": "9940f8ed-dd32-4197-8998-e9f7573f5dbf",
   "metadata": {},
   "source": [
    "2. Multiplication Operator:\n",
    "\n",
    "Another approach is to use the multiplication operator (*) to repeat a single-element list."
   ]
  },
  {
   "cell_type": "code",
   "execution_count": 3,
   "id": "ea2e9ec9-65b4-4786-8415-af12e628421c",
   "metadata": {},
   "outputs": [],
   "source": [
    "value = 0  # Example value\n",
    "my_list = [value] * 1000\n"
   ]
  },
  {
   "cell_type": "markdown",
   "id": "749f8e16-e71a-46a1-9bc0-398e3239a789",
   "metadata": {},
   "source": [
    "In this example, [value] represents a single-element list containing the desired value. By multiplying it with 1000, the list will be expanded to have 1,000 elements, all set to value.\n",
    "\n",
    "Both of these approaches are efficient and will quickly create a list with 1,000 elements, all initialized to the same value. Choose the method that best suits your coding style and requirements."
   ]
  },
  {
   "cell_type": "markdown",
   "id": "04a49c52-9ab6-49a5-891a-a123947338bc",
   "metadata": {},
   "source": [
    "**Q3. How do you slice a list to get any other part while missing the rest? (For example, suppose you want to make a new list with the elements first, third, fifth, seventh, and so on.)**"
   ]
  },
  {
   "cell_type": "markdown",
   "id": "eded51bb-7d4d-4341-9cd0-caed07a9c2a3",
   "metadata": {},
   "source": [
    "The step parameter in Python's slice notation can be used to cut a list into smaller pieces and retrieve particular components while bypassing others. You can determine the time span between elements to be included in the slice using the step argument."
   ]
  },
  {
   "cell_type": "code",
   "execution_count": 4,
   "id": "e5d5bf17-90f5-495d-be99-5baa49884b18",
   "metadata": {},
   "outputs": [],
   "source": [
    "my_list = [1, 2, 3, 4, 5, 6, 7, 8, 9, 10]\n",
    "new_list = my_list[1::2]\n"
   ]
  },
  {
   "cell_type": "markdown",
   "id": "b9e9aa53-426b-43b8-9b51-59475cea7405",
   "metadata": {},
   "source": [
    "My_list is the original list in the code above. Due to the step size of 2, the slice [1::2] collects elements beginning with index 1 (the second element) and includes each subsequent element after that. [2, 4, 6, 8, 10] are the resulting elements, which are added to the new_list."
   ]
  },
  {
   "cell_type": "markdown",
   "id": "ec6a10f1-1d3f-476d-83f5-1087809765dc",
   "metadata": {},
   "source": [
    "The elements from my_list are now present in new_list at odd indices. The new list contains items with indices 1, 3, 5, 7, and so forth.\n",
    "\n",
    "Depending on whether you want to include the first element or begin from a different location, you can change the starting index as necessary.\n",
    "\n",
    "It's crucial to take into account Python's indexing convention, where the first element has an index of 0. In the previous illustration, my_list[1::2] fetches elements from the original list at odd indices."
   ]
  },
  {
   "cell_type": "markdown",
   "id": "72608022-b3ac-4a8f-9ae5-70c37f49a797",
   "metadata": {},
   "source": [
    "**Q4. Explain the distinctions between indexing and slicing.**"
   ]
  },
  {
   "cell_type": "markdown",
   "id": "b24b20b9-df25-492b-a34c-c2f7ab913767",
   "metadata": {},
   "source": [
    "In Python, indexing and slicing are two distinct operations used to access elements or subsequences from a sequence like a list, string, or tuple.\n",
    "\n",
    "Indexing:\n",
    "Indexing refers to the operation of retrieving a specific element from a sequence using its position, which is represented by an index. In Python, indexing starts from 0 for the first element, and positive indices count from the beginning of the sequence. Negative indices can also be used to count from the end of the sequence, where -1 represents the last element.\n",
    "\n",
    "Syntax: `sequence[index]`\n",
    "\n",
    "Example:"
   ]
  },
  {
   "cell_type": "code",
   "execution_count": 5,
   "id": "f88cc90d-0a9b-41ea-b097-64493f0c6823",
   "metadata": {},
   "outputs": [
    {
     "name": "stdout",
     "output_type": "stream",
     "text": [
      "1\n",
      "3\n",
      "5\n"
     ]
    }
   ],
   "source": [
    "\n",
    "my_list = [1, 2, 3, 4, 5]\n",
    "print(my_list[0])    # Output: 1 (first element)\n",
    "print(my_list[2])    # Output: 3 (third element)\n",
    "print(my_list[-1])   # Output: 5 (last element)\n"
   ]
  },
  {
   "cell_type": "markdown",
   "id": "8481d706-edb0-497c-a041-40a54f28927a",
   "metadata": {},
   "source": [
    "Slicing:\n",
    "Slicing, on the other hand, is the operation of extracting a contiguous subsequence or a range of elements from a sequence. It allows you to create a new sequence that includes elements starting from a specified start index up to, but not including, an end index. Slicing returns a new sequence containing the selected elements.\n",
    "\n",
    "Syntax: `sequence[start:end:step]`\n",
    "\n",
    "Example:"
   ]
  },
  {
   "cell_type": "code",
   "execution_count": 6,
   "id": "c0c73a58-8e74-45c2-ad78-c3b7feebc38c",
   "metadata": {},
   "outputs": [
    {
     "name": "stdout",
     "output_type": "stream",
     "text": [
      "[2, 3, 4]\n",
      "[1, 2, 3]\n",
      "[3, 4, 5]\n",
      "[1, 3, 5]\n"
     ]
    }
   ],
   "source": [
    "\n",
    "my_list = [1, 2, 3, 4, 5]\n",
    "print(my_list[1:4])     # Output: [2, 3, 4] (sliced sublist from index 1 to 4)\n",
    "print(my_list[:3])      # Output: [1, 2, 3] (sliced sublist from start to index 3)\n",
    "print(my_list[2:])      # Output: [3, 4, 5] (sliced sublist from index 2 to end)\n",
    "print(my_list[::2])     # Output: [1, 3, 5] (sliced sublist with a step of 2)"
   ]
  },
  {
   "cell_type": "markdown",
   "id": "903fe0e3-3263-476e-a904-ce0cc4b24dd2",
   "metadata": {},
   "source": [
    "**Q5. What happens if one of the slicing expression's indexes is out of range?**"
   ]
  },
  {
   "cell_type": "markdown",
   "id": "a1398ceb-ef57-4919-b1fe-3e806b00b08d",
   "metadata": {},
   "source": [
    "If one of the slicing expression's indexes is out of range for the given sequence, Python handles it gracefully by returning as many elements as possible within the valid range. \n",
    "\n",
    "Here's what happens when the slicing expression's indexes are out of range:\n",
    "\n",
    "1. If the start index is out of range:\n",
    "   - If the start index is greater than the length of the sequence, an empty sequence (list, string, etc.) is returned.\n",
    "   - If the start index is negative and its absolute value exceeds the length of the sequence, the slicing operation still proceeds, but it starts from the first element.\n",
    "\n",
    "2. If the end index is out of range:\n",
    "   - If the end index is greater than the length of the sequence, the slicing operation returns all elements from the start index to the end of the sequence.\n",
    "   - If the end index is negative and its absolute value exceeds the length of the sequence, an empty sequence is returned.\n",
    "\n",
    "Here are a few examples to illustrate the behavior:"
   ]
  },
  {
   "cell_type": "code",
   "execution_count": 8,
   "id": "81032e90-b436-49be-b065-c63ba46c8a3d",
   "metadata": {},
   "outputs": [
    {
     "name": "stdout",
     "output_type": "stream",
     "text": [
      "[]\n",
      "[1, 2, 3, 4, 5]\n",
      "[1, 2, 3, 4, 5]\n",
      "[]\n",
      "[]\n",
      "[]\n"
     ]
    }
   ],
   "source": [
    "\n",
    "my_list = [1, 2, 3, 4, 5]\n",
    "\n",
    "print(my_list[10:])     # Output: [] (Empty list as start index is out of range)\n",
    "print(my_list[-10:])    # Output: [1, 2, 3, 4, 5] (Starts from the first element with negative out-of-range start index)\n",
    "\n",
    "print(my_list[:10])     # Output: [1, 2, 3, 4, 5] (All elements from start to end as end index is out of range)\n",
    "print(my_list[:-10])    # Output: [] (Empty list as end index is out of range)\n",
    "\n",
    "print(my_list[10:20])   # Output: [] (Empty list as both start and end indexes are out of range)\n",
    "print(my_list[-10:-20]) # Output: [] (Empty list as both start and end indexes are out of range with negative values)"
   ]
  },
  {
   "cell_type": "markdown",
   "id": "dc5716aa-57cf-4894-a93c-368454b37034",
   "metadata": {},
   "source": [
    "In each case, Python handles the slicing operation by returning an empty sequence or as many elements as possible within the valid range. It ensures that the slicing operation does not raise an index out of range error."
   ]
  },
  {
   "cell_type": "markdown",
   "id": "012efb92-ad8e-4df0-a5a1-e041cb3838c0",
   "metadata": {},
   "source": [
    "**Q6. If you pass a list to a function, and if you want the function to be able to change the values of the list—so that the list is different after the function returns—what action should you avoid?**"
   ]
  },
  {
   "cell_type": "markdown",
   "id": "82f1349a-e231-43d0-b8f9-45765a4a54c6",
   "metadata": {},
   "source": [
    "In Python, you pass a reference to the list object when you pass a list to a function. In other words, any changes made to the list inside the function will also affect the list outside the function. The original list outside the function will not change if the list parameter is reassigned to a different list inside the function.\n",
    "\n",
    "Here is an illustration of the behaviour to help with clarification:"
   ]
  },
  {
   "cell_type": "code",
   "execution_count": 9,
   "id": "e02bddfe-8855-4fc8-ad98-9564379eb8a0",
   "metadata": {},
   "outputs": [
    {
     "name": "stdout",
     "output_type": "stream",
     "text": [
      "[1, 2, 3, 4]\n"
     ]
    }
   ],
   "source": [
    "def modify_list(lst):\n",
    "    lst.append(4)  # Modifying the list by appending an element\n",
    "    # Avoid reassigning the list parameter to a new list\n",
    "    # lst = [1, 2, 3, 4]  # Avoid this, it creates a new list, disconnecting it from the original list\n",
    "\n",
    "my_list = [1, 2, 3]\n",
    "modify_list(my_list)\n",
    "print(my_list)  # Output: [1, 2, 3, 4]"
   ]
  },
  {
   "cell_type": "markdown",
   "id": "aec8b900-0e6a-407d-a8ab-fc6e70fbc88a",
   "metadata": {},
   "source": [
    "The function'modify_list' in the code above takes a parameter called 'lst' that is a list. The 'append()' method is used to add an element to the list. The original list \"my_list\" is also updated when retrieved after the function call because the list parameter is adjusted in-place.\n",
    "\n",
    "The function reassigns the list parameter to a new list if you uncomment the line \"lst = [1, 2, 3, 4]\" within it. Due to the reassignment's creation of a new list object and disconnection of the previous one from the original reference, the original list \"my_list\" in this instance is left untouched.\n",
    "\n",
    "Avoid moving the list parameter to a different list within the function in order to guarantee that a function can modify the values of a list. Instead, use methods or index assignments to directly edit the list's elements."
   ]
  },
  {
   "cell_type": "markdown",
   "id": "958e46d3-94b1-4c4e-ba40-87f13cb685c3",
   "metadata": {},
   "source": [
    "**Q7. What is the concept of an unbalanced matrix?**"
   ]
  },
  {
   "cell_type": "markdown",
   "id": "6a9ae149-eca7-49da-bbb5-5734160e1b09",
   "metadata": {},
   "source": [
    "In the fields of mathematics and computer science, the term \"unbalanced matrix\" is not well known or frequently employed. Within those domains, it does not have a particular definition or meaning.\n",
    "\n",
    "It would be important to comprehend the precise definition or interpretation provided within that context if the phrase \"unbalanced matrix\" were to be employed in that context or domain. However, it is challenging to give a precise description of what an unbalanced matrix might relate to without additional context or clarity.\n",
    "\n",
    "A matrix is typically a two-dimensional array of elements or integers arranged in rows and columns. It is frequently used in numerical calculations and linear algebra. Matrices come in two different shapes: square (equal rows and columns) and rectangular (different rows and columns).\n",
    "\n",
    "Please supply more information so that I can explain the idea of an unbalanced matrix more precisely if you have a specific context or other facts."
   ]
  },
  {
   "cell_type": "markdown",
   "id": "fbae3aa0-05ef-4570-bc5a-e578763af13a",
   "metadata": {},
   "source": [
    "**Q8. Why is it necessary to use either list comprehension or a loop to create arbitrarily large matrices?**"
   ]
  },
  {
   "cell_type": "markdown",
   "id": "0576d7ba-3ac4-4c5e-8f8c-1ea5443c24f6",
   "metadata": {},
   "source": [
    "It is required to utilise either list comprehension or a loop to construct arbitrarily big matrices effectively and without hitting memory limits.\n",
    "\n",
    "Memory management is the primary cause of this. Allocating RAM to hold every element is necessary when creating a big matrix. The same list item would be referenced more than once if you repeated a smaller matrix using the simple multiplication operator ('*'). Incorrect results would arise if one row of the matrix's elements were changed at the expense of other rows.\n",
    "\n",
    "On the other hand, you can create a new list for each row of the matrix by using list comprehension or a loop. By ensuring that each row has a unique list object, this avoids unwanted consequences when changing components.\n",
    "\n",
    "By implementing a transformation or filtering components from an already-existing iterable, list comprehension provides a succinct and effective technique to generate lists. Based on a pattern or computation, you can use it to generate the elements for each row of the matrix.\n",
    "\n",
    "Here's an example using list comprehension to create a 3x3 matrix filled with zeros:"
   ]
  },
  {
   "cell_type": "code",
   "execution_count": 10,
   "id": "22b605a1-c807-4abb-bc20-54fbb3b980a0",
   "metadata": {},
   "outputs": [],
   "source": [
    "matrix = [[0 for _ in range(3)] for _ in range(3)]"
   ]
  },
  {
   "cell_type": "markdown",
   "id": "d4b38be8-fa67-4f74-a255-f7be0f172711",
   "metadata": {},
   "source": [
    "The above code uses nested list comprehension to generate a new list `[0, 0, 0]` for each row in the matrix, resulting in a 3x3 matrix filled with zeros.\n",
    "\n",
    "Alternatively, you can use a loop to iterate over the desired number of rows and columns, creating the matrix element by element. This provides more flexibility if you need to apply specific calculations or conditions when populating the matrix."
   ]
  },
  {
   "cell_type": "code",
   "execution_count": 11,
   "id": "3fa345df-0af6-4dac-a526-b7de91a1d413",
   "metadata": {},
   "outputs": [],
   "source": [
    "rows = 3\n",
    "cols = 3\n",
    "matrix = [[0 for _ in range(cols)] for _ in range(rows)]\n"
   ]
  },
  {
   "cell_type": "markdown",
   "id": "47a78f1b-8f3e-4bb8-9af6-4260e57c5795",
   "metadata": {},
   "source": [
    "By using a loop, you can create each row individually, ensuring separate list objects for each row of the matrix.\n",
    "\n",
    "Both list comprehension and loops allow you to dynamically generate and populate a matrix of arbitrary size, optimizing memory usage and preventing unintended side effects."
   ]
  },
  {
   "cell_type": "markdown",
   "id": "255ff74b-1fbf-4e84-b9b9-9195e117f950",
   "metadata": {},
   "source": []
  }
 ],
 "metadata": {
  "kernelspec": {
   "display_name": "Python 3 (ipykernel)",
   "language": "python",
   "name": "python3"
  },
  "language_info": {
   "codemirror_mode": {
    "name": "ipython",
    "version": 3
   },
   "file_extension": ".py",
   "mimetype": "text/x-python",
   "name": "python",
   "nbconvert_exporter": "python",
   "pygments_lexer": "ipython3",
   "version": "3.10.6"
  }
 },
 "nbformat": 4,
 "nbformat_minor": 5
}
