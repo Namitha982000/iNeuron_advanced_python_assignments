{
 "cells": [
  {
   "cell_type": "markdown",
   "id": "6caeb00f-b6e8-4345-94d2-a7ac29cb3ba1",
   "metadata": {},
   "source": [
    "# Assignment 15"
   ]
  },
  {
   "cell_type": "markdown",
   "id": "eae5be5b-53ac-4bcd-9e1b-b3f8391af95a",
   "metadata": {},
   "source": [
    "**1. What are the new features added in Python 3.8 version?**"
   ]
  },
  {
   "cell_type": "markdown",
   "id": "fa4413af-fbea-45bb-b11d-9b5e8b775098",
   "metadata": {},
   "source": [
    "Python 3.8 introduced several new features and improvements. Here are some notable additions in Python 3.8:\n",
    "\n",
    "1. Assignment Expressions (the Walrus operator): This feature allows you to assign values to variables as part of an expression. It uses the := operator. For example: `while (line := f.readline()) != 'end':`.\n",
    "\n",
    "2. Positional-only parameters: You can now define function parameters that can only be passed by position, not by keyword. This allows you to enforce certain parameter ordering and simplify function signatures.\n",
    "\n",
    "3. The `math.prod()` function: This function returns the product of all elements in an iterable. It provides a convenient way to calculate the product without needing to use a loop.\n",
    "\n",
    "4. The `f-strings` debugging feature: You can now use `=` within f-strings to display both the variable name and its value for debugging purposes. For example: `f'{x=}, {y=}'`.\n",
    "\n",
    "5. The `typing.final` decorator: This decorator allows you to indicate that a class or function is intended to be \"effectively final,\" meaning it should not be subclassed or overridden.\n",
    "\n",
    "6. Improved syntax warnings and error messages: Python 3.8 introduced more helpful and informative error messages and warnings, making it easier to debug and understand code issues.\n",
    "\n",
    "7. The `statistics.mode()` function: This function calculates the mode (most common value) of a list of numbers in the `statistics` module.\n",
    "\n",
    "8. The `functools.cache()` decorator: This decorator provides a simple way to cache the results of a function, saving computation time for repeated calls with the same arguments."
   ]
  },
  {
   "cell_type": "markdown",
   "id": "b593e538-fcf1-4a55-8ec9-2e743d5136f5",
   "metadata": {},
   "source": [
    "**2. What is monkey patching in Python?**"
   ]
  },
  {
   "cell_type": "markdown",
   "id": "4bbfe92c-82ef-4093-a55e-17442120e29f",
   "metadata": {},
   "source": [
    "The term \"monkey patching\" describes the process of adding, altering, or changing characteristics, methods, or functions of already-existing objects or classes in order to modify or expand code at runtime. It enables you to alter code's behaviour without altering the original source code.\n",
    "\n",
    "Because Python supports dynamically changing objects and classes, monkey patching is possible. You can change the behaviour of built-in classes or functions or even add new methods or attributes to an existing object or class. Other options include replacing existing methods or properties with new implementations.\n",
    "\n",
    "Monkey patching can be useful in certain situations, such as:\n",
    "\n",
    "1. Without waiting for a formal update, repairing problems or adding missing functionality in third-party libraries or modules.\n",
    "\n",
    "2. Developing new features through experimentation or prototyping without changing the original codebase.\n",
    "\n",
    "3. Using band-aid repairs or workarounds until an appropriate solution is put into place.\n",
    "\n",
    "However, as monkey patching can make code more difficult to comprehend, maintain, and debug, it should be used with caution. If different areas of the codebase are monkey patched independently, it may result in unexpected behaviour and conflicts.\n",
    "\n",
    "Here's a simple example of monkey patching in Python:"
   ]
  },
  {
   "cell_type": "code",
   "execution_count": 1,
   "id": "18c1192f-ffab-4a41-81eb-f93f29b3dc75",
   "metadata": {},
   "outputs": [
    {
     "name": "stdout",
     "output_type": "stream",
     "text": [
      "Patched method\n"
     ]
    }
   ],
   "source": [
    "# Original class\n",
    "class MyClass:\n",
    "    def original_method(self):\n",
    "        print(\"Original method\")\n",
    "\n",
    "# Monkey patching\n",
    "def patched_method(self):\n",
    "    print(\"Patched method\")\n",
    "\n",
    "MyClass.original_method = patched_method\n",
    "\n",
    "# Creating an instance of MyClass\n",
    "obj = MyClass()\n",
    "\n",
    "# Calling the patched method\n",
    "obj.original_method()  # Output: Patched method"
   ]
  },
  {
   "cell_type": "markdown",
   "id": "a0e1a152-ce92-42c0-a8fe-34916115195d",
   "metadata": {},
   "source": [
    "In this example, we define a class `MyClass` with an `original_method`. Then, we define a new function `patched_method` and assign it to `MyClass.original_method`. When we create an instance of `MyClass` and call `original_method`, it prints \"Patched method\" instead of \"Original method\" because we monkey patched the class."
   ]
  },
  {
   "cell_type": "markdown",
   "id": "762cbd61-218b-4a88-b2e1-4979897656cc",
   "metadata": {},
   "source": [
    "**3. What is the difference between a shallow copy and deep copy?**"
   ]
  },
  {
   "cell_type": "markdown",
   "id": "197df497-f764-4bf4-b610-7fbc7c82ebb6",
   "metadata": {},
   "source": [
    "In Python, a shallow copy and a deep copy are two different ways of creating copies of objects, and they have different behaviors when it comes to nested or referenced objects. Here's an explanation of the differences between shallow copy and deep copy:\n",
    "\n",
    "1. Shallow Copy:\n",
    "   - Shallow copy creates a new object but references the same nested objects as the original object.\n",
    "   - The new object is a separate container, but the elements inside the container are shared with the original object.\n",
    "   - Modifying a nested object in the original object will affect the shallow copy, and vice versa.\n",
    "   - Shallow copy can be created using the `copy()` method or the `copy` module's `copy()` function.\n",
    "\n",
    "   Example:"
   ]
  },
  {
   "cell_type": "code",
   "execution_count": 2,
   "id": "b23e2185-eaaa-4e38-bbcf-8dc68133ce4b",
   "metadata": {},
   "outputs": [
    {
     "name": "stdout",
     "output_type": "stream",
     "text": [
      "[1, ['changed', 3], 4]\n",
      "[1, ['changed', 3], 4]\n"
     ]
    }
   ],
   "source": [
    "\n",
    "import copy\n",
    "\n",
    "original_list = [1, [2, 3], 4]\n",
    "shallow_copy = copy.copy(original_list)\n",
    "\n",
    "original_list[1][0] = 'changed'\n",
    "print(original_list)  # Output: [1, ['changed', 3], 4]\n",
    "print(shallow_copy)  # Output: [1, ['changed', 3], 4]"
   ]
  },
  {
   "cell_type": "markdown",
   "id": "a8e2ea2b-808a-4fa6-b325-24aa2dbd7ffd",
   "metadata": {},
   "source": [
    "2. Deep Copy:\n",
    "   - Deep copy creates a new object and recursively copies all nested objects, including objects referenced by the original object.\n",
    "   - The new object and its nested objects are completely independent of the original object and its nested objects.\n",
    "   - Modifying a nested object in the original object will not affect the deep copy, and vice versa.\n",
    "   - Deep copy can be created using the `deepcopy()` method from the `copy` module.\n",
    "\n",
    "   Example:"
   ]
  },
  {
   "cell_type": "code",
   "execution_count": 3,
   "id": "c663f6ce-6b9e-4cc6-be32-67dec4bca007",
   "metadata": {},
   "outputs": [
    {
     "name": "stdout",
     "output_type": "stream",
     "text": [
      "[1, ['changed', 3], 4]\n",
      "[1, [2, 3], 4]\n"
     ]
    }
   ],
   "source": [
    "\n",
    "import copy\n",
    "\n",
    "original_list = [1, [2, 3], 4]\n",
    "deep_copy = copy.deepcopy(original_list)\n",
    "\n",
    "original_list[1][0] = 'changed'\n",
    "print(original_list)  # Output: [1, ['changed', 3], 4]\n",
    "print(deep_copy)  # Output: [1, [2, 3], 4]\n"
   ]
  },
  {
   "cell_type": "markdown",
   "id": "ce19fb05-8ba1-4f9d-814b-eb2875aab3ba",
   "metadata": {},
   "source": [
    "**4. What is the maximum possible length of an identifier?**"
   ]
  },
  {
   "cell_type": "markdown",
   "id": "3cb0693f-5d9f-470c-af58-950e22dff47d",
   "metadata": {},
   "source": [
    "The maximum length of an identifier in Python depends on the implementation. There is no set restriction on the length of identifiers in the Python language specification.\n",
    "\n",
    "However, there are a few useful things to keep in mind:\n",
    "\n",
    "1. PEP 8 Style Guide: The maximum recommended line length, including identifiers, is 79 characters. This style guide is widely used in the Python community. This rule prevents horizontal scrolling in code and maintains readability.\n",
    "\n",
    "2. Realistic Restrictions: The length of identifiers may be restricted by some Python implementations or tools. For practical reasons, some IDEs, code editors, or linters, for instance, may have their own limitations on the maximum length of identifiers.\n",
    "\n",
    "3. Readability and Maintainability: While technically speaking, there may not be a hard limit, unnecessarily long identifiers can have a negative effect on the readability and maintainability of code. When used frequently, long IDs might make the code more difficult to read and navigate."
   ]
  },
  {
   "cell_type": "markdown",
   "id": "f54b42fd-f6cb-4157-baad-bc8e5ab7f862",
   "metadata": {},
   "source": [
    "**5. What is generator comprehension?**"
   ]
  },
  {
   "cell_type": "markdown",
   "id": "47fed67a-8965-4e85-aff2-5be9b09ef435",
   "metadata": {},
   "source": [
    "In Python, a generator can be created quickly using a generator comprehension, sometimes referred to as a generator expression. It offers a concise syntax for quickly generating values without storing an entire list or other sequence in memory.\n",
    "\n",
    "In contrast to list comprehensions, generator comprehensions employ parentheses ('()') rather than square brackets ('[]'). The primary distinction is that generator comprehensions build an iterator object that gives values one at a time when asked, whereas list comprehensions construct a list object holding all the generated values.\n",
    "\n",
    "Here's an example to illustrate the syntax and usage of a generator comprehension:"
   ]
  },
  {
   "cell_type": "code",
   "execution_count": 4,
   "id": "8e49441f-1fa1-4a06-b36b-0625a8d49751",
   "metadata": {},
   "outputs": [
    {
     "name": "stdout",
     "output_type": "stream",
     "text": [
      "[0, 2, 4, 6, 8]\n",
      "<generator object <genexpr> at 0x7f4963a33f40>\n",
      "0\n",
      "2\n",
      "4\n",
      "6\n",
      "8\n"
     ]
    }
   ],
   "source": [
    "\n",
    "# List comprehension\n",
    "my_list = [x * 2 for x in range(5)]\n",
    "print(my_list)  # Output: [0, 2, 4, 6, 8]\n",
    "\n",
    "# Generator comprehension\n",
    "my_generator = (x * 2 for x in range(5))\n",
    "print(my_generator)  # Output: <generator object <genexpr> at 0x7f9bfeac3a50>\n",
    "\n",
    "# Iterating over the generator\n",
    "for value in my_generator:\n",
    "    print(value)  # Output: 0, 2, 4, 6, 8\n"
   ]
  },
  {
   "cell_type": "markdown",
   "id": "91805b4b-59cb-4efe-aeba-d701e99998c0",
   "metadata": {},
   "source": [
    "In the example above, the list comprehension `[x * 2 for x in range(5)]` generates a list containing the doubled values of the numbers from 0 to 4. On the other hand, the generator comprehension `(x * 2 for x in range(5))` creates a generator that will yield the same doubled values, but it doesn't generate the entire list upfront. Instead, the values are generated one at a time as we iterate over the generator.\n",
    "\n",
    "When you need to lazily construct a sequence of values, especially when working with big data sets or infinite sequences, generator comprehensions come in handy. Because they don't store all the values in memory at once, they are memory-efficient. Instead, they produce data instantly, which can boost performance and use less memory."
   ]
  },
  {
   "cell_type": "code",
   "execution_count": null,
   "id": "e4c41f5c-de49-4fd6-941a-a405fd1994c2",
   "metadata": {},
   "outputs": [],
   "source": []
  }
 ],
 "metadata": {
  "kernelspec": {
   "display_name": "Python 3 (ipykernel)",
   "language": "python",
   "name": "python3"
  },
  "language_info": {
   "codemirror_mode": {
    "name": "ipython",
    "version": 3
   },
   "file_extension": ".py",
   "mimetype": "text/x-python",
   "name": "python",
   "nbconvert_exporter": "python",
   "pygments_lexer": "ipython3",
   "version": "3.10.6"
  }
 },
 "nbformat": 4,
 "nbformat_minor": 5
}
