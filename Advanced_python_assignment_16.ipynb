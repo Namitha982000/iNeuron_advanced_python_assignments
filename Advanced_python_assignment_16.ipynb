{
 "cells": [
  {
   "cell_type": "markdown",
   "id": "47e1d930-16f6-4ab3-97e4-0a120fe4135f",
   "metadata": {},
   "source": [
    "# Assignment 16"
   ]
  },
  {
   "cell_type": "markdown",
   "id": "2354921e-bd66-40c0-8439-2ea36627d63c",
   "metadata": {},
   "source": [
    "**Q1. What is the benefit of regular expressions?**"
   ]
  },
  {
   "cell_type": "markdown",
   "id": "0c8ebe20-e756-4fa4-918d-f6e3f89c4226",
   "metadata": {},
   "source": [
    "Regular expressions provide several benefits in programming and text processing:\n",
    "\n",
    "1. Pattern matching Regular expressions enable you to look for particular letter patterns or sequences within a text. They offer a potent and adaptable method for matching and recognising patterns like email addresses, URLs, phone numbers, dates, or any other specifically defined pattern.\n",
    "\n",
    "2. Text manipulation and transformation: You can change the appearance of text by replacing, deleting, or rearrange particular patterns inside a string using regular expressions. Tasks like data cleaning, formatting, or extracting particular information from text can all benefit from this.\n",
    "\n",
    "3. Validation and data extraction: Regular expressions assist with input data validation by determining if it adheres to a predetermined pattern or format. Regular expressions can be used, for instance, to verify user input for a password, email address, or phone number. Additionally, they can be used to extract specific text chunks that fit a pattern, such extracting all URLs from a webpage.\n",
    "\n",
    "4. Language-independent: Because regular expressions are extensively supported by a wide range of programming languages, they can be used on a variety of platforms and operating systems. When you master regular expressions, you can use them with a variety of tools and programming languages.\n",
    "\n",
    "5. Effectiveness and performance: Regular expressions may efficiently complete complex searches and are highly optimised for pattern matching. They are capable of tackling large-scale data processing jobs because they are built utilising algorithms like finite automata, which can efficiently explore enormous texts.\n",
    "\n",
    "6. Brief and expressive syntax: Regular expressions give pattern descriptions in a brief and expressive syntax. You can represent complex patterns in a condensed and legible way by combining special characters and metacharacters.\n",
    "\n",
    "7. Regular expressions are widely supported and utilised in a variety of computer languages, text editors, command-line utilities, and database systems. They are now often used in many different fields for text processing and pattern matching."
   ]
  },
  {
   "cell_type": "markdown",
   "id": "6534088e-0e11-48d8-b39a-7a08727359e0",
   "metadata": {},
   "source": [
    "**Q2. Describe the difference between the effects of &quot;(ab)c+&quot; and &quot;a(bc)+.&quot; Which of these, if any, is the\n",
    "unqualified pattern &quot;abc+&quot;?**"
   ]
  },
  {
   "cell_type": "markdown",
   "id": "f91c420c-2c95-4e2f-84e6-0fe72be27f05",
   "metadata": {},
   "source": [
    "The expressions \"(ab)c+\" and \"a(bc)+\" have different effects and match different patterns:\n",
    "\n",
    "1. \"(ab)c+\":\n",
    "   - This pattern matches a sequence that starts with \"ab\" followed by one or more occurrences of the letter \"c\". The parentheses around \"ab\" create a capturing group, indicating that the \"ab\" part is a distinct unit that will be captured.\n",
    "   - Examples of strings that would match this pattern are: \"abc\", \"abcc\", \"abccc\", and so on.\n",
    "\n",
    "2. \"a(bc)+\":\n",
    "   - This pattern matches a sequence that starts with the letter \"a\" followed by one or more occurrences of the sequence \"bc\". The parentheses around \"bc\" create a capturing group, indicating that the \"bc\" part is a distinct unit that will be captured.\n",
    "   - Examples of strings that would match this pattern are: \"abc\", \"abcbc\", \"abcbcbc\", and so on.\n",
    "\n",
    "Regarding the unqualified pattern \"abc+\":\n",
    "- The pattern \"abc+\" matches the letter \"a\" followed by one or more occurrences of the letter \"b\", immediately followed by the letter \"c\". The \"+\" quantifier applies to the preceding element (the letter \"b\"), indicating that it should occur one or more times.\n",
    "- Examples of strings that would match this pattern are: \"abc\", \"abcc\", \"abccc\", \"abcccc\", and so on.\n",
    "\n",
    "To summarize:\n",
    "- \"(ab)c+\" matches strings that start with \"ab\" followed by one or more \"c\" characters.\n",
    "- \"a(bc)+\" matches strings that start with \"a\" followed by one or more occurrences of \"bc\".\n",
    "- \"abc+\" matches strings that start with \"ab\" followed by one or more \"c\" characters, without any specific grouping or capturing."
   ]
  },
  {
   "cell_type": "markdown",
   "id": "bda9fadd-594e-414e-8047-6d06d91f9169",
   "metadata": {},
   "source": [
    "**Q3. How much do you need to use the following sentence while using regular expressions?**\n",
    "\n",
    "import re"
   ]
  },
  {
   "cell_type": "markdown",
   "id": "49f84429-5a2c-4dd2-a2c3-68b72b795da8",
   "metadata": {},
   "source": [
    "The sentence \"import re\" is typically used at the beginning of a Python script or module when you want to import the `re` module, which provides support for regular expressions in Python.\n",
    "\n",
    "By importing the `re` module, you gain access to various functions and methods that allow you to work with regular expressions, such as `re.match()`, `re.search()`, `re.findall()`, and more.\n",
    "\n",
    "Here's an example of how you might use the \"import re\" sentence along with a simple regular expression in Python:"
   ]
  },
  {
   "cell_type": "code",
   "execution_count": 1,
   "id": "cffbc462-1461-46be-91d6-d42eccda06e2",
   "metadata": {},
   "outputs": [
    {
     "name": "stdout",
     "output_type": "stream",
     "text": [
      "Found a match!\n"
     ]
    }
   ],
   "source": [
    "\n",
    "import re\n",
    "\n",
    "text = \"Hello, my name is John.\"\n",
    "\n",
    "# Search for the word \"name\" in the text\n",
    "match = re.search(r'name', text)\n",
    "\n",
    "if match:\n",
    "    print(\"Found a match!\")\n",
    "else:\n",
    "    print(\"No match found.\")\n"
   ]
  },
  {
   "cell_type": "markdown",
   "id": "c273677a-3bad-4c35-a71a-150d549b7eb0",
   "metadata": {},
   "source": [
    "In the example above, the \"import re\" statement is necessary to import the `re` module and make its functionality available. Then, we use the `re.search()` function to search for the word \"name\" within the `text` variable. If a match is found, it prints \"Found a match!\"; otherwise, it prints \"No match found.\"\n",
    "\n",
    "So, whenever you want to work with regular expressions in Python, it is common to include the \"import re\" sentence at the beginning of your script or module to import the necessary module."
   ]
  },
  {
   "cell_type": "markdown",
   "id": "4fb3b1be-efee-4263-9cc8-355369912edf",
   "metadata": {},
   "source": [
    "**Q4. Which characters have special significance in square brackets when expressing a range, and under what circumstances?**"
   ]
  },
  {
   "cell_type": "markdown",
   "id": "659e47ea-39aa-4a58-aca9-4dacecfe34be",
   "metadata": {},
   "source": [
    "When expressing a range within square brackets (`[]`) in a regular expression, certain characters have special significance depending on the circumstances. Here are the characters with special significance in square brackets and their respective circumstances:\n",
    "\n",
    "1. Dash (\"-\"):\n",
    "   - When placed between two characters inside square brackets, the dash represents a character range. For example, `[a-z]` matches any lowercase letter from \"a\" to \"z\" inclusive.\n",
    "   - Note that the dash has special significance only when it appears between two characters; otherwise, it is treated as a literal dash.\n",
    "\n",
    "2. Caret (\"^\"):\n",
    "   - When placed as the first character inside square brackets, the caret negates the character class. It indicates that the character class should match any character except the ones specified within the square brackets. For example, `[^0-9]` matches any character that is not a digit.\n",
    "   - If the caret appears anywhere other than the first position within square brackets, it is treated as a literal caret.\n",
    "\n",
    "3. Closing square bracket (\"]\"):\n",
    "   - If the closing square bracket appears as the first character within square brackets, it is treated as a literal character and does not have special significance.\n",
    "   - However, if it appears at any other position, it is treated as the closing bracket for the character class.\n",
    "\n",
    "4. Backslash (\"\\\"):\n",
    "   - When used before a character within square brackets, the backslash is an escape character, indicating that the following character should be treated literally instead of having its special meaning. For example, `[\\.]` matches a literal period (dot) character.\n",
    "   - Additionally, certain character escape sequences like `\\d`, `\\w`, `\\s`, etc., retain their special meanings even when used within square brackets."
   ]
  },
  {
   "cell_type": "markdown",
   "id": "b1f787f7-99c0-41c0-9e41-36adff7e19f6",
   "metadata": {},
   "source": [
    "**Q5. How does compiling a regular-expression object benefit you?**"
   ]
  },
  {
   "cell_type": "markdown",
   "id": "e8b7dd97-4df9-4a2e-801f-39a5e8698b95",
   "metadata": {},
   "source": [
    "Compiling a regular expression object in Python using the `re.compile()` function provides several benefits:\n",
    "\n",
    "1. Improved Performance: A pre-processing step that optimises a regular expression pattern for matching occurs when you compile it into a regex object. Performance may be enhanced by this compilation phase, particularly if you frequently employ the same pattern. Faster execution results from the ability to reuse the built regex object numerous times without the need to recompile it.\n",
    "\n",
    "2. Code Readability: A regular expression pattern's definition and application are separated through compilation. This can improve the readability and maintainability of your code, especially when working with intricate or protracted regex patterns. By naming the regex object in a meaningful way, you may make your code more self-explanatory and simpler for others to comprehend.\n",
    "\n",
    "3. Code Reusability: You can use a built regular expression object more than once in your codebase. You can save a regex object and use it as needed by creating a variable for it. Because you don't have to recreate the pattern or recompile it every time you wish to use it, this encourages code reuse.\n",
    "\n",
    "4. Flags and Options: You can specify flags and options that change the behaviour of the regex pattern using the're.compile()' method. These flags can regulate features like case sensitivity, multiline matching, or how Unicode characters are handled. You can set these flags while constructing the regex object, and the object will remember them for further matching operations.\n",
    "\n",
    "5. Error Handling: A regex pattern can be checked for mistakes through compilation. The're.compile()' function throws a're.error' exception if the pattern contains syntax errors or illegal constructs. This gives you the chance to identify and correct mistakes during the compilation phase, giving you time to do so before the pattern is actually executed."
   ]
  },
  {
   "cell_type": "markdown",
   "id": "07340118-dd77-4c7d-97ad-81f17b8ca3f6",
   "metadata": {},
   "source": [
    "**Q6. What are some examples of how to use the match object returned by re.match and re.search?**"
   ]
  },
  {
   "cell_type": "markdown",
   "id": "ea87cacb-9bbe-4912-94c3-b032cb24a61d",
   "metadata": {},
   "source": [
    "When using the `re.match()` and `re.search()` functions in Python's `re` module, they return a match object if a match is found. The match object provides various methods and attributes to work with the matched pattern. Here are some examples of how to use the match object:\n",
    "\n",
    "1. Accessing the Matched Text:"
   ]
  },
  {
   "cell_type": "code",
   "execution_count": 2,
   "id": "f39daebd-1554-4c88-81ee-372a4908bbb9",
   "metadata": {},
   "outputs": [
    {
     "name": "stdout",
     "output_type": "stream",
     "text": [
      "Hello\n"
     ]
    }
   ],
   "source": [
    "\n",
    "import re\n",
    "\n",
    "text = \"Hello, World!\"\n",
    "pattern = r\"Hello\"\n",
    "\n",
    "match = re.match(pattern, text)\n",
    "if match:\n",
    "   matched_text = match.group()\n",
    "   print(matched_text)  # Output: Hello\n"
   ]
  },
  {
   "cell_type": "markdown",
   "id": "26d7fa5d-cdf6-4f07-b5ad-0d216b2cc06d",
   "metadata": {},
   "source": [
    "2. Extracting Captured Groups:"
   ]
  },
  {
   "cell_type": "code",
   "execution_count": 3,
   "id": "82f166ce-fc8f-4f75-84ea-11bc95801078",
   "metadata": {},
   "outputs": [
    {
     "name": "stdout",
     "output_type": "stream",
     "text": [
      "John Doe 30\n"
     ]
    }
   ],
   "source": [
    "\n",
    "import re\n",
    "\n",
    "text = \"John Doe (30 years)\"\n",
    "pattern = r\"(\\w+) (\\w+) \\((\\d+) years\\)\"\n",
    "\n",
    "match = re.search(pattern, text)\n",
    "if match:\n",
    "   first_name = match.group(1)\n",
    "   last_name = match.group(2)\n",
    "   age = match.group(3)\n",
    "   print(first_name, last_name, age)  # Output: John Doe 30\n"
   ]
  },
  {
   "cell_type": "markdown",
   "id": "69d8e1ef-e121-42fa-8e62-630b5e784018",
   "metadata": {},
   "source": [
    "3. Accessing Start and End Positions:"
   ]
  },
  {
   "cell_type": "code",
   "execution_count": 4,
   "id": "50c62369-93ca-4687-a1e9-2506783708b3",
   "metadata": {},
   "outputs": [
    {
     "name": "stdout",
     "output_type": "stream",
     "text": [
      "7 12\n"
     ]
    }
   ],
   "source": [
    "\n",
    "import re\n",
    "\n",
    "text = \"Hello, World!\"\n",
    "pattern = r\"World\"\n",
    "\n",
    "match = re.search(pattern, text)\n",
    "if match:\n",
    "   start_pos = match.start()\n",
    "   end_pos = match.end()\n",
    "   print(start_pos, end_pos)  # Output: 7 12\n"
   ]
  },
  {
   "cell_type": "markdown",
   "id": "b486fd4a-40bd-4033-8bd8-ffd41c8bb4d4",
   "metadata": {},
   "source": [
    "4. Extracting Multiple Matches:"
   ]
  },
  {
   "cell_type": "code",
   "execution_count": 5,
   "id": "3b7d7f41-fe1c-44f0-98a8-104d22ab0581",
   "metadata": {},
   "outputs": [
    {
     "name": "stdout",
     "output_type": "stream",
     "text": [
      "['apple', 'banana', 'cherry']\n"
     ]
    }
   ],
   "source": [
    "\n",
    "import re\n",
    "\n",
    "text = \"apple, banana, cherry\"\n",
    "pattern = r\"\\w+\"\n",
    "\n",
    "matches = re.findall(pattern, text)\n",
    "print(matches)  # Output: ['apple', 'banana', 'cherry']\n"
   ]
  },
  {
   "cell_type": "markdown",
   "id": "41ae12f6-89be-45d8-95d2-154dd61ff8df",
   "metadata": {},
   "source": [
    "5. Iterating Over Matches:"
   ]
  },
  {
   "cell_type": "code",
   "execution_count": 6,
   "id": "58041074-ce76-4467-89b5-eb3a47ee3ad9",
   "metadata": {},
   "outputs": [
    {
     "name": "stdout",
     "output_type": "stream",
     "text": [
      "apple\n",
      "banana\n",
      "cherry\n"
     ]
    }
   ],
   "source": [
    "\n",
    "import re\n",
    "\n",
    "text = \"apple, banana, cherry\"\n",
    "pattern = r\"\\w+\"\n",
    "\n",
    "for match in re.finditer(pattern, text):\n",
    "   matched_text = match.group()\n",
    "   print(matched_text)  # Output: apple, banana, cherry\n"
   ]
  },
  {
   "cell_type": "markdown",
   "id": "843e4050-44c6-4326-96e0-325d61b9f258",
   "metadata": {},
   "source": [
    "These examples demonstrate some common operations with match objects returned by `re.match()` and `re.search()`. Depending on your specific needs, you can extract matched groups, access start and end positions, iterate over matches, and more. The match object provides a range of methods and attributes to work with the matched pattern, allowing you to perform various manipulations and analysis."
   ]
  },
  {
   "cell_type": "markdown",
   "id": "0416af9b-f610-4add-a66a-ff9974148606",
   "metadata": {},
   "source": [
    "**Q7. What is the difference between using a vertical bar (|) as an alteration and using square brackets as a character set?**"
   ]
  },
  {
   "cell_type": "markdown",
   "id": "c7c8e9ba-57fe-42bb-9604-fc30c260fb60",
   "metadata": {},
   "source": [
    "The vertical bar (`|`) and square brackets (`[]`) have different purposes in regular expressions:\n",
    "\n",
    "1. Vertical Bar (|) as an Alteration:\n",
    "   - The vertical bar serves as an alteration operator in regular expressions. It allows you to specify multiple alternative patterns, and the regex engine tries to match any one of them.\n",
    "   - For example, the pattern `cat|dog` matches either \"cat\" or \"dog\". It searches for the presence of either \"cat\" or \"dog\" in the text.\n",
    "   - The vertical bar operates at the pattern level, allowing you to define different alternatives for the regex engine to choose from.\n",
    "\n",
    "2. Square Brackets ([]) as a Character Set:\n",
    "   - Square brackets define a character set or character class in a regular expression. They allow you to specify a set of characters from which the regex engine tries to match a single character.\n",
    "   - For example, the pattern `[aeiou]` matches any single lowercase vowel character. It searches for the presence of any character from the set \"a\", \"e\", \"i\", \"o\", or \"u\" in the text.\n",
    "   - Square brackets operate at the character level, allowing you to specify a range or a set of characters that can match a particular position in the text.\n",
    "\n",
    "To summarize:\n",
    "- The vertical bar (`|`) provides an alteration mechanism to match one of several alternative patterns.\n",
    "- Square brackets (`[]`) define a character set to match any one character from the specified set or range.\n",
    "\n",
    "Here's an example to illustrate the difference:"
   ]
  },
  {
   "cell_type": "code",
   "execution_count": 7,
   "id": "f9e795ec-8b06-4635-abdb-7f5314e86871",
   "metadata": {},
   "outputs": [
    {
     "name": "stdout",
     "output_type": "stream",
     "text": [
      "['cat', 'dog']\n",
      "['dog']\n"
     ]
    }
   ],
   "source": [
    "\n",
    "import re\n",
    "\n",
    "text = \"cat and dog\"\n",
    "pattern1 = \"cat|dog\"  # Matches either \"cat\" or \"dog\"\n",
    "pattern2 = \"[cd]og\"  # Matches \"cog\" or \"dog\"\n",
    "\n",
    "# Using the vertical bar (|) as an alteration\n",
    "matches1 = re.findall(pattern1, text)\n",
    "print(matches1)  # Output: ['cat', 'dog']\n",
    "\n",
    "# Using square brackets ([]) as a character set\n",
    "matches2 = re.findall(pattern2, text)\n",
    "print(matches2)  # Output: ['dog']\n"
   ]
  },
  {
   "cell_type": "markdown",
   "id": "8cda2262-a457-42c5-b6d1-6bbc85e134c3",
   "metadata": {},
   "source": [
    "In the example above, `pattern1` using the vertical bar matches both \"cat\" and \"dog\" occurrences in the text. On the other hand, `pattern2` using square brackets matches only the \"dog\" occurrence because it specifically looks for \"cog\" or \"dog\" at that position."
   ]
  },
  {
   "cell_type": "markdown",
   "id": "bda6cfe7-e462-490f-b00d-6c0a02e25d66",
   "metadata": {},
   "source": [
    "**Q8. In regular-expression search patterns, why is it necessary to use the raw-string indicator (r)? In   replacement strings?**"
   ]
  },
  {
   "cell_type": "markdown",
   "id": "77b30d21-88be-4421-99ce-949c10ec0c7e",
   "metadata": {},
   "source": [
    "In regular expression search patterns and replacement strings, using the raw-string indicator (`r`) is not always necessary, but it is often recommended to avoid unintended interpretations or escape sequence conflicts. Here's why:\n",
    "\n",
    "1. Raw-String Indicator in Search Patterns:\n",
    "   - Regular expressions often contain backslashes (`\\`) as escape characters to represent special characters or sequences. For example, `\\d` represents a digit, `\\s` represents whitespace, etc.\n",
    "   - By using the raw-string indicator (`r`) before the search pattern, such as `r'\\d+'`, Python treats the string as a raw string literal. This means that backslashes are interpreted literally and not as escape characters. It avoids the need to double escape backslashes in the pattern.\n",
    "   - Without the raw-string indicator, you would need to escape backslashes by using double backslashes (`\\\\`). For example, `'\\\\d+'`.\n",
    "\n",
    "2. Raw-String Indicator in Replacement Strings:\n",
    "   - In replacement strings, the raw-string indicator (`r`) is not necessary because backslashes are not interpreted as escape characters in the replacement string syntax of Python's `re` module.\n",
    "   - The replacement string follows its own syntax for placeholders and special sequences, such as `\\1`, `\\2`, etc., to refer to captured groups. These backslashes are treated as literal characters in the replacement string, regardless of the presence of the raw-string indicator.\n",
    "   - However, using the raw-string indicator in replacement strings does not cause any harm or affect the behavior. It can provide consistency and make the code easier to read by indicating that the backslashes are treated as literal characters.\n",
    "\n",
    "Here's an example to illustrate the usage of the raw-string indicator in search patterns and replacement strings:"
   ]
  },
  {
   "cell_type": "code",
   "execution_count": 8,
   "id": "0587f491-ca68-4694-a114-ee8b07075e31",
   "metadata": {},
   "outputs": [
    {
     "name": "stdout",
     "output_type": "stream",
     "text": [
      "Hello, \t World!\n",
      "Hello, \t World!\n"
     ]
    }
   ],
   "source": [
    "\n",
    "import re\n",
    "\n",
    "text = \"Hello, \\n World!\"\n",
    "pattern = r'\\n'\n",
    "replacement = r'\\t'\n",
    "\n",
    "# Using the raw-string indicator in the search pattern\n",
    "modified_text = re.sub(pattern, replacement, text)\n",
    "print(modified_text)  # Output: Hello, \\t World!\n",
    "\n",
    "# No need for the raw-string indicator in the replacement string\n",
    "replacement = '\\t'\n",
    "modified_text = re.sub(pattern, replacement, text)\n",
    "print(modified_text)  # Output: Hello, \\t World!"
   ]
  },
  {
   "cell_type": "markdown",
   "id": "82584408-d02e-49bd-a00e-eeb48bd284b2",
   "metadata": {},
   "source": []
  }
 ],
 "metadata": {
  "kernelspec": {
   "display_name": "Python 3 (ipykernel)",
   "language": "python",
   "name": "python3"
  },
  "language_info": {
   "codemirror_mode": {
    "name": "ipython",
    "version": 3
   },
   "file_extension": ".py",
   "mimetype": "text/x-python",
   "name": "python",
   "nbconvert_exporter": "python",
   "pygments_lexer": "ipython3",
   "version": "3.10.6"
  }
 },
 "nbformat": 4,
 "nbformat_minor": 5
}
