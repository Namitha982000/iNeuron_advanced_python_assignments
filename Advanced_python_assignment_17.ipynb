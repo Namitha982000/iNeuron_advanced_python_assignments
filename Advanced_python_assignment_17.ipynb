{
 "cells": [
  {
   "cell_type": "markdown",
   "id": "0619f976-f5ef-425a-99c4-31c332c76ff8",
   "metadata": {},
   "source": [
    "# Assignment 17"
   ]
  },
  {
   "cell_type": "markdown",
   "id": "3989903e-fa18-4aea-bde7-3062fd3f96e6",
   "metadata": {},
   "source": [
    "**Q1. Explain the difference between greedy and non-greedy syntax with visual terms in as few words\n",
    "as possible. What is the bare minimum effort required to transform a greedy pattern into a non-greedy\n",
    "one? What characters or characters can you introduce or change?**"
   ]
  },
  {
   "cell_type": "markdown",
   "id": "555d5d8d-82d1-484d-a9c2-dbd12657fcd7",
   "metadata": {},
   "source": [
    "Greedy and non-greedy syntax refer to different matching behaviors in regular expressions.\n",
    "\n",
    "Greedy Matching:\n",
    "- Greedy matching tries to match as much text as possible. It matches the longest possible substring that satisfies the pattern.\n",
    "- It is denoted by the greedy quantifiers `*`, `+`, `?`, and `{}`.\n",
    "- Visual analogy: It stretches its match as far as it can, encompassing as much text as possible.\n",
    "\n",
    "Non-Greedy (Lazy) Matching:\n",
    "- Non-greedy matching tries to match as little text as possible. It matches the shortest possible substring that satisfies the pattern.\n",
    "- It is denoted by adding `?` after the greedy quantifiers `*`, `+`, `?`, and `{}`.\n",
    "- Visual analogy: It relaxes its match and stops as soon as it finds the minimum required text.\n",
    "\n",
    "To transform a greedy pattern into a non-greedy one, you can add a `?` after the greedy quantifier. This minimal effort changes the behavior from greedy to non-greedy.\n",
    "\n",
    "For example, consider the greedy pattern `.*` and the corresponding non-greedy pattern `.*?`. The `.*` matches any number of characters greedily, while the `.*?` matches the minimum number of characters non-greedily.\n",
    "\n",
    "- Greedy matching aims for the longest match.\n",
    "- Non-greedy matching aims for the shortest match.\n",
    "- To transform a greedy pattern into a non-greedy one, add a `?` after the quantifier.\n",
    "- Greedy quantifiers: `*`, `+`, `?`, `{}`.\n",
    "- Non-greedy quantifiers: `*?`, `+?`, `??`, `{}?`."
   ]
  },
  {
   "cell_type": "markdown",
   "id": "09c9afab-ac8a-439f-9672-49a5ff46e9c1",
   "metadata": {},
   "source": [
    "**Q2. When exactly does greedy versus non-greedy make a difference?  What if you're looking for a non-greedy match but the only one available is greedy?**"
   ]
  },
  {
   "cell_type": "markdown",
   "id": "d0d07e50-dad8-43f8-b123-64b726b49a63",
   "metadata": {},
   "source": [
    "When a given pattern in the input text has numerous potential matches, the contrast between greedy and non-greedy matching is significant. When there are many occurrences of the pattern in the input or when there are overlapping instances of the pattern, the distinction is obvious.\n",
    "\n",
    "Take the following input text as an example: \"Hello, world! Python is awesome!\"\n",
    "\n",
    "1. Greedy Matching:\n",
    "   - If we use a greedy pattern like `<b>.*</b>`, it will match the longest possible substring between the first `<b>` and the last `</b>` tag in the input.\n",
    "   - In this case, the entire text \"Hello <b>world</b>! <b>Python</b> is awesome!\" will be matched as a single match.\n",
    "\n",
    "2. Non-Greedy Matching:\n",
    "   - If we use a non-greedy pattern like `<b>.*?</b>`, it will match the shortest possible substring between each pair of `<b>` and `</b>` tags.\n",
    "   - In this case, we will have two separate matches: `<b>world</b>` and `<b>Python</b>`. Each match will capture the text between a pair of `<b>` and `</b>` tags.\n",
    "\n",
    "If the sole option is greedy while you're looking for a non-greedy partner, the outcome might not be what you were hoping for. In these situations, the greedy pattern will try to match as much text as it can, possibly going beyond the limits that are wanted.\n",
    "\n",
    "To get the required result, you might need to change the pattern or the input text if you particularly need a non-greedy match and the only pattern that is available is greedy. This may entail employing lookahead or lookbehind assertions, more constraints, or other pattern-specific strategies."
   ]
  },
  {
   "cell_type": "markdown",
   "id": "a920debb-ec35-48ee-a3fb-55010590295d",
   "metadata": {},
   "source": [
    "**Q3. In a simple match of a string, which looks only for one match and does not do any replacement, is the use of a nontagged group likely to make any practical difference?**"
   ]
  },
  {
   "cell_type": "markdown",
   "id": "95221d1a-a855-4069-9f29-2bda6178a7a9",
   "metadata": {},
   "source": [
    "The usage of a non-tagged group won't actually affect the match itself in a straightforward string match when you are only looking for a single match and not performing any replacement. A group in the regular expression pattern that is not capturing or storing the matched substring is referred to as a \"non-tagged group.\"\n",
    "\n",
    "Parentheses '()' are used to define groups in regular expressions, and by default they establish capturing groups that capture and store the matched substring for subsequent use. However, the '(?:)' syntax can be used to generate non-tagged groups, also referred to as non-capturing groups.\n",
    "\n",
    "Non-capturing groups may not influence the outcome of a straightforward match, but in some circumstances they might still be useful:\n",
    "\n",
    "1. Altering Precedence: Non-capturing groups can be used to modify the precedence of certain operations within a regular expression. For example, `(?:ab)+` treats the group `(?:ab)` as a single entity for repetition, whereas `ab+` would repeat the character \"b\" individually.\n",
    "\n",
    "2. Performance Optimization: Non-capturing groups can sometimes offer a slight performance improvement, especially when used in situations where capturing the matched substring is unnecessary. Since non-capturing groups do not store the matched substring, they can reduce the memory usage and processing overhead.\n",
    "\n",
    "3. Clarity and Readability: Using non-capturing groups can enhance the readability and maintainability of complex regular expressions by explicitly indicating that the group is intended for grouping purposes only and not for capturing.\n",
    "\n",
    "However, using non-tagged groups as opposed to ordinary capturing groups will not actually affect the match itself in a straightforward match scenario where you are not interested in capturing or referring the matched substring."
   ]
  },
  {
   "cell_type": "markdown",
   "id": "f6524626-118b-4a38-98ec-754e007fe09f",
   "metadata": {},
   "source": [
    "**Q4. Describe a scenario in which using a nontagged category would have a significant impact on the program's outcomes.**"
   ]
  },
  {
   "cell_type": "markdown",
   "id": "90586634-0bd7-49d9-9e98-9b1748497fdb",
   "metadata": {},
   "source": [
    "When you use backreferences in your regular expression pattern, using a non-tagged category (non-capturing group) might significantly affect the results of the programme.\n",
    "\n",
    "Backreferences let you use the same regular expression pattern to refer to previously captured groups. They are frequently identified by the letters \"1,\" \"2,\" etc., which stand for the first, second, etc., capturing group.\n",
    "\n",
    "Think about the following example:\n",
    "\n",
    "In a sentence, a word is repeated that you wish to match. You might use a regular expression to find the repeated words \"is\" and \"test\" in the text \"This is is a test test.\" as an example.\n",
    "\n",
    "The repeating word will be correctly captured if the pattern is written as \"(is)\" or \"(test)\" without the use of a non-tagged group. The capture groups, however, are made for every time the word appears.\n",
    "\n",
    "Now, you would write the pattern as \"(?:is)s+1\" or \"(?:test)s+1\" if you wanted to change it to use a non-tagged group. The non-capturing group '(?:)' prevents the group from creating a capturing group and stores the matched substring.\n",
    "\n",
    "Because it has an impact on the backreference \"1,\" employing a non-tagged group is essential in this situation. The backreference '1' would refer to the previously caught group without the non-tagged group, which would be the same word as the one being matched. But by using a non-tagged group, you make it clear that the group shouldn't be captured and that the backreference \"1\" refers to the captured group apart from the non-tagged group.\n",
    "\n",
    "By utilising a non-tagged group, you can avoid having the backreference refer to the identical instance within the pattern itself and instead have it match the repeated word in the phrase. In situations when you must carry out particular actions or validations depending on the collected groups and their repetition, this distinction is crucial."
   ]
  },
  {
   "cell_type": "markdown",
   "id": "146c0186-c14f-4967-8ba8-05082e2517e8",
   "metadata": {},
   "source": [
    "**Q5. Unlike a normal regex pattern, a look-ahead condition does not consume the characters it examines. Describe a situation in which this could make a difference in the results of your programme.**"
   ]
  },
  {
   "cell_type": "markdown",
   "id": "da99c934-d6f8-44b7-b503-b0a4261b6213",
   "metadata": {},
   "source": [
    "Regular expressions' look-ahead conditions are non-consuming, which in some situations can affect how a programme performs. Here is an instance where this conduct might affect how the programme performs:\n",
    "\n",
    "Imagine you want to extract email addresses from a text, but you don't want to include email addresses that end in a particular domain, like \"example.com.\" To accomplish this, utilise a negative look-ahead '(?!...)'.\n",
    "\n",
    "Without the non-consuming behavior of the look-ahead condition, using a consuming pattern alone would result in the inclusion of email addresses with the undesired domain.\n",
    "\n",
    "Example:\n",
    "Let's assume we have the following text:\n",
    "```\n",
    "Email addresses: john@example.com, jane@example.com, mark@gmail.com\n",
    "```\n",
    "\n",
    "The email addresses 'john@example.com' and 'jane@example.com' would be matched if we used a consuming pattern like '[w.+-]+@[w-]+.[w.-]+, which we want to avoid.\n",
    "\n",
    "Using a negative look-ahead '(?!example.com)', we may alter the pattern as follows: '[w.+-]+@[w-]+.[w.-]+(?!bexample.comb)' to remove email addresses with the domain 'example.com'.\n",
    "\n",
    "In this instance, the negative look-ahead '(?!example.com)' states that 'example.com' should not be appended to the matched email address. The fact that the look-ahead condition does not consume the characters it analyses is key in this situation. Without taking the characters into account, it just determines if the assertion is true or not.\n",
    "\n",
    "By using the non-consuming nature of the look-ahead, we can exclude the email addresses with the undesired domain, resulting in the following matches: `mark@gmail.com`."
   ]
  },
  {
   "cell_type": "markdown",
   "id": "11f1b505-e8d1-4818-9a4c-64f50ce9efc4",
   "metadata": {},
   "source": [
    "**Q6. In standard expressions, what is the difference between positive look-ahead and negative look-ahead?**"
   ]
  },
  {
   "cell_type": "markdown",
   "id": "31d4c9a8-5e1e-4955-8dff-aeb09a138493",
   "metadata": {},
   "source": [
    "In regular expressions, both positive look-ahead and negative look-ahead are types of look-ahead assertions that allow you to specify conditions that must (positive) or must not (negative) be true for a match to occur. The key difference between positive look-ahead and negative look-ahead lies in the condition they check.\n",
    "\n",
    "Positive Look-Ahead (`(?=...)`):\n",
    "- Positive look-ahead asserts that a pattern must be followed by another pattern for a match to occur.\n",
    "- It is denoted by `(?=...)`, where `...` represents the pattern that should follow the main pattern.\n",
    "- It does not consume the characters it examines. It only checks if the specified pattern exists after the main pattern, without including the characters in the match.\n",
    "- It is useful for finding matches that are followed by a certain pattern, without including the pattern in the final match result.\n",
    "- Example: To match \"apple\" only if it is followed by \"pie\", you can use the positive look-ahead `apple(?=pie)`.\n",
    "\n",
    "Negative Look-Ahead (`(?!...)`):\n",
    "- Negative look-ahead asserts that a pattern must not be followed by another pattern for a match to occur.\n",
    "- It is denoted by `(?!...)`, where `...` represents the pattern that should not follow the main pattern.\n",
    "- It does not consume the characters it examines. It only checks if the specified pattern does not exist after the main pattern, without including the characters in the match.\n",
    "- It is useful for excluding matches that are followed by a certain pattern from the final match result.\n",
    "- Example: To match \"apple\" only if it is not followed by \"pie\", you can use the negative look-ahead `apple(?!pie)`."
   ]
  },
  {
   "cell_type": "markdown",
   "id": "5ce9e8d9-ebfe-43f0-a1de-d337dbf9a9df",
   "metadata": {},
   "source": [
    "**Q7. What is the benefit of referring to groups by name rather than by number in a standard expression?**"
   ]
  },
  {
   "cell_type": "markdown",
   "id": "53cf6aff-cf82-4576-9890-83b4b0f03eab",
   "metadata": {},
   "source": [
    "Referring to groups by name rather than by number in a regular expression offers several benefits:\n",
    "\n",
    "1. Improved Readability: Using named groups makes the regular expression pattern more self-explanatory and easier to understand. Instead of relying on numerical indices, you can use meaningful names to label and refer to specific parts of the pattern, making it more readable and maintainable.\n",
    "\n",
    "2. Increased Clarity: Named groups provide clarity to the purpose of each group in the regular expression. By assigning descriptive names to the groups, it becomes evident what information each group captures or represents.\n",
    "\n",
    "3. Code Understanding: When working with regular expressions in code, using named groups helps improve code understanding and maintainability. By referencing groups by their names, it becomes clear what each group represents in the subsequent code logic or processing.\n",
    "\n",
    "4. Flexibility in Rearranging and Modifying Patterns: When modifying or rearranging a regular expression pattern, using named groups allows you to change the order or structure of the pattern without affecting the code that references the groups by name. This flexibility is particularly useful when dealing with complex patterns that may undergo modifications during development.\n",
    "\n",
    "5. Group Accessibility: Named groups provide an easy way to access matched substrings by their names rather than relying on numerical indices. This can simplify subsequent code operations, such as extracting specific information from the matches or performing replacements based on group values.\n",
    "\n",
    "6. Self-Documenting Patterns: Named groups act as self-documentation within the regular expression itself. By assigning descriptive names to the groups, the purpose and intent of each group become evident, making the pattern more self-explanatory."
   ]
  },
  {
   "cell_type": "markdown",
   "id": "c488abd3-b593-4eda-a341-773715e0d0a6",
   "metadata": {},
   "source": [
    "**Q8. Can you identify repeated items within a target string using named groups, as in \"The cow jumped over the moon\"?**"
   ]
  },
  {
   "cell_type": "markdown",
   "id": "24627593-d090-417c-88d4-933e269805ce",
   "metadata": {},
   "source": [
    "Yes, you can use named groups in regular expressions to identify repeated items within a target string. Here's an example using the phrase \"The cow jumped over the moon\":"
   ]
  },
  {
   "cell_type": "code",
   "execution_count": 1,
   "id": "e0a84044-aa20-4b0b-ac6f-8c5f1e649f6d",
   "metadata": {},
   "outputs": [],
   "source": [
    "\n",
    "import re\n",
    "\n",
    "text = \"The cow jumped over the moon\"\n",
    "\n",
    "pattern = r'(?P<word>\\b\\w+\\b)\\s+(?P=word)'\n",
    "\n",
    "matches = re.findall(pattern, text)\n",
    "\n",
    "for match in matches:\n",
    "    print(match)"
   ]
  },
  {
   "cell_type": "markdown",
   "id": "c4c67042-cb7c-4555-977d-87acde758bce",
   "metadata": {},
   "source": [
    "In this example, the regular expression pattern `(?P<word>\\b\\w+\\b)\\s+(?P=word)` is used to find repeated words within the target string.\n",
    "\n",
    "Let's break down the pattern:\n",
    "- `(?P<word>...)` creates a named group called \"word\" to capture a word in the text.\n",
    "- `\\b\\w+\\b` matches a word boundary followed by one or more word characters, ensuring that we match complete words.\n",
    "- `\\s+` matches one or more whitespace characters.\n",
    "- `(?P=word)` is a named backreference that matches the same word captured by the \"word\" named group.\n",
    "\n",
    "The `re.findall()` function is then used to find all occurrences of the pattern in the text. It returns a list of matches.\n",
    "\n",
    "In the given example, the pattern finds the repeated word \"cow\" as it appears twice in the sentence (\"The cow jumped over the moon\"). Each occurrence of the repeated word is captured as a match and printed.\n",
    "\n",
    "By using named groups and backreferences, you can identify repeated items or patterns within a target string and perform further processing or analysis based on the matched repetitions."
   ]
  },
  {
   "cell_type": "markdown",
   "id": "a530a213-58cf-480d-ada6-3802f17f9f31",
   "metadata": {},
   "source": [
    "**Q9. When parsing a string, what is at least one thing that the Scanner interface does for you that the re.findall feature does not?**"
   ]
  },
  {
   "cell_type": "markdown",
   "id": "32f34f81-b630-489a-9096-9eb68ce8eb1c",
   "metadata": {},
   "source": [
    "One feature that the Python 'Scanner' interface offers that the're.findall()' function does not when parsing a string is the ability to traverse over the matches rather than retrieving them all at once.\n",
    "\n",
    "You can create a scanner object that can be iterated to discover successive matches in a string using the 'Scanner' interface, which is a component of Python's're' module. When dealing with huge inputs or wanting to process the matches sequentially, it offers a more effective method of processing the string.\n",
    "\n",
    "The 'Scanner' interface's ability to handle flowing data or big strings without having to load the entire string into memory is one of its primary advantages. As you iterate through the scanner object, it sequentially scans the string and returns matches, enabling you to handle the matches more efficiently in terms of memory usage.\n",
    "\n",
    "The're.findall()' function, on the other hand, produces a list of all matches discovered in the string. When working with lengthy strings or when you need to process matches gradually, it obtains all matches at once, which may not be appropriate."
   ]
  },
  {
   "cell_type": "markdown",
   "id": "7e631ad5-0fed-443a-ae50-3578b5c0d3c9",
   "metadata": {},
   "source": [
    "**Q10. Does a scanner object have to be named scanner?**"
   ]
  },
  {
   "cell_type": "markdown",
   "id": "396c083d-31f4-47c4-850d-f52e561de9bb",
   "metadata": {},
   "source": [
    "No, a `Scanner` object in Python does not have to be named \"scanner\". You can choose any valid variable name for your `Scanner` object according to your naming conventions and the specific context of your code.\n",
    "\n",
    "When creating a `Scanner` object using the `re.Scanner` class in Python's `re` module, you can assign it to any variable name of your choice. For example:"
   ]
  },
  {
   "cell_type": "code",
   "execution_count": 2,
   "id": "c7c6f981-cb43-4148-9a12-358d2852a021",
   "metadata": {},
   "outputs": [],
   "source": [
    "\n",
    "import re\n",
    "\n",
    "my_scanner = re.Scanner([\n",
    "    (r'\\d+', lambda scanner, token: ('NUMBER', token)),\n",
    "    (r'\\w+', lambda scanner, token: ('WORD', token)),\n",
    "    (r'\\s+', None),\n",
    "])\n"
   ]
  },
  {
   "cell_type": "markdown",
   "id": "a7979077-be0f-4bca-9afc-d3450f5845ef",
   "metadata": {},
   "source": [
    "In the above example, the `Scanner` object is assigned to the variable `my_scanner`. This variable name can be customized as per your preference.\n",
    "\n",
    "It is a common practice to choose variable names that are meaningful and descriptive to improve code readability and maintainability. So, while \"scanner\" is a commonly used name for a `Scanner` object, it is not a requirement, and you are free to choose a different name that suits your code and its purpose."
   ]
  },
  {
   "cell_type": "code",
   "execution_count": null,
   "id": "9e7a4582-b2ab-4a79-b60c-8c35b9b0b0c6",
   "metadata": {},
   "outputs": [],
   "source": []
  }
 ],
 "metadata": {
  "kernelspec": {
   "display_name": "Python 3 (ipykernel)",
   "language": "python",
   "name": "python3"
  },
  "language_info": {
   "codemirror_mode": {
    "name": "ipython",
    "version": 3
   },
   "file_extension": ".py",
   "mimetype": "text/x-python",
   "name": "python",
   "nbconvert_exporter": "python",
   "pygments_lexer": "ipython3",
   "version": "3.10.6"
  }
 },
 "nbformat": 4,
 "nbformat_minor": 5
}
