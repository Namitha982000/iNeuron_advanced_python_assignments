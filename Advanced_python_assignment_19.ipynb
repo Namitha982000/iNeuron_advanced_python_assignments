{
 "cells": [
  {
   "cell_type": "markdown",
   "id": "9bedfe93-effb-4ba6-bfe4-44657f1fbfcc",
   "metadata": {},
   "source": [
    "# Assignment 19"
   ]
  },
  {
   "cell_type": "markdown",
   "id": "74cb0887-1295-4043-a97f-700b6601b088",
   "metadata": {},
   "source": [
    "**Q1. Define the relationship between a class and its instances. Is it a one-to-one or a one-to-many partnership, for example?**"
   ]
  },
  {
   "cell_type": "markdown",
   "id": "b57a2696-e939-4e6a-875e-bc08c6721013",
   "metadata": {},
   "source": [
    "The relationship between a class and its instances is a one-to-many relationship. A class serves as a blueprint or template for creating multiple instances or objects. Each instance represents a unique occurrence of the class, and multiple instances can be created based on the same class definition.\n",
    "\n",
    "In other words, a class defines the common attributes and behaviors that its instances share. It encapsulates the common characteristics and functionality that define a particular type of object. When you create an instance of a class, you are creating a distinct object that possesses its own set of attributes and can exhibit its own behavior.\n",
    "\n",
    "The relationship can be visualized as follows:\n",
    "\n",
    "```\n",
    "Class\n",
    "  |\n",
    "  | (one-to-many)\n",
    "  V\n",
    "Instances\n",
    "```\n",
    "\n",
    "Each instance has its own state, which refers to the specific values of its attributes. Although instances may share the same class structure, they can have different values for their attributes and can behave independently.\n",
    "\n",
    "For example, consider a class `Person` that defines attributes like `name`, `age`, and `gender`, as well as methods like `speak()` and `walk()`. You can create multiple instances of the `Person` class, each representing a different person with their own unique name, age, and gender. Each instance can invoke methods like `speak()` and `walk()` independently, exhibiting their own behavior."
   ]
  },
  {
   "cell_type": "code",
   "execution_count": 1,
   "id": "d8daf7f0-d523-4221-8a3d-7cab7a02b336",
   "metadata": {},
   "outputs": [
    {
     "name": "stdout",
     "output_type": "stream",
     "text": [
      "Alice\n",
      "Bob\n",
      "Hello, my name is Alice\n",
      "Bob is walking\n"
     ]
    }
   ],
   "source": [
    "\n",
    "class Person:\n",
    "    def __init__(self, name, age, gender):\n",
    "        self.name = name\n",
    "        self.age = age\n",
    "        self.gender = gender\n",
    "    \n",
    "    def speak(self):\n",
    "        print(\"Hello, my name is\", self.name)\n",
    "    \n",
    "    def walk(self):\n",
    "        print(self.name, \"is walking\")\n",
    "\n",
    "# Creating instances of Person\n",
    "person1 = Person(\"Alice\", 25, \"Female\")\n",
    "person2 = Person(\"Bob\", 30, \"Male\")\n",
    "\n",
    "# Accessing instance attributes\n",
    "print(person1.name)  # Alice\n",
    "print(person2.name)  # Bob\n",
    "\n",
    "# Invoking instance methods\n",
    "person1.speak()  # Hello, my name is Alice\n",
    "person2.walk()   # Bob is walking"
   ]
  },
  {
   "cell_type": "markdown",
   "id": "6d2b5337-667e-41ec-a30f-9d02c45c4f3a",
   "metadata": {},
   "source": [
    "**Q2. What kind of data is held only in an instance?**"
   ]
  },
  {
   "cell_type": "markdown",
   "id": "5fc0ab8e-e55a-4efb-8f73-7b835d391c7c",
   "metadata": {},
   "source": [
    "Instance data, often known as the distinct state or attributes particular to each individual instance of a class, is stored in instances. Each instance of this data is unique, and neither it nor the class as a whole can share it. Even though two instances are derived from the same class, instance data, which is declared within the instance's namespace, can vary between them.\n",
    "\n",
    "The values allocated to instance variables (sometimes referred to as instance attributes or instance fields) within the class are often included in instance data. These variables include particular information that is pertinent to each instance. Instances might have their own unique qualities since instance variables' values can vary from instance to instance.\n",
    "\n",
    "For example, in a class representing a `Car`, instance data could include attributes such as `color`, `make`, `model`, and `year`. Each instance of the `Car` class can have its own values for these attributes, representing unique car objects."
   ]
  },
  {
   "cell_type": "code",
   "execution_count": 2,
   "id": "d7e7d3d7-5c5a-4a3e-8e73-7593b46b2afb",
   "metadata": {},
   "outputs": [
    {
     "name": "stdout",
     "output_type": "stream",
     "text": [
      "Red\n",
      "Honda\n",
      "2020\n",
      "Civic\n"
     ]
    }
   ],
   "source": [
    "\n",
    "class Car:\n",
    "    def __init__(self, color, make, model, year):\n",
    "        self.color = color\n",
    "        self.make = make\n",
    "        self.model = model\n",
    "        self.year = year\n",
    "\n",
    "# Creating instances of Car with unique instance data\n",
    "car1 = Car(\"Red\", \"Toyota\", \"Corolla\", 2020)\n",
    "car2 = Car(\"Blue\", \"Honda\", \"Civic\", 2018)\n",
    "\n",
    "# Accessing instance data\n",
    "print(car1.color)  # Red\n",
    "print(car2.make)   # Honda\n",
    "print(car1.year)   # 2020\n",
    "print(car2.model)  # Civic\n"
   ]
  },
  {
   "cell_type": "markdown",
   "id": "4a59ad23-d3c4-4bbb-9fed-ab2c3db67445",
   "metadata": {},
   "source": [
    "In the above example, each instance of `Car` holds its own instance data (color, make, model, and year) specific to that particular car object. The instance data represents the unique characteristics and state of each instance."
   ]
  },
  {
   "cell_type": "markdown",
   "id": "9a4471c8-c457-4eb9-870b-7c739400caff",
   "metadata": {},
   "source": [
    "**Q3. What kind of knowledge is stored in a class?**"
   ]
  },
  {
   "cell_type": "markdown",
   "id": "d12e44bb-3a93-4ad0-9271-32956e82092e",
   "metadata": {},
   "source": [
    "Class attributes and class methods are two different sorts of knowledge that can be kept in a class.\n",
    "\n",
    "1. Class Attributes: Variables that are specified within a class but outside of any methods are called class attributes. They store information that is common to every instance of the class. The class name or class instances can be used to retrieve class attributes. They stand for shared knowledge or data among all instances of the class.\n",
    "\n",
    "For example, in a class representing a `Car`, class attributes could include information such as the number of wheels (`num_wheels = 4`), the type of fuel used (`fuel_type = 'petrol'`), or any other characteristic that remains constant for all instances of the class."
   ]
  },
  {
   "cell_type": "code",
   "execution_count": 3,
   "id": "2d21db4d-8676-442a-b711-f7b6eee18758",
   "metadata": {},
   "outputs": [
    {
     "name": "stdout",
     "output_type": "stream",
     "text": [
      "4\n",
      "petrol\n",
      "4\n",
      "petrol\n"
     ]
    }
   ],
   "source": [
    "class Car:\n",
    "    num_wheels = 4\n",
    "    fuel_type = 'petrol'\n",
    "\n",
    "# Accessing class attributes\n",
    "print(Car.num_wheels)   # 4\n",
    "print(Car.fuel_type)    # petrol\n",
    "\n",
    "car1 = Car()\n",
    "print(car1.num_wheels)  # 4\n",
    "print(car1.fuel_type)   # petrol"
   ]
  },
  {
   "cell_type": "markdown",
   "id": "40a67974-6a84-4993-8fa1-f270a181e64a",
   "metadata": {},
   "source": [
    "2. Class Methods: The functions that are defined within a class that work on the class itself rather than instances of the class are called class methods. They are identified by the '@classmethod' decorator and often employed to carry out activities connected to the class as a whole. Class methods can be used on the class itself or on instances of the class, and they have access to the class-level attributes.\n",
    "\n",
    "Class methods include information or actions that are unique to the class as a whole and independent of any particular instance. They can be used to carry out utility actions, create alternative constructors, or work with class-level data."
   ]
  },
  {
   "cell_type": "code",
   "execution_count": 5,
   "id": "6fde218f-29ec-4ad0-a507-ff9ece97d8a1",
   "metadata": {},
   "outputs": [
    {
     "name": "stdout",
     "output_type": "stream",
     "text": [
      "petrol\n",
      "petrol\n"
     ]
    }
   ],
   "source": [
    "class Car:\n",
    "    num_wheels = 4\n",
    "    fuel_type = 'petrol'\n",
    "\n",
    "    @classmethod\n",
    "    def get_fuel_type(cls):\n",
    "        return cls.fuel_type\n",
    "\n",
    "# Accessing class method\n",
    "print(Car.get_fuel_type())   # petrol\n",
    "\n",
    "car1 = Car()\n",
    "print(car1.get_fuel_type())  # petrol"
   ]
  },
  {
   "cell_type": "markdown",
   "id": "b8d629e8-2c15-420d-91d3-4e14b88b11d2",
   "metadata": {},
   "source": [
    "In the above example, the `get_fuel_type()` method is a class method that accesses the class attribute `fuel_type` and returns its value. This method provides knowledge about the fuel type associated with the class."
   ]
  },
  {
   "cell_type": "markdown",
   "id": "8eaa5ebc-6cd7-4b7d-a39d-788783811977",
   "metadata": {},
   "source": [
    "**Q4. What exactly is a method, and how is it different from a regular function?**"
   ]
  },
  {
   "cell_type": "markdown",
   "id": "6974d4ad-ee1b-4476-bd44-931ba057a738",
   "metadata": {},
   "source": [
    "In a class, a method is a function that is designated and connected to objects (instances) of that class. It can access or modify the state of specific instances while operating on the data (attributes) of the class. A method is a function that is a part of a class, to put it simply.\n",
    "\n",
    "Here are some key differences between a method and a regular function:\n",
    "\n",
    "1. Associated with a Class: A method is specified in the class block and is connected to a class. It is intended to function on the characteristics and actions of instances of that class. A normal function, on the other hand, is autonomous and unattached to any particular class.\n",
    "\n",
    "2. Access to Instance Data: Through the unique'self' parameter, methods gain access to the instance data (attributes) of the class. This makes it possible for methods to communicate with and alter the state of certain instances. Regular functions cannot access instance data by default; they must be explicitly supplied as arguments.\n",
    "\n",
    "3. Inheritance: Subclasses are capable of inheriting methods. A class that is descended from another class inherits all of the parent class's methods. As a result, it is possible to reuse code, and subclasses can expand and inherit the parent class's behaviour. Other functions do not necessarily inherit regular functions.\n",
    "\n",
    "4. Implicit First Parameter: Methods have an implicit first parameter called `self`, which refers to the instance on which the method is called. This parameter allows the method to access the instance data. Regular functions do not have this implicit parameter.\n",
    "\n",
    "5. Invocation: Methods are invoked on instances of the class using the dot notation, such as `instance.method()`. Regular functions are called independently using their function name, such as `function()`."
   ]
  },
  {
   "cell_type": "code",
   "execution_count": 6,
   "id": "5ff4a3f6-6293-49f9-9ce8-29f5dabe0513",
   "metadata": {},
   "outputs": [
    {
     "name": "stdout",
     "output_type": "stream",
     "text": [
      "78.5\n",
      "78.5\n"
     ]
    }
   ],
   "source": [
    "class Circle:\n",
    "    def __init__(self, radius):\n",
    "        self.radius = radius\n",
    "\n",
    "    # Method defined within the class\n",
    "    def calculate_area(self):\n",
    "        return 3.14 * self.radius**2\n",
    "\n",
    "# Creating an instance of Circle\n",
    "circle = Circle(5)\n",
    "\n",
    "# Calling the method on the instance\n",
    "area = circle.calculate_area()\n",
    "print(area)  # Output: 78.5\n",
    "\n",
    "# Regular function\n",
    "def calculate_area(radius):\n",
    "    return 3.14 * radius**2\n",
    "\n",
    "# Calling the regular function\n",
    "area = calculate_area(5)\n",
    "print(area)  # Output: 78.5"
   ]
  },
  {
   "cell_type": "markdown",
   "id": "f6f39f8d-8674-4a7d-93fc-9fe60e52c671",
   "metadata": {},
   "source": [
    "In the above example, `calculate_area()` is a method defined within the `Circle` class. It operates on the instance data (`radius`) using the `self` parameter. On the other hand, the `calculate_area()` function is a regular function that performs the same calculation but is not associated with any class."
   ]
  },
  {
   "cell_type": "markdown",
   "id": "f3d76a5c-a497-4664-8114-01de6424312f",
   "metadata": {},
   "source": [
    "**Q5. Is inheritance supported in Python, and if so, what is the syntax?**"
   ]
  },
  {
   "cell_type": "markdown",
   "id": "7b12f85c-6fe6-41f8-856d-927d8ab2134c",
   "metadata": {},
   "source": [
    "Yes, inheritance is supported in Python, and it allows you to create new classes (derived or child classes) based on existing classes (base or parent classes). The derived classes inherit the attributes and methods of the base class, and you can also add new attributes and methods or override the inherited ones in the derived class.\n",
    "\n",
    "In Python, the syntax for inheritance is as follows:\n",
    "\n",
    "```python\n",
    "class BaseClass:\n",
    "    # Base class attributes and methods\n",
    "\n",
    "class DerivedClass(BaseClass):\n",
    "    # Derived class attributes and methods\n",
    "```\n",
    "\n",
    "The derived class is created by specifying the base class in parentheses after the derived class name. The derived class can then access the attributes and methods of the base class.\n",
    "\n",
    "Here's an example to illustrate inheritance in Python:"
   ]
  },
  {
   "cell_type": "code",
   "execution_count": 7,
   "id": "5b138117-f24b-4db4-95c9-bd1b288a599c",
   "metadata": {},
   "outputs": [
    {
     "name": "stdout",
     "output_type": "stream",
     "text": [
      "Generic Animal\n",
      "Animal sound\n",
      "Buddy\n",
      "Bark\n"
     ]
    }
   ],
   "source": [
    "\n",
    "class Animal:\n",
    "    def __init__(self, name):\n",
    "        self.name = name\n",
    "\n",
    "    def sound(self):\n",
    "        print(\"Animal sound\")\n",
    "\n",
    "class Dog(Animal):\n",
    "    def sound(self):\n",
    "        print(\"Bark\")\n",
    "\n",
    "# Creating an instance of the base class\n",
    "animal = Animal(\"Generic Animal\")\n",
    "print(animal.name)    # Output: Generic Animal\n",
    "animal.sound()        # Output: Animal sound\n",
    "\n",
    "# Creating an instance of the derived class\n",
    "dog = Dog(\"Buddy\")\n",
    "print(dog.name)       # Output: Buddy\n",
    "dog.sound()           # Output: Bark"
   ]
  },
  {
   "cell_type": "markdown",
   "id": "4c933660-27bf-44ca-a08e-fee8c9c9ce62",
   "metadata": {},
   "source": [
    "In the above example, we have a base class `Animal` with an `__init__` method and a `sound` method. The derived class `Dog` is created by inheriting from the `Animal` class. The `Dog` class overrides the `sound` method to provide a specific implementation for the sound of a dog. The `Dog` class inherits the `name` attribute from the `Animal` class.\n",
    "\n",
    "When an instance of `Animal` is created, it can access the `name` attribute and the `sound` method defined in the base class. When an instance of `Dog` is created, it also has access to the `name` attribute and the `sound` method, but the overridden version of the method is called, resulting in the specific sound of a dog."
   ]
  },
  {
   "cell_type": "markdown",
   "id": "3ee18e25-3cdd-4d05-b900-1d5e561d9ae8",
   "metadata": {},
   "source": [
    "**Q6. How much encapsulation (making instance or class variables private) does Python support?**"
   ]
  },
  {
   "cell_type": "markdown",
   "id": "d337334e-1270-4642-b0ae-334f3b0e3589",
   "metadata": {},
   "source": [
    "Although Python does not have rigid access modifiers like some other programming languages (such as private, protected, and public), encapsulation is nonetheless maintained by the use of naming conventions and access modifiers. Since Python operates under the guiding premise that \"we are all consenting adults here,\" programmers are trusted to use naming conventions to denote the intended accessibility of variables and methods.\n",
    "\n",
    "Python has a convention to specify that a variable or method inside a class should be viewed as private. A non-public or private member is typically referred to as one whose name begins with an underscore (_). Although the underscore naming convention is not required by the language itself, it is customary to observe it and regard such members as private.\n",
    "\n",
    "\n",
    "Here's an example to illustrate the concept of encapsulation in Python:"
   ]
  },
  {
   "cell_type": "code",
   "execution_count": 8,
   "id": "89b62905-3992-4e54-882f-ddfb3d1e5f90",
   "metadata": {},
   "outputs": [
    {
     "name": "stdout",
     "output_type": "stream",
     "text": [
      "10\n",
      "This is a private method\n",
      "This is a public method\n"
     ]
    }
   ],
   "source": [
    "\n",
    "class MyClass:\n",
    "    def __init__(self):\n",
    "        self._private_var = 10   # Private variable\n",
    "\n",
    "    def _private_method(self):\n",
    "        print(\"This is a private method\")\n",
    "\n",
    "    def public_method(self):\n",
    "        print(\"This is a public method\")\n",
    "\n",
    "# Creating an instance of MyClass\n",
    "obj = MyClass()\n",
    "\n",
    "# Accessing private variable (conventionally treated as private)\n",
    "print(obj._private_var)          # Output: 10\n",
    "\n",
    "# Calling private method (conventionally treated as private)\n",
    "obj._private_method()            # Output: This is a private method\n",
    "\n",
    "# Calling public method\n",
    "obj.public_method()              # Output: This is a public method"
   ]
  },
  {
   "cell_type": "markdown",
   "id": "5999f526-2fba-4835-94d9-378b35aef364",
   "metadata": {},
   "source": [
    "In the above example, `_private_var` and `_private_method` are marked as private by convention, indicated by the underscore prefix. Although they can still be accessed and called from outside the class, it is a convention to treat them as non-public members and discourage direct access."
   ]
  },
  {
   "cell_type": "markdown",
   "id": "70c6df45-a39e-4e4d-ac72-3ecd56b1bfe9",
   "metadata": {},
   "source": [
    "**Q7. How do you distinguish between a class variable and an instance variable?**"
   ]
  },
  {
   "cell_type": "markdown",
   "id": "f7d24351-fb97-4b83-befa-5aa33c3a6e5a",
   "metadata": {},
   "source": [
    "In Python, class variables and instance variables are two types of variables that have different scopes and behaviors within a class.\n",
    "\n",
    "1. Class Variables:\n",
    "   - Class variables are defined within the class but outside any method.\n",
    "   - They are shared by all instances of the class.\n",
    "   - Class variables are declared directly under the class header, usually before the constructor (`__init__`) method.\n",
    "   - They are accessed using the class name or instance name.\n",
    "   - Class variables are typically used to store data that is shared among all instances of the class.\n",
    "   - Changes made to a class variable are reflected in all instances of the class.\n",
    "\n",
    "Here's an example to illustrate class variables:"
   ]
  },
  {
   "cell_type": "code",
   "execution_count": 9,
   "id": "603b2acc-4d45-4c85-b603-602fea21efec",
   "metadata": {},
   "outputs": [
    {
     "name": "stdout",
     "output_type": "stream",
     "text": [
      "3.14\n",
      "3.14\n",
      "3.14\n",
      "5\n",
      "7\n",
      "78.5\n",
      "153.86\n"
     ]
    }
   ],
   "source": [
    "class Circle:\n",
    "    # Class variable\n",
    "    pi = 3.14\n",
    "\n",
    "    def __init__(self, radius):\n",
    "        # Instance variable\n",
    "        self.radius = radius\n",
    "\n",
    "    def calculate_area(self):\n",
    "        # Accessing class variable within an instance method\n",
    "        return Circle.pi * self.radius**2\n",
    "\n",
    "# Creating instances of Circle\n",
    "circle1 = Circle(5)\n",
    "circle2 = Circle(7)\n",
    "\n",
    "# Accessing class variable using class name\n",
    "print(Circle.pi)         # Output: 3.14\n",
    "\n",
    "# Accessing class variable using instance\n",
    "print(circle1.pi)        # Output: 3.14\n",
    "print(circle2.pi)        # Output: 3.14\n",
    "\n",
    "# Accessing instance variable\n",
    "print(circle1.radius)    # Output: 5\n",
    "print(circle2.radius)    # Output: 7\n",
    "\n",
    "# Calling instance method\n",
    "area1 = circle1.calculate_area()\n",
    "area2 = circle2.calculate_area()\n",
    "print(area1)             # Output: 78.5\n",
    "print(area2)             # Output: 153.86\n"
   ]
  },
  {
   "cell_type": "markdown",
   "id": "1a684e31-ce7c-4cc3-ab6f-a204c5a9207b",
   "metadata": {},
   "source": [
    "In the above example, `pi` is a class variable defined within the `Circle` class. It is accessed using the class name (`Circle.pi`) or through instances (`circle1.pi`, `circle2.pi`). The `radius` variable is an instance variable defined within the `__init__` method, and each instance of `Circle` has its own `radius` value.\n",
    "\n",
    "2. Instance Variables:\n",
    "   - Instance variables are specific to each instance of a class.\n",
    "   - They are defined within the constructor (`__init__`) method or any other instance method.\n",
    "   - Instance variables are prefixed with `self` to associate them with the instance.\n",
    "   - Each instance has its own separate copy of instance variables.\n",
    "   - Instance variables are accessed and modified using the `self` keyword within instance methods or through the instance name."
   ]
  },
  {
   "cell_type": "markdown",
   "id": "d287f01b-fe05-4773-8669-7231f573c567",
   "metadata": {},
   "source": [
    "**Q8. When, if ever, can self be included in a class's method definitions?**"
   ]
  },
  {
   "cell_type": "markdown",
   "id": "21842db3-967d-4001-83c9-ffed6c0c2d74",
   "metadata": {},
   "source": [
    "In Python, the `self` parameter is included in a class's method definitions to represent the instance of the class itself. It is a convention to name the first parameter of an instance method as `self`, although any valid variable name can be used. The `self` parameter allows the instance methods to access and manipulate the instance variables and other methods of the class.\n",
    "\n",
    "The `self` parameter is automatically passed when an instance method is called, and it allows the method to operate on the specific instance that invoked it. By including `self` as the first parameter in the method definition, you can refer to the instance and its attributes within the method.\n",
    "\n",
    "Here's an example to illustrate the usage of `self` in class method definitions:"
   ]
  },
  {
   "cell_type": "code",
   "execution_count": 10,
   "id": "3af88238-053d-4a8e-93a0-71c20e879a6a",
   "metadata": {},
   "outputs": [
    {
     "name": "stdout",
     "output_type": "stream",
     "text": [
      "Hello, my name is Alice and I am 25 years old.\n",
      "It's my birthday! Now I am 26 years old.\n"
     ]
    }
   ],
   "source": [
    "class Person:\n",
    "    def __init__(self, name, age):\n",
    "        self.name = name\n",
    "        self.age = age\n",
    "\n",
    "    def introduce(self):\n",
    "        print(f\"Hello, my name is {self.name} and I am {self.age} years old.\")\n",
    "\n",
    "    def celebrate_birthday(self):\n",
    "        self.age += 1\n",
    "        print(f\"It's my birthday! Now I am {self.age} years old.\")\n",
    "\n",
    "# Creating an instance of Person\n",
    "person = Person(\"Alice\", 25)\n",
    "\n",
    "# Calling instance methods\n",
    "person.introduce()          # Output: Hello, my name is Alice and I am 25 years old.\n",
    "person.celebrate_birthday() # Output: It's my birthday! Now I am 26 years old."
   ]
  },
  {
   "cell_type": "markdown",
   "id": "07f6f75a-9f36-4637-8ee2-3228e685090b",
   "metadata": {},
   "source": [
    "In the above example, the `Person` class has two instance variables `name` and `age`, and two instance methods `introduce()` and `celebrate_birthday()`. The `self` parameter is used in both methods to refer to the instance itself and access its attributes (`self.name`, `self.age`).\n",
    "\n",
    "By including `self` as the first parameter in the method definitions, you can access and manipulate the instance variables within the methods. It helps in distinguishing instance variables from local variables within the method and ensures that the method operates on the correct instance."
   ]
  },
  {
   "cell_type": "markdown",
   "id": "649d367c-e78d-47dc-8dfa-b02da9e604a4",
   "metadata": {},
   "source": [
    "**Q9. What is the difference between the _ _add_ _ and the _ _radd_ _ methods?**"
   ]
  },
  {
   "cell_type": "markdown",
   "id": "12765a5f-fd11-4a61-92ec-76d260768e6c",
   "metadata": {},
   "source": [
    "The `__add__` and `__radd__` methods in Python are used to define the behavior of addition (`+`) operations involving objects of a class. The key difference between these two methods lies in the order of operands during the addition operation.\n",
    "\n",
    "1. `__add__` Method:\n",
    "   - The `__add__` method is called when the `+` operator is used to add an object of the class with another object, and the object on the left side of the `+` operator is an instance of the class.\n",
    "   - It defines the behavior for addition when the object of the class is the left operand in the addition operation.\n",
    "   - If the `__add__` method is not defined for a class, the default behavior of addition will be used (which may raise a `TypeError` if addition is not supported).\n",
    "\n",
    "2. `__radd__` Method:\n",
    "   - The `__radd__` method is called when the `+` operator is used to add an object of the class with another object, and the object on the left side of the `+` operator does not support the addition operation.\n",
    "   - It defines the behavior for addition when the object of the class is the right operand in the addition operation.\n",
    "   - If the `__radd__` method is not defined for a class, Python will attempt to call the `__add__` method of the right operand (if it exists) after swapping the operands.\n",
    "\n",
    "Here's an example to illustrate the difference between `__add__` and `__radd__`:"
   ]
  },
  {
   "cell_type": "code",
   "execution_count": 11,
   "id": "7cd4657d-ef8f-4b2c-b254-b5c72e671dc6",
   "metadata": {},
   "outputs": [
    {
     "name": "stdout",
     "output_type": "stream",
     "text": [
      "15\n",
      "12\n",
      "17\n"
     ]
    }
   ],
   "source": [
    "class Number:\n",
    "    def __init__(self, value):\n",
    "        self.value = value\n",
    "\n",
    "    def __add__(self, other):\n",
    "        if isinstance(other, Number):\n",
    "            return Number(self.value + other.value)\n",
    "        elif isinstance(other, int):\n",
    "            return Number(self.value + other)\n",
    "\n",
    "    def __radd__(self, other):\n",
    "        if isinstance(other, int):\n",
    "            return Number(self.value + other)\n",
    "\n",
    "# Creating instances of Number\n",
    "num1 = Number(5)\n",
    "num2 = Number(10)\n",
    "\n",
    "# Using the __add__ method\n",
    "result1 = num1 + num2       # Calls num1.__add__(num2)\n",
    "print(result1.value)        # Output: 15\n",
    "\n",
    "result2 = num1 + 7          # Calls num1.__add__(7)\n",
    "print(result2.value)        # Output: 12\n",
    "\n",
    "# Using the __radd__ method\n",
    "result3 = 7 + num2          # Calls num2.__radd__(7)\n",
    "print(result3.value)        # Output: 17"
   ]
  },
  {
   "cell_type": "markdown",
   "id": "d64aa99f-0e98-4658-833a-e1048e3de5c3",
   "metadata": {},
   "source": [
    "In the above example, the `Number` class defines the `__add__` and `__radd__` methods. The `__add__` method handles addition when the object of the class is the left operand, while the `__radd__` method handles addition when the object of the class is the right operand.\n",
    "\n",
    "When `num1 + num2` is performed, it calls the `__add__` method of `num1` and returns a new `Number` object with the sum of the values. When `num1 + 7` is performed, it also calls the `__add__` method of `num1` and returns a new `Number` object.\n",
    "\n",
    "On the other hand, when `7 + num2` is performed, the object on the left side (`7`) does not support the addition operation with the `Number` object. In this case, Python attempts to call the `__radd__` method of `num2`, and it returns a new `Number` object."
   ]
  },
  {
   "cell_type": "markdown",
   "id": "1d9cbb95-3b49-4558-8d11-026514cb75c3",
   "metadata": {},
   "source": [
    "**Q10. When is it necessary to use a reflection method? When do you not need it, even though you support the operation in question?**"
   ]
  },
  {
   "cell_type": "markdown",
   "id": "bd384e12-ff67-421f-8f7b-039cb05b76e1",
   "metadata": {},
   "source": [
    "Reflection methods, commonly referred to as \"magic\" or \"dunder\" methods in Python, are unique techniques that let objects carry out specific tasks or reveal details about themselves. Specific syntax or built-in functions can call these methods. The individual use case and specifications of your programme determine whether utilising a reflection approach is necessary.\n",
    "\n",
    "When you want to specify or customise the behaviour of specific operations for objects of a class, you must use a reflection method. For instance:\n",
    "\n",
    "1. You can define the '__add__' method in your class if you want to modify the behaviour of the addition operation ('+').\n",
    "2. You can define the '__str__' or '__repr__' function to modify the string representation of your object.\n",
    "3. You can define the '__iter__' method to iterate through the object using a 'for' loop.\n",
    "\n",
    "You may manage how your objects react to particular activities and offer meaningful representations or behaviours by putting these reflection methods into practise.\n",
    "\n",
    "Even if you support the operation in question, there are some circumstances in which you might not need to employ reflection methods. This may occur when the built-in types in Python or inheritance's default behaviour is adequate for your use case. For instance:\n",
    "\n",
    "1. You might not need to implement reflection methods for fundamental mathematical operations or string conversion as Python's built-in types already provide default behaviour for operations like addition, subtraction, and string representation.\n",
    "2. You can rely on the inherited reflection methods without explicitly specifying them in your class if your class derives from another class that already exhibits the desired behaviour.\n"
   ]
  },
  {
   "cell_type": "markdown",
   "id": "031bbdc2-fdd3-4e94-8459-26b85e63bd01",
   "metadata": {},
   "source": [
    "**Q11. What is the _ _iadd_ _ method called?**"
   ]
  },
  {
   "cell_type": "markdown",
   "id": "40ee60d8-2969-4280-9185-995a82c8aacc",
   "metadata": {},
   "source": [
    "The `__iadd__` method in Python is called for the `+=` operator, which performs the in-place addition operation. It is a reflection method that allows objects to define their behavior when the `+=` operator is used with instances of a class.\n",
    "\n",
    "The `__iadd__` method modifies the object itself by performing the addition operation and updating its internal state. It is part of the augmented assignment operators, which combine an operation and assignment into a single statement.\n"
   ]
  },
  {
   "cell_type": "code",
   "execution_count": 12,
   "id": "4a11edd7-6ff1-4e4d-954c-af1731ca737d",
   "metadata": {},
   "outputs": [
    {
     "name": "stdout",
     "output_type": "stream",
     "text": [
      "15\n",
      "22\n"
     ]
    }
   ],
   "source": [
    "class Number:\n",
    "    def __init__(self, value):\n",
    "        self.value = value\n",
    "\n",
    "    def __iadd__(self, other):\n",
    "        if isinstance(other, Number):\n",
    "            self.value += other.value\n",
    "        elif isinstance(other, int):\n",
    "            self.value += other\n",
    "        return self\n",
    "\n",
    "num1 = Number(5)\n",
    "num2 = Number(10)\n",
    "\n",
    "num1 += num2   # Calls num1.__iadd__(num2)\n",
    "print(num1.value)  # Output: 15\n",
    "\n",
    "num1 += 7      # Calls num1.__iadd__(7)\n",
    "print(num1.value)  # Output: 22"
   ]
  },
  {
   "cell_type": "markdown",
   "id": "92fc52e8-1ffe-42fb-b415-688be98c98e0",
   "metadata": {},
   "source": [
    "In the above example, the `Number` class defines the `__iadd__` method. When the `+=` operator is used with instances of the `Number` class, it calls the `__iadd__` method and performs the in-place addition operation. The `__iadd__` method updates the `value` attribute of the object itself, modifying its internal state."
   ]
  },
  {
   "cell_type": "markdown",
   "id": "0766c0e1-69ac-4eb4-af83-d6a04ae15671",
   "metadata": {},
   "source": [
    "**Q12. Is the _ _init_ _ method inherited by subclasses? What do you do if you need to customize its behavior within a subclass?**"
   ]
  },
  {
   "cell_type": "markdown",
   "id": "36893a6d-5c1e-400a-97b2-ea3b2113805a",
   "metadata": {},
   "source": [
    "Yes, the `__init__` method is inherited by subclasses in Python. When a subclass is created, it inherits all the methods, including the `__init__` method, from its parent class.\n",
    "\n",
    "If the '__init__' method's behaviour needs to be altered within a subclass, the method can be overridden by defining it there. You can change or expand the initialization procedure particular to the subclass while still maintaining any required parent class behaviour by adding a new implementation of the '__init__' function in the subclass.\n",
    "\n",
    "Here's an example to demonstrate overriding the `__init__` method in a subclass:"
   ]
  },
  {
   "cell_type": "code",
   "execution_count": 13,
   "id": "9d9331fc-cef7-4361-9ae1-764798a286de",
   "metadata": {},
   "outputs": [
    {
     "name": "stdout",
     "output_type": "stream",
     "text": [
      "Max\n",
      "Labrador\n",
      "Woof!\n"
     ]
    }
   ],
   "source": [
    "class Animal:\n",
    "    def __init__(self, name):\n",
    "        self.name = name\n",
    "\n",
    "    def speak(self):\n",
    "        pass  # Placeholder for the speak method\n",
    "\n",
    "\n",
    "class Dog(Animal):\n",
    "    def __init__(self, name, breed):\n",
    "        super().__init__(name)  # Call the parent class's __init__ method\n",
    "        self.breed = breed\n",
    "\n",
    "    def speak(self):\n",
    "        return \"Woof!\"\n",
    "\n",
    "\n",
    "my_dog = Dog(\"Max\", \"Labrador\")\n",
    "print(my_dog.name)   # Output: Max\n",
    "print(my_dog.breed)  # Output: Labrador\n",
    "print(my_dog.speak())  # Output: Woof!"
   ]
  },
  {
   "cell_type": "markdown",
   "id": "1d8692aa-d867-42c9-b025-07d89a5fe121",
   "metadata": {},
   "source": [
    "In the above example, we have a parent class `Animal` with an `__init__` method that initializes the `name` attribute. The `Dog` subclass inherits from `Animal` and overrides the `__init__` method to add the `breed` attribute in addition to the `name` attribute inherited from the parent class.\n",
    "\n",
    "By using the `super()` function, we call the `__init__` method of the parent class `Animal` inside the `Dog` class's `__init__` method. This ensures that the parent class's initialization logic is executed, and we can add the specific initialization logic for the `Dog` class."
   ]
  },
  {
   "cell_type": "code",
   "execution_count": null,
   "id": "99cb3729-86c5-4d04-9063-cc5f353cda75",
   "metadata": {},
   "outputs": [],
   "source": []
  }
 ],
 "metadata": {
  "kernelspec": {
   "display_name": "Python 3 (ipykernel)",
   "language": "python",
   "name": "python3"
  },
  "language_info": {
   "codemirror_mode": {
    "name": "ipython",
    "version": 3
   },
   "file_extension": ".py",
   "mimetype": "text/x-python",
   "name": "python",
   "nbconvert_exporter": "python",
   "pygments_lexer": "ipython3",
   "version": "3.10.6"
  }
 },
 "nbformat": 4,
 "nbformat_minor": 5
}
