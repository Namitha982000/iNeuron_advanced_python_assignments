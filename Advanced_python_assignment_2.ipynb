{
 "cells": [
  {
   "cell_type": "markdown",
   "id": "7b284497-be09-46c8-93d8-8580034563ad",
   "metadata": {},
   "source": [
    "# Assignment 2"
   ]
  },
  {
   "cell_type": "markdown",
   "id": "6ffc3bc3-b2e1-403e-bed2-d1e0a60098ac",
   "metadata": {},
   "source": [
    "**Q1. What is the relationship between classes and modules?**"
   ]
  },
  {
   "cell_type": "markdown",
   "id": "16d75ccc-8ba1-426d-afcd-467227e44ab9",
   "metadata": {},
   "source": [
    "In Python, classes and modules are both essential components of the language, but they serve different purposes and have different relationships:\n",
    "1. Classes: A class is a blueprint or template for creating objects, which are instances of the class. It defines the structure, behavior, and attributes that the objects will possess. Classes encapsulate related data and functions into a single unit and allow for code reusability through inheritance. Multiple instances of a class can be created, each with its own state and behavior.\n",
    "2. Modules: A module is a file containing Python definitions, statements, and functions that can be imported and used in other Python programs. Modules serve as containers for related code, allowing for code organization and modularity. They help avoid naming conflicts and provide a way to logically group related functionality. Modules can contain class definitions, function definitions, constants, and other Python code.\n",
    "Relationship between Classes and Modules:\n",
    "- Classes can be defined within a module. In this case, the module acts as a container for the class definition.\n",
    "- Modules can import and use classes defined in other modules. This allows classes from one module to be utilized in another module by importing the necessary class.\n",
    "- Classes can inherit from classes defined in other modules, allowing for class inheritance across modules.\n",
    "- Modules can include instances of classes as attributes or use class instances to provide functionality.\n",
    "In summary, classes define the structure and behavior of objects, while modules provide a way to organize and group related code. Modules can contain class definitions, import classes from other modules, and utilize class instances. The relationship between classes and modules is one of code organization, reusability, and encapsulation."
   ]
  },
  {
   "cell_type": "markdown",
   "id": "a06f1afa-3ca9-4f7e-b968-71bc720a80e0",
   "metadata": {},
   "source": [
    "**Q2. How do you make instances and classes?**"
   ]
  },
  {
   "cell_type": "markdown",
   "id": "1fb036d9-5a8c-4de6-9ba9-db0799835488",
   "metadata": {},
   "source": [
    "To create instances and classes in Python, you follow these steps:\n",
    "Creating Instances (Object Creation):\n",
    "1. Define a Class: Start by defining a class using the `class` keyword, followed by the class name. Inside the class, you can define attributes and methods that the instances will possess.\n",
    "2. Instantiate the Class: To create an instance of the class, you call the class as if it were a function, passing any necessary arguments to the class's `__init__` method. This process is known as instantiation.\n",
    "3. Access Instance Attributes and Methods: Once the instance is created, you can access its attributes and invoke its methods using dot notation. This allows you to interact with the instance and perform operations specific to that instance.\n",
    "Example:"
   ]
  },
  {
   "cell_type": "code",
   "execution_count": 1,
   "id": "c6d5ed01-6559-475c-bf0a-10c3da78bba2",
   "metadata": {},
   "outputs": [
    {
     "name": "stdout",
     "output_type": "stream",
     "text": [
      "blue\n",
      "Toyota\n",
      "The blue Toyota is accelerating.\n"
     ]
    }
   ],
   "source": [
    "class Car:\n",
    "    def __init__(self, color, brand):\n",
    "        self.color = color\n",
    "        self.brand = brand\n",
    "    def accelerate(self):\n",
    "        print(f\"The {self.color} {self.brand} is accelerating.\")\n",
    "# Create an instance of the Car class\n",
    "my_car = Car('blue', 'Toyota')\n",
    "# Access instance attributes\n",
    "print(my_car.color)\n",
    "# Output: 'blue'\n",
    "print(my_car.brand)\n",
    "# Output: 'Toyota'\n",
    "# Invoke instance method\n",
    "my_car.accelerate()"
   ]
  },
  {
   "cell_type": "markdown",
   "id": "874bc13c-6a98-4238-bc1b-fc6b3656fd0c",
   "metadata": {},
   "source": [
    "Creating Classes:\n",
    "1. Define a Class: Start by defining a class using the `class` keyword, followed by the class name. Inside the class, you can define attributes and methods that the instances of the class will possess.\n",
    "2. Access Class Attributes and Methods: Class attributes and methods are accessed using the class name directly, without the need for instance creation. Class attributes are shared among all instances of the class."
   ]
  },
  {
   "cell_type": "code",
   "execution_count": 2,
   "id": "73609868-26a4-40f5-b2ca-c5f390f482d3",
   "metadata": {},
   "outputs": [
    {
     "name": "stdout",
     "output_type": "stream",
     "text": [
      "3.14159\n",
      "25\n"
     ]
    }
   ],
   "source": [
    "class MathUtils:\n",
    "    PI = 3.14159\n",
    "    @staticmethod\n",
    "    def square(x):\n",
    "        return x ** 2\n",
    "# Access class attribute\n",
    "print(MathUtils.PI)\n",
    "# Output: 3.14159\n",
    "# Call class method\n",
    "result = MathUtils.square(5)\n",
    "print(result)"
   ]
  },
  {
   "cell_type": "markdown",
   "id": "a9dbc1af-ceb8-4dcd-a4af-6b7ade4ab1d0",
   "metadata": {},
   "source": [
    "In the above example, the `MathUtils` class defines a class attribute `PI` and a class method `square()`. These class-level elements can be accessed directly using the class name, without the need for instance creation.\n",
    "By following these steps, you can create instances of classes to represent individual objects and define classes to encapsulate related data and behavior. Instances and classes play different roles in object-oriented programming, allowing you to work with specific objects and define the blueprints for creating objects, respectively."
   ]
  },
  {
   "cell_type": "markdown",
   "id": "9a3b1120-519f-40e9-af5a-447c7ece3b7c",
   "metadata": {},
   "source": [
    "**Q3. Where and how should be class attributes created?**"
   ]
  },
  {
   "cell_type": "markdown",
   "id": "0e3c1bf1-bb7b-4511-b9ff-dd6a8e03862f",
   "metadata": {},
   "source": [
    "Class attributes in Python are created within the class definition and are shared among all instances of the class. They are defined directly beneath the class header, outside of any class methods.\n",
    "Class attributes are created by assigning a value to a variable within the class scope. These attributes can be accessed using the class name itself or through instances of the class. Class attributes are shared among all instances, meaning that modifying the value of a class attribute affects all instances of the class.\n",
    "Here's an example to illustrate the creation of class attributes:"
   ]
  },
  {
   "cell_type": "code",
   "execution_count": 3,
   "id": "6fc19144-4088-4f36-a436-3add0831dfc9",
   "metadata": {},
   "outputs": [
    {
     "name": "stdout",
     "output_type": "stream",
     "text": [
      "red\n",
      "4\n",
      "red\n",
      "4\n",
      "blue\n",
      "6\n",
      "The blue car with 4 wheels is starting the engine.\n"
     ]
    }
   ],
   "source": [
    "\n",
    "class Car:\n",
    "    color = 'red'\n",
    "    wheels = 4\n",
    "    def start_engine(self):\n",
    "        print(f\"The {self.color} car with {self.wheels} wheels is starting the engine.\")\n",
    "# Access class attributes using the class name\n",
    "print(Car.color)\n",
    "\n",
    "print(Car.wheels)\n",
    "\n",
    "# Create instances of the Car class\n",
    "my_car1 = Car()\n",
    "my_car2 = Car()\n",
    "# Access class attributes through instances\n",
    "print(my_car1.color)\n",
    "\n",
    "print(my_car2.wheels)\n",
    "\n",
    "# Modify class attribute\n",
    "Car.color = 'blue'\n",
    "print(my_car1.color)\n",
    "my_car2.wheels = 6\n",
    "print(my_car2.wheels)\n",
    "# Invoke instance method\n",
    "my_car1.start_engine()"
   ]
  },
  {
   "cell_type": "markdown",
   "id": "f0de95ce-d329-489e-85ad-2624666af749",
   "metadata": {},
   "source": [
    "In the above example, the `Car` class has two class attributes: `color` and `wheels`. These attributes are created directly beneath the class header and are accessed using the class name (`Car.color`, `Car.wheels`) or through instances of the class (`my_car1.color`, `my_car2.wheels`).\n",
    "The class attributes can be modified by assigning a new value to them, as shown in the example with `Car.color = 'blue'` and `my_car2.wheels = 6`. Modifying a class attribute affects all instances, but you can also assign a different value to a class attribute for a specific instance, as demonstrated with `my_car2.wheels = 6`.\n",
    "Class attributes are useful for storing data or values that are shared among all instances of a class. They can provide default values or shared constants for the instances to use. It's important to note that if an instance has its own instance attribute with the same name as a class attribute, the instance attribute takes precedence over the class attribute when accessed through that instance."
   ]
  },
  {
   "cell_type": "markdown",
   "id": "d6c8780a-9330-451c-839e-b3c865d2b2e0",
   "metadata": {},
   "source": [
    "**Q4. Where and how are instance attributes created?**"
   ]
  },
  {
   "cell_type": "markdown",
   "id": "68305072-c538-4685-9bce-2623d9570beb",
   "metadata": {},
   "source": [
    "Instance attributes in Python are created within the `__init__` method of a class. The `__init__` method is a special method that gets called automatically when an instance of the class is created. It is used to initialize the attributes of the instance.\n",
    "Instance attributes are created by assigning a value to an attribute within the `__init__` method using the `self` parameter. The `self` parameter represents the instance being created and allows you to access and assign values to its attributes.\n",
    "Here's an example to illustrate the creation of instance attributes:"
   ]
  },
  {
   "cell_type": "code",
   "execution_count": 4,
   "id": "98217216-24d8-4166-a01a-cf7989411618",
   "metadata": {},
   "outputs": [
    {
     "name": "stdout",
     "output_type": "stream",
     "text": [
      "blue\n",
      "Toyota\n",
      "red\n",
      "Honda\n",
      "The blue Toyota is accelerating.\n"
     ]
    }
   ],
   "source": [
    "\n",
    "class Car:\n",
    "    def __init__(self, color, brand):\n",
    "        self.color = color\n",
    "        self.brand = brand\n",
    "    def accelerate(self):\n",
    "        print(f\"The {self.color} {self.brand} is accelerating.\")\n",
    "# Create instances of the Car class\n",
    "my_car1 = Car('blue', 'Toyota')\n",
    "my_car2 = Car('red', 'Honda')\n",
    "# Access instance attributes\n",
    "print(my_car1.color)\n",
    "\n",
    "print(my_car1.brand)\n",
    "\n",
    "print(my_car2.color)\n",
    "\n",
    "print(my_car2.brand)\n",
    "\n",
    "# Invoke instance method\n",
    "my_car1.accelerate()\n"
   ]
  },
  {
   "cell_type": "markdown",
   "id": "b72ce000-c64b-47f2-a5ba-2821819f00e2",
   "metadata": {},
   "source": [
    "In the above example, the `Car` class has two instance attributes: `color` and `brand`. These attributes are created within the `__init__` method by assigning the values passed as arguments to the respective attributes (`self.color = color`, `self.brand = brand`).\n",
    "When instances of the `Car` class are created (`my_car1 = Car('blue', 'Toyota')`, `my_car2 = Car('red', 'Honda')`), the `__init__` method is automatically called with the provided arguments, initializing the instance attributes with the specified values.\n",
    "You can access instance attributes using dot notation (`my_car1.color`, `my_car2.brand`). Each instance has its own set of instance attributes, allowing different instances to have different values for the attributes.\n",
    "Instance attributes are specific to each instance and hold information or state that is unique to that instance. They define the characteristics or properties of individual objects created from a class."
   ]
  },
  {
   "cell_type": "markdown",
   "id": "2ec390e5-0f5f-4465-8a80-584143b443f4",
   "metadata": {},
   "source": [
    "**Q5. What does the term \"self\" in a Python class mean?**"
   ]
  },
  {
   "cell_type": "markdown",
   "id": "b1ef69a0-a09e-4677-a5c5-6276ba7ec5d7",
   "metadata": {},
   "source": [
    "In Python, the term \"self\" is a convention used as the first parameter in method definitions within a class. It represents the instance of the class itself and allows you to access the instance's attributes and methods within the class.\n",
    "The use of \"self\" as the first parameter is a convention, not a strict requirement. However, it is highly recommended to follow this convention for clarity and consistency, as it is widely used in the Python community.\n",
    "By using \"self\" as the first parameter, you can differentiate between instance attributes and local variables within a method. It helps to explicitly reference instance attributes, making the code more readable and reducing naming conflicts.\n",
    "Here's an example to illustrate the use of \"self\" in a class:"
   ]
  },
  {
   "cell_type": "code",
   "execution_count": 5,
   "id": "4ca9e90d-9aa8-46de-9a29-b84ebd71fd14",
   "metadata": {},
   "outputs": [
    {
     "name": "stdout",
     "output_type": "stream",
     "text": [
      "The blue Toyota is accelerating.\n"
     ]
    }
   ],
   "source": [
    "class Car:\n",
    "    def __init__(self, color, brand):\n",
    "        self.color = color\n",
    "        self.brand = brand\n",
    "    def accelerate(self):\n",
    "        print(f\"The {self.color} {self.brand} is accelerating.\")\n",
    "# Create an instance of the Car class\n",
    "my_car = Car('blue', 'Toyota')\n",
    "# Invoke the instance method using \"self\"\n",
    "my_car.accelerate()"
   ]
  },
  {
   "cell_type": "markdown",
   "id": "a1fdffb2-3241-40d3-b6ed-3fc07cc84b96",
   "metadata": {},
   "source": [
    "In the above example, the `self` parameter is used in both the `__init__` method and the `accelerate` method. In the `__init__` method, `self.color = color` assigns the value of the `color` parameter to the instance attribute `self.color`. Similarly, in the `accelerate` method, `self.color` and `self.brand` allow access to the instance attributes defined in the `__init__` method.\n",
    "The use of \"self\" is essential to refer to the instance itself and access its attributes and methods within the class. It helps maintain the relationship between the instance and the class and allows for proper encapsulation and manipulation of instance-specific data."
   ]
  },
  {
   "cell_type": "markdown",
   "id": "a8dcdc29-6114-451f-91e2-dd2e9b421673",
   "metadata": {},
   "source": [
    "**Q6. How does a Python class handle operator overloading?**"
   ]
  },
  {
   "cell_type": "markdown",
   "id": "c1d2c6e3-f6ff-46ef-a0f0-30fbe066276a",
   "metadata": {},
   "source": [
    "In Python, operator overloading allows you to define how operators behave when applied to instances of a class. By implementing special methods or dunder methods (double underscore methods), you can customize the behavior of operators such as `+`, `-`, `*`, `/`, `==`, `<`, `>`, and more.\n",
    "Here are some commonly used dunder methods for operator overloading:\n",
    "- `__init__`: Initializes the instance of the class.\n",
    "- `__str__`: Returns a string representation of the instance.\n",
    "- `__repr__`: Returns a string representation that can be used to recreate the instance.\n",
    "- `__add__`: Handles the addition operation (`+`).\n",
    "- `__sub__`: Handles the subtraction operation (`-`).\n",
    "- `__mul__`: Handles the multiplication operation (`*`).\n",
    "- `__div__`: Handles the division operation (`/`).\n",
    "- `__eq__`: Handles the equality comparison (`==`).\n",
    "- `__lt__`: Handles the less-than comparison (`<`).\n",
    "- `__gt__`: Handles the greater-than comparison (`>`).\n",
    "Here's an example that demonstrates operator overloading for a custom class:"
   ]
  },
  {
   "cell_type": "code",
   "execution_count": 6,
   "id": "63b5d75a-80d7-4265-b678-230efd6e1405",
   "metadata": {},
   "outputs": [
    {
     "name": "stdout",
     "output_type": "stream",
     "text": [
      "(6, 8)\n",
      "False\n",
      "True\n"
     ]
    }
   ],
   "source": [
    "\n",
    "class Point:\n",
    "    def __init__(self, x, y):\n",
    "        self.x = x\n",
    "        self.y = y\n",
    "    def __str__(self):\n",
    "        return f\"({self.x}, {self.y})\"\n",
    "    def __add__(self, other):\n",
    "        if isinstance(other, Point):\n",
    "            return Point(self.x + other.x, self.y + other.y)\n",
    "        else:\n",
    "            raise TypeError(\"Unsupported operand type for +\")\n",
    "    def __eq__(self, other):\n",
    "        if isinstance(other, Point):\n",
    "            return self.x == other.x and self.y == other.y\n",
    "        else:\n",
    "            return False\n",
    "# Create instances of the Point class\n",
    "p1 = Point(2, 3)\n",
    "p2 = Point(4, 5)\n",
    "# Addition using the '+' operator\n",
    "p3 = p1 + p2\n",
    "print(p3)  \n",
    "# Equality comparison using the '==' operator\n",
    "print(p1 == p2)  \n",
    "p4 = Point(2, 3)\n",
    "print(p1 == p4)  \n"
   ]
  },
  {
   "cell_type": "markdown",
   "id": "b07d69a3-2517-472a-8d1a-6b53091eb73b",
   "metadata": {},
   "source": [
    "**Q7. When do you consider allowing operator overloading of your classes?**"
   ]
  },
  {
   "cell_type": "markdown",
   "id": "e3a2e0e5-fbe0-413f-a63c-f661f4718f6a",
   "metadata": {},
   "source": [
    "You might consider allowing operator overloading of your classes in situations where it enhances the usability and intuitiveness of your class instances and aligns with the natural behavior you expect for your objects. Here are a few scenarios where operator overloading can be beneficial:\n",
    "1. Mathematical or arithmetic operations: If your class represents a mathematical concept or an object that can be subject to arithmetic operations, implementing operator overloading can make working with instances of your class more convenient. For example, if you have a `Vector` class that represents mathematical vectors, overloading operators like `+`, `-`, `*`, and `/` can allow intuitive manipulation of vectors.\n",
    "2. Comparison operations: If your class represents objects that can be compared, such as dates, points in space, or custom data types, implementing operator overloading for comparison operators (`==`, `!=`, `<`, `>`, `<=`, `>=`) can enable direct comparisons between instances of your class.\n",
    "3. Custom behavior for containers or collections: If your class represents a custom collection or container-like object, you can implement operator overloading to define the behavior of operators like `[]`, `in`, or `len`. This can provide more intuitive access and manipulation of the elements in your custom container.\n",
    "4. String representation and formatting: Implementing the `__str__` and `__repr__` methods allows you to customize how your objects are represented as strings. This can be useful for debugging, logging, or displaying instances of your class in a human-readable format.\n",
    "When implementing operator overloading, it's important to consider the expected behavior and follow Python's conventions and guidelines. The overloaded operators should be implemented in a way that is consistent with the principles of the operator being overloaded and should provide meaningful and expected results.\n",
    "However, it's also important to exercise caution and use operator overloading judiciously. Overusing operator overloading or implementing it in a way that deviates significantly from the expected behavior of the operator may lead to confusion and make the code less maintainable. It's recommended to provide clear documentation and follow established conventions when using operator overloading in your classes."
   ]
  },
  {
   "cell_type": "markdown",
   "id": "54075ae8-527e-44c4-8167-c81cf9db8603",
   "metadata": {},
   "source": [
    "**Q8. What is the most popular form of operator overloading?**"
   ]
  },
  {
   "cell_type": "markdown",
   "id": "cdf3c321-2057-43d5-b813-f53c91a85d00",
   "metadata": {},
   "source": [
    "In Python, one of the most popular forms of operator overloading is the overloading of arithmetic operators. This involves defining special methods to handle arithmetic operations such as addition (`+`), subtraction (`-`), multiplication (`*`), division (`/`), and others.\n",
    "Arithmetic operator overloading allows instances of a class to behave like built-in numeric types and perform arithmetic operations in a meaningful way. It provides flexibility and convenience when working with objects that represent mathematical concepts or require mathematical operations.\n",
    "Here are some commonly used special methods for arithmetic operator overloading:\n",
    "- `__add__`: Handles the addition operation (`+`).\n",
    "- `__sub__`: Handles the subtraction operation (`-`).\n",
    "- `__mul__`: Handles the multiplication operation (`*`).\n",
    "- `__div__`: Handles the division operation (`/`).\n",
    "- `__mod__`: Handles the modulo operation (`%`).\n",
    "- `__pow__`: Handles the exponentiation operation (`**`).\n",
    "By implementing these special methods, you can define how instances of your class behave when arithmetic operators are applied to them. This allows you to define custom behavior for your objects and perform arithmetic operations that are meaningful and appropriate for the context of your class.\n",
    "Here's a simple example that demonstrates arithmetic operator overloading for a custom class:"
   ]
  },
  {
   "cell_type": "code",
   "execution_count": 7,
   "id": "6236c590-b135-4498-aba1-6fdaba44a24c",
   "metadata": {},
   "outputs": [
    {
     "name": "stdout",
     "output_type": "stream",
     "text": [
      "6 8\n",
      "2 2\n",
      "4 6\n"
     ]
    }
   ],
   "source": [
    "\n",
    "class Vector:\n",
    "    def __init__(self, x, y):\n",
    "        self.x = x\n",
    "        self.y = y\n",
    "    def __add__(self, other):\n",
    "        if isinstance(other, Vector):\n",
    "            return Vector(self.x + other.x, self.y + other.y)\n",
    "        else:\n",
    "            raise TypeError(\"Unsupported operand type for +\")\n",
    "    def __sub__(self, other):\n",
    "        if isinstance(other, Vector):\n",
    "            return Vector(self.x - other.x, self.y - other.y)\n",
    "        else:\n",
    "            raise TypeError(\"Unsupported operand type for -\")\n",
    "    def __mul__(self, scalar):\n",
    "        if isinstance(scalar, (int, float)):\n",
    "            return Vector(self.x * scalar, self.y * scalar)\n",
    "        else:\n",
    "            raise TypeError(\"Unsupported operand type for *\")\n",
    "# Create instances of the Vector class\n",
    "v1 = Vector(2, 3)\n",
    "v2 = Vector(4, 5)\n",
    "# Addition using the '+' operator\n",
    "v3 = v1 + v2\n",
    "print(v3.x, v3.y)  \n",
    "# Subtraction using the '-' operator\n",
    "v4 = v2 - v1\n",
    "print(v4.x, v4.y)  \n",
    "# Multiplication using the '*' operator\n",
    "v5 = v1 * 2\n",
    "print(v5.x, v5.y) \n"
   ]
  },
  {
   "cell_type": "markdown",
   "id": "9b345627-391a-4c7f-8aae-de7facd95b89",
   "metadata": {},
   "source": [
    "**Q9. What are the two most important concepts to grasp in order to comprehend Python OOP code?**"
   ]
  },
  {
   "cell_type": "markdown",
   "id": "e73c6dae-a706-42bd-92af-f139f200a8f9",
   "metadata": {},
   "source": [
    "Two important concepts to grasp in order to comprehend Python Object-Oriented Programming (OOP) code are:\n",
    "1. Classes and Objects: Classes are the blueprints or templates for creating objects, while objects are instances of those classes. Understanding the relationship between classes and objects is crucial in Python OOP. A class defines the attributes (variables) and methods (functions) that objects of that class will have. Objects are created based on the class, and each object has its own set of attributes and can perform actions defined by the methods of the class. grasping how classes and objects interact and how to create and use them is fundamental to working with Python OOP code.\n",
    "2. Inheritance: Inheritance is a key concept in OOP that allows a class to inherit attributes and methods from another class, known as the superclass or base class. The class that inherits from the superclass is called the subclass or derived class. Inheritance enables code reuse and the creation of specialized classes that inherit common attributes and behaviors from a more general class. By understanding how inheritance works in Python, you can leverage existing code, build class hierarchies, and customize behavior in a hierarchical manner.\n",
    "By comprehending classes, objects, and the relationship between them, as well as understanding inheritance and how it facilitates code reuse and customization, you'll be better equipped to understand and work with Python OOP code. These concepts form the foundation of object-oriented programming and are fundamental to building modular, extensible, and maintainable software systems."
   ]
  },
  {
   "cell_type": "markdown",
   "id": "5f662994-b0e0-4721-bf3c-a369ac7ce8d5",
   "metadata": {},
   "source": []
  }
 ],
 "metadata": {
  "kernelspec": {
   "display_name": "Python 3 (ipykernel)",
   "language": "python",
   "name": "python3"
  },
  "language_info": {
   "codemirror_mode": {
    "name": "ipython",
    "version": 3
   },
   "file_extension": ".py",
   "mimetype": "text/x-python",
   "name": "python",
   "nbconvert_exporter": "python",
   "pygments_lexer": "ipython3",
   "version": "3.10.6"
  }
 },
 "nbformat": 4,
 "nbformat_minor": 5
}
