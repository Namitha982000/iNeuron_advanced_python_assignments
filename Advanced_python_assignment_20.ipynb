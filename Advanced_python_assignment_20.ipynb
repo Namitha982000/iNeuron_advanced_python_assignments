{
 "cells": [
  {
   "cell_type": "markdown",
   "id": "6609ce8f-0954-44aa-ad54-e9fb6e8f25bb",
   "metadata": {},
   "source": [
    "# Assignment 20"
   ]
  },
  {
   "cell_type": "markdown",
   "id": "3bb96fee-ba4a-4341-922d-6e401070b89e",
   "metadata": {},
   "source": [
    "**1. Compare and contrast the float and Decimal classes' benefits and drawbacks.**"
   ]
  },
  {
   "cell_type": "markdown",
   "id": "b4bb3ea1-1b13-451d-b005-3d00c9f6702d",
   "metadata": {},
   "source": [
    "Both the `float` and `Decimal` classes in Python are used for representing and performing operations on numeric values, but they have some differences in terms of their benefits and drawbacks.\n",
    "\n",
    "Float:\n",
    "- Benefits:\n",
    "  - Floats are built-in and widely used in Python for representing real numbers.\n",
    "  - Floats use a fixed amount of memory and can handle a wide range of values.\n",
    "  - Floats provide efficient arithmetic operations and support mathematical functions from the `math` module.\n",
    "  - Floats are suitable for most general-purpose numerical computations.\n",
    "- Drawbacks:\n",
    "  - Floats are binary floating-point numbers and may suffer from precision and rounding errors.\n",
    "  - The accuracy of float operations can be affected by the limitations of binary representation.\n",
    "  - Floats may not be able to represent some decimal numbers exactly due to the limitations of binary fractions.\n",
    "  - Comparisons between floats for equality can be problematic due to rounding errors.\n",
    "\n",
    "Decimal:\n",
    "- Benefits:\n",
    "  - Decimals provide a higher level of precision for decimal numbers compared to floats.\n",
    "  - Decimals have a fixed decimal point and can accurately represent decimal values.\n",
    "  - Decimals are based on a decimal floating-point arithmetic model and can avoid many of the precision issues of binary floats.\n",
    "  - Decimals allow for control over rounding modes and precision.\n",
    "  - Decimals are suitable for financial and monetary calculations where precision is critical.\n",
    "- Drawbacks:\n",
    "  - Decimals use more memory compared to floats as they store information about the decimal point and precision.\n",
    "  - Decimal arithmetic operations can be slower compared to float operations due to the additional precision and computations involved.\n",
    "  - Decimals may not provide the same level of performance as floats for general-purpose numerical computations.\n",
    "  - Some mathematical functions available for floats may not be directly available for decimals."
   ]
  },
  {
   "cell_type": "markdown",
   "id": "9d2ff17d-8200-4b88-8491-90f396e6ca01",
   "metadata": {},
   "source": [
    "**2. Decimal('1.200') and Decimal('1.2') are two objects to consider. In what sense are these the same object? Are these just two ways of representing the exact same value, or do they correspond to different internal states?**"
   ]
  },
  {
   "cell_type": "markdown",
   "id": "b88de8df-56c4-447f-80ef-007a600921b0",
   "metadata": {},
   "source": [
    "In the case of `Decimal('1.200')` and `Decimal('1.2')`, these are two different objects with different internal states. Although they represent the same numerical value of 1.2, they are distinct instances of the `Decimal` class.\n",
    "\n",
    "When you create a `Decimal` object, it internally stores the value as a decimal floating-point number with a specified precision. In this case, both `'1.200'` and `'1.2'` represent the same value of 1.2, but they may have different internal representations.\n",
    "\n",
    "The difference between the two representations can be observed when performing operations on the `Decimal` objects. For example, if you compare them for equality, they will be considered equal since they represent the same value:"
   ]
  },
  {
   "cell_type": "code",
   "execution_count": 3,
   "id": "87da81e3-2b5e-4374-a834-d38bb82a3f44",
   "metadata": {},
   "outputs": [
    {
     "name": "stdout",
     "output_type": "stream",
     "text": [
      "True\n"
     ]
    }
   ],
   "source": [
    "from decimal import Decimal\n",
    "\n",
    "decimal1 = Decimal('1.200')\n",
    "decimal2 = Decimal('1.2')\n",
    "\n",
    "print(decimal1 == decimal2)  # Output: True"
   ]
  },
  {
   "cell_type": "markdown",
   "id": "58ae80f7-8a07-47ad-b38a-3c8e114b2fa4",
   "metadata": {},
   "source": [
    "However, even though they are considered equal, they remain distinct objects with their own internal state. This means that if you modify one of the objects, the other object will not be affected:"
   ]
  },
  {
   "cell_type": "code",
   "execution_count": null,
   "id": "53ab433f-c339-4d1d-9bc5-116e0a73052f",
   "metadata": {},
   "outputs": [],
   "source": [
    "decimal1 += 0.3\n",
    "\n",
    "print(decimal1)  # Output: 1.500\n",
    "print(decimal2)  # Output: 1.2"
   ]
  },
  {
   "cell_type": "markdown",
   "id": "b8558925-38d2-4664-8a24-b31f896f10c4",
   "metadata": {},
   "source": [
    "In the above example, modifying `decimal1` does not change the value of `decimal2`. This demonstrates that they are separate instances with their own internal state."
   ]
  },
  {
   "cell_type": "markdown",
   "id": "58fc4c7b-1405-4478-abf8-8b8f099629dc",
   "metadata": {},
   "source": [
    "**3. What happens if the equality of Decimal('1.200') and Decimal('1.2') is checked?**"
   ]
  },
  {
   "cell_type": "markdown",
   "id": "853f9319-567d-4cac-a465-194845cd9839",
   "metadata": {},
   "source": [
    "If the equality of `Decimal('1.200')` and `Decimal('1.2')` is checked using the `==` operator or the `decimal.Decimal.__eq__()` method, they will be considered equal. The `Decimal` class in Python provides a mechanism to compare decimal objects for equality based on their numerical values rather than their internal representation.\n",
    "\n",
    "Here's an example:"
   ]
  },
  {
   "cell_type": "code",
   "execution_count": 6,
   "id": "5609449d-3827-44df-b2b3-1da7ed4eb50e",
   "metadata": {},
   "outputs": [
    {
     "name": "stdout",
     "output_type": "stream",
     "text": [
      "True\n"
     ]
    }
   ],
   "source": [
    "from decimal import Decimal\n",
    "\n",
    "decimal1 = Decimal('1.200')\n",
    "decimal2 = Decimal('1.2')\n",
    "\n",
    "print(decimal1 == decimal2)  # Output: True"
   ]
  },
  {
   "cell_type": "markdown",
   "id": "8db86580-b4be-4f94-a5a7-1d2c4d7c9c01",
   "metadata": {},
   "source": [
    "In the above code, the equality comparison `decimal1 == decimal2` returns `True` because both `Decimal` objects represent the same numerical value of 1.2.\n",
    "\n",
    "The `Decimal` class is designed to handle decimal arithmetic with proper precision and rounding. When comparing two `Decimal` objects for equality, it takes into account the significant digits and the decimal point of the numbers rather than their internal representation."
   ]
  },
  {
   "cell_type": "markdown",
   "id": "72dee589-6a7e-43ec-b67a-e0ca7d379d6c",
   "metadata": {},
   "source": [
    "**4. Why is it preferable to start a Decimal object with a string rather than a floating-point value?**"
   ]
  },
  {
   "cell_type": "markdown",
   "id": "9892684c-8004-4e28-aac9-300a47d4c3ef",
   "metadata": {},
   "source": [
    "To prevent potential precision and rounding problems that can occur when converting floating-point numbers to decimal representation, it is advisable to start a \"Decimal\" object with a string rather than a floating-point value.\n",
    "\n",
    "Binary floating-point representation is used to store floating-point numbers, such as those that are represented by the 'float' type in Python. This binary representation has constraints, therefore it might not be able to accurately represent some decimal numbers. As a result, there is a chance that rounding errors and precision loss will be introduced when a floating-point number is converted to a \"Decimal\" object.\n",
    "\n",
    "You can specify the precise decimal representation of the number you want to express by beginning a 'Decimal' object with a string. This enables you to avoid any potential errors that could result from converting floating-point data. The 'Decimal' object precisely reflects the desired decimal value without any unforeseen rounding or precision difficulties thanks to the string representation.\n",
    "\n",
    "Here is an illustration to show the differences:"
   ]
  },
  {
   "cell_type": "code",
   "execution_count": 7,
   "id": "aadd4407-d7fe-426e-8fc9-6bc0816e4997",
   "metadata": {},
   "outputs": [
    {
     "name": "stdout",
     "output_type": "stream",
     "text": [
      "1.1999999999999999555910790149937383830547332763671875\n",
      "1.2\n"
     ]
    }
   ],
   "source": [
    "\n",
    "from decimal import Decimal\n",
    "\n",
    "floating_point_num = 1.2\n",
    "decimal_from_float = Decimal(floating_point_num)\n",
    "decimal_from_string = Decimal('1.2')\n",
    "\n",
    "print(decimal_from_float) \n",
    "print(decimal_from_string)"
   ]
  },
  {
   "cell_type": "markdown",
   "id": "482ad083-4944-433e-9fe9-996dc75fc6da",
   "metadata": {},
   "source": [
    "In the above code, the `decimal_from_float` object is created from a floating-point value, while the `decimal_from_string` object is created from a string representation. You can see that the `decimal_from_float` object has some additional decimal places due to the imprecise conversion from the floating-point representation. On the other hand, the `decimal_from_string` object accurately represents the desired decimal value of 1.2.\n",
    "\n",
    "Starting the `Decimal` object with a string ensures that the desired decimal value is preserved without any unexpected precision or rounding errors that can occur when working with floating-point values.."
   ]
  },
  {
   "cell_type": "markdown",
   "id": "21718c9d-ff54-47d8-b974-b6647db25219",
   "metadata": {},
   "source": [
    "**5. In an arithmetic phrase, how simple is it to combine Decimal objects with integers?**"
   ]
  },
  {
   "cell_type": "markdown",
   "id": "eecb5410-d336-46db-a7b3-3142fe811ff5",
   "metadata": {},
   "source": [
    "In Python, 'Decimal' objects and integers can easily be combined in arithmetic statements. For arithmetic operations with other numeric types, such as integers, the 'Decimal' class comes with built-in functionality.\n",
    "\n",
    "Python automatically manages the conversion and completes the calculation appropriately, maintaining the accuracy and decimal representation when performing arithmetic operations between a \"Decimal\" object and an integer.\n",
    "\n",
    "Here's an example to demonstrate combining `Decimal` objects with integers:"
   ]
  },
  {
   "cell_type": "code",
   "execution_count": 8,
   "id": "090999ec-c799-4dc5-a155-08c2ab9b4690",
   "metadata": {},
   "outputs": [
    {
     "name": "stdout",
     "output_type": "stream",
     "text": [
      "4.5\n"
     ]
    }
   ],
   "source": [
    "from decimal import Decimal\n",
    "\n",
    "decimal_num = Decimal('1.5')\n",
    "integer_num = 3\n",
    "\n",
    "result = decimal_num + integer_num\n",
    "\n",
    "print(result)"
   ]
  },
  {
   "cell_type": "markdown",
   "id": "987764de-9cfe-4be5-931b-96e5c926d7df",
   "metadata": {},
   "source": [
    "The 'integer_num' object in the code above is an integer with the value 3, and the 'decimal_num' object represents the number 1.5 as a 'Decimal'. The 'Decimal' object and the integer are added together using the '+' method, yielding the accurate result of 4.5. The arithmetic operation is automatically handled by Python, which also keeps the 'Decimal' object's precision and decimal representation.\n",
    "\n",
    "Similar to how addition ('-'), subtraction ('*'), and division ('/') may be carried out between 'Decimal' objects and integers without adding any extra complexity."
   ]
  },
  {
   "cell_type": "code",
   "execution_count": 10,
   "id": "1eb1cc4a-343d-4f2d-86cc-ecd135ec5146",
   "metadata": {},
   "outputs": [],
   "source": [
    "result = decimal_num * integer_num  # Multiplication\n",
    "result = decimal_num - integer_num  # Subtraction\n",
    "result = decimal_num / integer_num  # Division"
   ]
  },
  {
   "cell_type": "markdown",
   "id": "ab4436cd-c35f-4822-a830-1c28205d3ef8",
   "metadata": {},
   "source": [
    "**6. Can Decimal objects and floating-point values be combined easily?**"
   ]
  },
  {
   "cell_type": "markdown",
   "id": "6398984e-1ac9-46cb-9584-b59051c0e941",
   "metadata": {},
   "source": [
    "Combining `Decimal` objects and floating-point values in arithmetic expressions requires some caution and consideration due to the inherent differences between decimal and binary floating-point representations.\n",
    "\n",
    "The `Decimal` class in Python provides built-in support for arithmetic operations with other numeric types, including floating-point values. However, it's important to note that when you combine `Decimal` objects with floating-point values, the floating-point values will be converted to `Decimal` objects, potentially introducing rounding errors and loss of precision.\n",
    "\n",
    "Here's an example to demonstrate combining `Decimal` objects with floating-point values:"
   ]
  },
  {
   "cell_type": "code",
   "execution_count": null,
   "id": "8cc20b04-0cc0-4ead-a038-05b40d2991b7",
   "metadata": {},
   "outputs": [],
   "source": [
    "from decimal import Decimal\n",
    "\n",
    "decimal_num = Decimal('1.5')\n",
    "float_num = 2.3\n",
    "\n",
    "result = decimal_num + float_num\n",
    "\n",
    "print(result)"
   ]
  },
  {
   "cell_type": "markdown",
   "id": "c24ccff1-05e3-4dad-833a-14ba8aeb3aec",
   "metadata": {},
   "source": [
    "In the above code, the `decimal_num` object is a `Decimal` representing the value 1.5, and the `float_num` is a floating-point value with the value 2.3. The addition operation (`+`) is performed between the `Decimal` object and the floating-point value. Python automatically converts the floating-point value to a `Decimal` object before performing the calculation.\n",
    "\n",
    "However, it's important to note that the conversion from binary floating-point representation to decimal representation may introduce rounding errors and imprecise results. This can be particularly noticeable when dealing with floating-point values that cannot be represented exactly in binary floating-point form.\n",
    "\n",
    "To minimize precision issues, it is generally recommended to start with `Decimal` objects when dealing with decimal arithmetic and avoid combining `Decimal` objects with floating-point values directly. If you need to perform calculations involving floating-point values, it's often better to convert the floating-point values to `Decimal` objects explicitly using the `Decimal` constructor."
   ]
  },
  {
   "cell_type": "code",
   "execution_count": 13,
   "id": "4c2ccb96-a83d-4f90-88ba-be0beb6300c9",
   "metadata": {},
   "outputs": [],
   "source": [
    "float_num = 2.3\n",
    "decimal_num = Decimal(float_num)\n",
    "\n",
    "result = decimal_num + Decimal('1.5')"
   ]
  },
  {
   "cell_type": "markdown",
   "id": "b9fd1456-5166-481f-a936-ac1658c3c9c7",
   "metadata": {},
   "source": [
    "By explicitly converting the floating-point value to a `Decimal` object, you have more control over the precision and can avoid potential precision issues associated with direct combination."
   ]
  },
  {
   "cell_type": "markdown",
   "id": "bc11173c-94a9-4c4c-9739-25febf6067c0",
   "metadata": {},
   "source": [
    "**7. Using the Fraction class but not the Decimal class, give an example of a quantity that can be expressed with absolute precision.**"
   ]
  },
  {
   "cell_type": "markdown",
   "id": "31fb7566-4140-408a-a3dd-f692ebf9a79f",
   "metadata": {},
   "source": [
    "The `Fraction` class in Python allows for precise representation of rational numbers without any loss of precision. By using the `Fraction` class, you can express quantities that have absolute precision, especially when dealing with fractional values.\n",
    "\n",
    "Here's an example of a quantity that can be expressed with absolute precision using the `Fraction` class:"
   ]
  },
  {
   "cell_type": "code",
   "execution_count": 14,
   "id": "1082de9b-883d-429c-860c-84629fbe0139",
   "metadata": {},
   "outputs": [
    {
     "name": "stdout",
     "output_type": "stream",
     "text": [
      "3/5\n"
     ]
    }
   ],
   "source": [
    "from fractions import Fraction\n",
    "\n",
    "quantity = Fraction(3, 5)\n",
    "\n",
    "print(quantity)  # Output: 3/5"
   ]
  },
  {
   "cell_type": "markdown",
   "id": "35c2788b-a97e-4699-a9b9-7a17a13bda5b",
   "metadata": {},
   "source": [
    "In the above code, the `Fraction` object represents the quantity 3/5. The `Fraction` class internally stores the numerator and denominator as integers, allowing for exact representation without any rounding or precision issues.\n",
    "\n",
    "By utilizing the `Fraction` class, you can perform precise arithmetic operations on rational numbers while maintaining their exact representation. This can be particularly useful in situations where precise fractional calculations are required, such as in financial calculations, measurements, or any scenario where absolute precision is necessary."
   ]
  },
  {
   "cell_type": "code",
   "execution_count": 15,
   "id": "b72d8549-b909-4339-bafa-5a5bfa53a3d4",
   "metadata": {},
   "outputs": [
    {
     "name": "stdout",
     "output_type": "stream",
     "text": [
      "13/21\n"
     ]
    }
   ],
   "source": [
    "fraction1 = Fraction(1, 3)\n",
    "fraction2 = Fraction(2, 7)\n",
    "\n",
    "result = fraction1 + fraction2\n",
    "\n",
    "print(result)  # Output: 13/21"
   ]
  },
  {
   "cell_type": "markdown",
   "id": "f240bdf9-8a17-4797-ba72-a13fb25ba11d",
   "metadata": {},
   "source": [
    "In the above example, the `Fraction` objects `fraction1` and `fraction2` represent the quantities 1/3 and 2/7, respectively. The addition operation (`+`) is performed between the `Fraction` objects, resulting in the exact sum of 13/21."
   ]
  },
  {
   "cell_type": "markdown",
   "id": "cb4feffb-a015-4a23-8ed2-2e607310c0b9",
   "metadata": {},
   "source": [
    "**8. Describe a quantity that can be accurately expressed by the Decimal or Fraction classes but not by a floating-point value.**"
   ]
  },
  {
   "cell_type": "markdown",
   "id": "f6cecf16-d3cf-462b-83cb-41d6b114e6c0",
   "metadata": {},
   "source": [
    "One example of a quantity that can be accurately expressed by the `Decimal` or `Fraction` classes but not by a floating-point value is the recurring decimal.\n",
    "\n",
    "Recurring decimals are decimal numbers that have an infinitely repeating sequence of digits. They cannot be represented precisely using finite binary floating-point values due to the limitations of binary representation.\n",
    "\n",
    "Here's an example using the `Fraction` class to accurately express a recurring decimal:"
   ]
  },
  {
   "cell_type": "code",
   "execution_count": 16,
   "id": "944be979-8cc7-4d0f-a4f7-a5169010bad8",
   "metadata": {},
   "outputs": [
    {
     "name": "stdout",
     "output_type": "stream",
     "text": [
      "1/3\n"
     ]
    }
   ],
   "source": [
    "from fractions import Fraction\n",
    "\n",
    "recurring_decimal = Fraction(1, 3)\n",
    "\n",
    "print(recurring_decimal)  # Output: 1/3"
   ]
  },
  {
   "cell_type": "markdown",
   "id": "d98d2cfc-907d-48c9-9df6-fa1d4da094fe",
   "metadata": {},
   "source": [
    "In this example, the `Fraction` object represents the recurring decimal 0.333..., where the digit 3 repeats infinitely. The `Fraction` class allows for the exact representation of this recurring decimal as a fraction without any loss of precision.\n",
    "\n",
    "If we were to use a floating-point representation, we would encounter rounding errors and an inability to represent the exact value of the recurring decimal. This is because floating-point numbers use a binary representation, which cannot precisely represent all decimal values."
   ]
  },
  {
   "cell_type": "code",
   "execution_count": 18,
   "id": "38e7cbff-3433-496f-9fb9-e47df2cf2817",
   "metadata": {},
   "outputs": [
    {
     "name": "stdout",
     "output_type": "stream",
     "text": [
      "0.3333333333333333\n"
     ]
    }
   ],
   "source": [
    "floating_point_value = 1 / 3\n",
    "\n",
    "print(floating_point_value)  # Output: 0.3333333333333333"
   ]
  },
  {
   "cell_type": "markdown",
   "id": "9051f2da-3787-4b1c-af36-e1402756b577",
   "metadata": {},
   "source": [
    "In the above code, the floating-point value of 1/3 is computed and stored in `floating_point_value`. However, due to the limitations of binary floating-point representation, the result is an approximation of the actual value with a finite number of digits after the decimal point. The result is an approximation that introduces rounding errors.\n",
    "\n",
    "Using the `Decimal` class can also accurately represent recurring decimals:"
   ]
  },
  {
   "cell_type": "code",
   "execution_count": 17,
   "id": "edfabf29-268e-4508-b809-da4c56394e6c",
   "metadata": {},
   "outputs": [
    {
     "name": "stdout",
     "output_type": "stream",
     "text": [
      "0.3333333333333333\n"
     ]
    }
   ],
   "source": [
    "from decimal import Decimal\n",
    "\n",
    "recurring_decimal = Decimal('0.3333333333333333')\n",
    "\n",
    "print(recurring_decimal)  # Output: 0.3333333333333333"
   ]
  },
  {
   "cell_type": "markdown",
   "id": "0bcc47fe-b9f1-49bf-bce8-8cfcbf84e20b",
   "metadata": {},
   "source": [
    "By using the `Decimal` class and providing the exact decimal representation as a string, we can accurately store and work with the recurring decimal value without any loss of precision."
   ]
  },
  {
   "cell_type": "markdown",
   "id": "88b1fbfc-eb85-4527-b671-c13892982042",
   "metadata": {},
   "source": [
    "**Q9.Consider the following two fraction objects: Fraction(1, 2) and Fraction(1, 2). (5, 10). Is the internal state of these two objects the same? Why do you think that is?**"
   ]
  },
  {
   "cell_type": "markdown",
   "id": "f94e3d1a-e593-4230-a55c-0a4d6d53c2d4",
   "metadata": {},
   "source": [
    "The internal states of the two 'Fraction' objects, 'Fraction(1, 2)' and 'Fraction(5, 10)', are not same. The fractions' internal states may vary despite the fact that they all represent the identical mathematical value of 1/2 due to the fractions' simplification.\n",
    "\n",
    "By dividing the numerator and denominator by their greatest common divisor (GCD), Python automatically simplifies the fraction when building a 'Fraction' object. The fraction will be in its simplest form thanks to this simplification.\n",
    "\n",
    "'Fraction(1, 2)' is already simplified in this situation because the numerator and denominator only share the number one. The fraction \"Fraction(5, 10)\" can be made even simpler by multiplying the numerator and denominator by their respective GCDs, which is 5. The fraction is reduced to \"Fraction(1, 2)\" after being simplified.\n",
    "\n",
    "Fraction(5, 10) has a different initial representation than fraction(1, 2), yet following the simplification process, their internal states will be the same. This is so that fractions are always represented in their simplest form, as the 'Fraction' class initialises by dividing the numerator and denominator by their GCD.\n",
    "\n",
    "Due to this, \"Fraction(1, 2)\" and \"Fraction(5, 10)\" will have the same internal state and have the same numerical value, although having distinct initial representations."
   ]
  },
  {
   "cell_type": "markdown",
   "id": "46b66759-c465-45cf-b08c-84802fc02925",
   "metadata": {},
   "source": [
    "**Q10. How do the Fraction class and the integer type (int) relate to each other? Containment or inheritance?**"
   ]
  },
  {
   "cell_type": "markdown",
   "id": "8d2f39ff-8fa2-47a4-8016-e26c5f198ad1",
   "metadata": {},
   "source": [
    "The `Fraction` class and the `int` type (integer) in Python do not have a direct relationship of containment or inheritance. They are distinct types in Python's type system and serve different purposes.\n",
    "\n",
    "The `int` type represents whole numbers without fractional or decimal components. It is a built-in numeric type in Python that supports integer arithmetic operations.\n",
    "\n",
    "On the other hand, the `Fraction` class represents rational numbers as fractions with both a numerator and a denominator. It allows for precise representation of fractional values and supports arithmetic operations on rational numbers.\n",
    "\n",
    "While integers can be converted to fractions using the `Fraction` class, there is no inherent containment or inheritance relationship between the two types. The `Fraction` class provides methods and functionality specifically designed for working with fractions, while the `int` type focuses on integer operations."
   ]
  },
  {
   "cell_type": "code",
   "execution_count": 19,
   "id": "002c9b5c-99f1-4d50-8ba0-a9461848a850",
   "metadata": {},
   "outputs": [
    {
     "name": "stdout",
     "output_type": "stream",
     "text": [
      "5\n"
     ]
    }
   ],
   "source": [
    "from fractions import Fraction\n",
    "\n",
    "integer_value = 5\n",
    "fraction_value = Fraction(integer_value)\n",
    "\n",
    "print(fraction_value)  # Output: 5/1"
   ]
  },
  {
   "cell_type": "markdown",
   "id": "19e3d3db-5665-4b17-861c-e81d45e8051e",
   "metadata": {},
   "source": [
    "In the above code, the integer value 5 is converted to a `Fraction` object using the `Fraction()` constructor. The resulting `Fraction` object represents the integer value as a fraction with a denominator of 1."
   ]
  },
  {
   "cell_type": "code",
   "execution_count": null,
   "id": "1f9216cc-b071-499c-b4fe-3a7ad32e27b2",
   "metadata": {},
   "outputs": [],
   "source": []
  }
 ],
 "metadata": {
  "kernelspec": {
   "display_name": "Python 3 (ipykernel)",
   "language": "python",
   "name": "python3"
  },
  "language_info": {
   "codemirror_mode": {
    "name": "ipython",
    "version": 3
   },
   "file_extension": ".py",
   "mimetype": "text/x-python",
   "name": "python",
   "nbconvert_exporter": "python",
   "pygments_lexer": "ipython3",
   "version": "3.10.6"
  }
 },
 "nbformat": 4,
 "nbformat_minor": 5
}
