{
 "cells": [
  {
   "cell_type": "markdown",
   "id": "91a5d9d0-c0cb-40ed-b11d-19bd3cf5ad6d",
   "metadata": {},
   "source": [
    "# Assignment 22"
   ]
  },
  {
   "cell_type": "markdown",
   "id": "63bde516-c70e-46d6-b27f-3837e6165091",
   "metadata": {},
   "source": [
    "**Q1. What are the benefits of the built-in array package, if any?**"
   ]
  },
  {
   "cell_type": "markdown",
   "id": "1c11943d-e9a7-45d0-a83d-8e16c691118e",
   "metadata": {},
   "source": [
    "The built-in `array` package in Python provides an efficient way to work with homogeneous sequences of primitive data types. Here are some benefits of using the `array` package:\n",
    "\n",
    "1. Memory efficiency: The `array` package stores data in a compact manner, using less memory compared to other data structures like lists. It allows you to store a large number of elements efficiently, which can be crucial when dealing with large datasets or constrained memory environments.\n",
    "\n",
    "2. Fast element access: The elements in an array can be accessed directly by their index, providing constant-time access. This makes array operations, such as reading or modifying elements, faster compared to other data structures like lists, where element access requires additional operations.\n",
    "\n",
    "3. Efficient storage of numeric data: The `array` package is particularly useful for storing numeric data. It supports various numeric data types such as integers, floating-point numbers, and more. By storing data as primitive types, the `array` package avoids the overhead of storing objects, resulting in faster computations.\n",
    "\n",
    "4. Interoperability with C-based libraries: The `array` package provides compatibility with C-based libraries that expect data to be in a specific format, such as for data exchange or processing. It allows you to easily convert between Python `array` objects and C arrays, facilitating seamless integration with existing codebases.\n",
    "\n",
    "5. Efficient serialization: The `array` package provides methods for efficient serialization and deserialization of array data. This allows you to store or transmit array data in a compact binary format, which can be faster and more space-efficient compared to textual representations."
   ]
  },
  {
   "cell_type": "markdown",
   "id": "620a7475-ba7b-4e81-b3b7-c7ca3f2326f5",
   "metadata": {},
   "source": [
    "**Q2. What are some of the array package&#39;s limitations?**"
   ]
  },
  {
   "cell_type": "markdown",
   "id": "a5781dd2-2de4-4ce5-aa95-4e86433907fc",
   "metadata": {},
   "source": [
    "The built-in `array` package in Python has some limitations compared to other data structures like lists or NumPy arrays. Here are some of its limitations:\n",
    "\n",
    "1. Homogeneous data types: All items must be the same data type in order to use the 'array' package. It does not permit the storage of elements with various data types in the same array. Due to this, its application is limited when working with heterogeneous data.\n",
    "\n",
    "2. Fixed size: An array's size cannot be modified dynamically once it has been constructed; it is fixed. An array can only have its items added or removed by copying them to a new array of the desired size. If frequent resizing procedures are necessary, this may not be efficient.\n",
    "\n",
    "3. Limited functionality: Although the 'array' package has fewer built-in methods than other data structures, it offers the bare minimum capabilities for manipulating and storing arrays. Additional code must be implemented in order to do operations like sorting, filtering, or performing sophisticated transformations to arrays.\n",
    "\n",
    "4. Lack of advanced operations: Advanced operations frequently employed in numerical computations, such as matrix operations, vectorized calculations, or statistical functions, are not supported by the 'array' package natively. Specialised libraries like NumPy are better suited for these types of operations.\n",
    "\n",
    "5. Less flexible memory management: The 'array' package stores elements in a fixed-size buffer, which might result in memory waste if the allocated buffer size is not used entirely. It lacks dynamic array-like memory management features, such as automated resizing.\n",
    "\n",
    "6. Limited data type support: The 'array' package can handle a variety of numeric data types, but it can't handle complicated data structures, texts, or objects. Other data structures, like lists or dictionaries, are more suited for processing a variety of data types."
   ]
  },
  {
   "cell_type": "markdown",
   "id": "24bc8d96-6faa-49bb-ab79-59d8cf699780",
   "metadata": {},
   "source": [
    "**Q3. Describe the main differences between the array and numpy packages.**"
   ]
  },
  {
   "cell_type": "markdown",
   "id": "c4f679e1-87ba-48a5-9f2b-eea7d81dd957",
   "metadata": {},
   "source": [
    "The `array` package and the `numpy` package are both used for working with arrays in Python, but they have some key differences. Here are the main differences between the two:\n",
    "\n",
    "1. Functionality: The `numpy` package provides a much more extensive set of functionality compared to the `array` package. `numpy` offers advanced mathematical operations, linear algebra routines, statistical functions, and powerful array manipulation capabilities. It also supports multi-dimensional arrays and provides convenient indexing and slicing operations.\n",
    "\n",
    "2. Data types: The `array` package is limited to storing homogeneous sequences of primitive data types like integers or floats. In contrast, `numpy` supports a wide range of data types, including complex numbers, strings, and custom data structures. It also provides flexible data type handling and allows for creating arrays with custom data types.\n",
    "\n",
    "3. Performance: `numpy` is known for its high-performance operations due to its efficient internal implementation. It utilizes optimized algorithms and makes use of low-level languages like C or Fortran for performance-critical operations. This makes `numpy` significantly faster for numerical computations compared to the `array` package.\n",
    "\n",
    "4. Broadcasting: `numpy` supports broadcasting, which allows for performing element-wise operations on arrays with different shapes and sizes. Broadcasting enables more concise and efficient code when working with arrays of different dimensions. The `array` package does not have built-in broadcasting capabilities.\n",
    "\n",
    "5. Ecosystem: The `numpy` package has a large and active ecosystem of scientific and numerical computing libraries built on top of it. It is widely used in fields such as data science, machine learning, and scientific research. The `array` package, on the other hand, has limited usage and is primarily used for basic array manipulation.\n",
    "\n",
    "6. Compatibility: The `array` package is a built-in package in Python, available without any additional installation. On the other hand, `numpy` needs to be installed separately as an external package.\n"
   ]
  },
  {
   "cell_type": "markdown",
   "id": "ef9ec9a7-3be0-4c1b-b174-c6e003a6a2ef",
   "metadata": {},
   "source": [
    "**Q4. Explain the distinctions between the empty, ones, and zeros functions.**"
   ]
  },
  {
   "cell_type": "markdown",
   "id": "d8510dcf-22bf-4293-a2dc-563eafca7f15",
   "metadata": {},
   "source": [
    "The empty, ones, and zeros functions are commonly used in programming languages to create arrays or matrices with specific initial values. These functions are often provided as convenient tools for initializing data structures.\n",
    "\n",
    "1. Empty Function:\n",
    "The empty function creates an array or matrix without any initial values. It simply allocates memory for the data structure but does not set any specific values to its elements. This means that the content of the array or matrix created using the empty function is undefined or arbitrary, depending on the programming language or context. It is up to the programmer to assign values to the elements later on.\n",
    "\n",
    "2. Zeros Function:\n",
    "The zeros function creates an array or matrix where all the elements are initialized with the value zero. This function is useful when you need to set all the elements to a default value of zero. For example, if you want to create a 1D array of size n initialized with zeros, you can use the zeros function to achieve this. The resulting array will have n elements, all set to zero.\n",
    "\n",
    "3. Ones Function:\n",
    "Similarly, the ones function creates an array or matrix where all the elements are initialized with the value one. This function is handy when you need to set all the elements to a default value of one. It is commonly used in scenarios where you want to create an array or matrix of a specific size and initialize all the elements to one."
   ]
  },
  {
   "cell_type": "markdown",
   "id": "6f6cfb54-dd11-4451-8edc-a592d5461650",
   "metadata": {},
   "source": [
    "**Q5. In the fromfunction function, which is used to construct new arrays, what is the role of the callable argument?**"
   ]
  },
  {
   "cell_type": "markdown",
   "id": "05ec067c-c0e5-49fd-b589-698184e4a35b",
   "metadata": {},
   "source": [
    "In the `fromfunction` function, the callable argument refers to a function or a callable object that is used to determine the values of the elements in the new array being constructed. The `fromfunction` function is a convenient way to create arrays by specifying a function that calculates the values based on the indices of the array.\n",
    "\n",
    "The general syntax of the `fromfunction` function is:"
   ]
  },
  {
   "cell_type": "code",
   "execution_count": null,
   "id": "7d93693f-c729-4f5c-86f8-ae6be0a5353a",
   "metadata": {},
   "outputs": [],
   "source": [
    "import numpy\n",
    "numpy.fromfunction(function, shape, dtype=None, **kwargs)\n"
   ]
  },
  {
   "cell_type": "markdown",
   "id": "f1a6c740-161e-4d32-b7ff-100fff9388b1",
   "metadata": {},
   "source": [
    "Here, the `function` parameter is the callable object or function that defines the relationship between the indices of the array and the corresponding values. The `shape` parameter specifies the shape or dimensions of the resulting array, and `dtype` specifies the data type of the array elements.\n",
    "\n",
    "When the `fromfunction` function is called, it generates a coordinate grid for the given shape of the array. Then, it passes the coordinate values to the callable function and uses the returned values to populate the elements of the new array.\n",
    "\n",
    "For example, let's say we want to create a 1D array where each element is the square of its index. We can use the `fromfunction` function along with a lambda function as the callable argument:"
   ]
  },
  {
   "cell_type": "code",
   "execution_count": 3,
   "id": "6ce7e280-2f68-4f13-82aa-fed0b6a7899e",
   "metadata": {},
   "outputs": [
    {
     "name": "stdout",
     "output_type": "stream",
     "text": [
      "[ 0  1  4  9 16]\n"
     ]
    }
   ],
   "source": [
    "import numpy as np\n",
    "\n",
    "def square(index):\n",
    "    return index ** 2\n",
    "\n",
    "arr = np.fromfunction(lambda i: square(i), (5,), dtype=int)\n",
    "print(arr)"
   ]
  },
  {
   "cell_type": "markdown",
   "id": "71b21388-ecd1-4f60-9e58-693c102861bd",
   "metadata": {},
   "source": [
    "In this example, the lambda function `lambda i: square(i)` takes the index `i` as input and returns the square of the index. The `fromfunction` function generates a 1D array with shape `(5,)` and fills each element by passing the corresponding index to the lambda function."
   ]
  },
  {
   "cell_type": "markdown",
   "id": "60f2ed6c-ed21-4bad-a3ac-49776f517afe",
   "metadata": {},
   "source": [
    "**Q6. What happens when a numpy array is combined with a single-value operand (a scalar, such as an int or a floating-point value) through addition, as in the expression A + n?**"
   ]
  },
  {
   "cell_type": "markdown",
   "id": "a86f81ad-4ea8-40f1-81fc-d852c76f489b",
   "metadata": {},
   "source": [
    "When a NumPy array is combined with a single-value operand (a scalar) through addition, the scalar value is broadcasted to match the shape of the array, and element-wise addition is performed between the array and the scalar value.\n",
    "\n",
    "This behavior is known as broadcasting, and it is a powerful feature of NumPy that allows for efficient element-wise operations between arrays of different shapes.\n",
    "\n",
    "Here are the steps that occur when you perform the operation `A + n`, where `A` is a NumPy array and `n` is a scalar value:\n",
    "\n",
    "1. Broadcasting: If the shape of the array `A` and the shape of the scalar `n` do not match, NumPy automatically broadcasts the scalar value to match the shape of the array. Broadcasting involves creating new dimensions or duplicating the scalar value along existing dimensions to make the shapes compatible.\n",
    "\n",
    "2. Element-wise addition: Once the shapes are aligned, element-wise addition is performed between the array `A` and the broadcasted scalar value `n`. Each element of the array is added to the corresponding element of the broadcasted scalar.\n",
    "\n",
    "Here's an example to illustrate this behavior:"
   ]
  },
  {
   "cell_type": "code",
   "execution_count": 4,
   "id": "d92e17f3-4d6c-495e-b250-d840e7cad310",
   "metadata": {},
   "outputs": [
    {
     "name": "stdout",
     "output_type": "stream",
     "text": [
      "[[11 12 13]\n",
      " [14 15 16]]\n"
     ]
    }
   ],
   "source": [
    "import numpy as np\n",
    "\n",
    "A = np.array([[1, 2, 3], [4, 5, 6]])\n",
    "n = 10\n",
    "\n",
    "result = A + n\n",
    "\n",
    "print(result)"
   ]
  },
  {
   "cell_type": "markdown",
   "id": "a971c0c9-e726-4860-8594-0d069ae9b4f5",
   "metadata": {},
   "source": [
    "In this example, the scalar value `n` (which is 10) is broadcasted to match the shape of the array `A`, which is `(2, 3)`. After broadcasting, the scalar value becomes a 2D array of the same shape as `A` with all elements set to 10. Then, element-wise addition is performed between `A` and the broadcasted scalar, resulting in a new array `result` with each element incremented by 10.\n",
    "\n",
    "This broadcasting behavior allows you to perform arithmetic operations between arrays and scalar values without explicitly creating an array with the same shape as the input array."
   ]
  },
  {
   "cell_type": "markdown",
   "id": "6524d65d-f4ce-41cb-8a06-9117d3df00fb",
   "metadata": {},
   "source": [
    "#### Q7. Can array-to-scalar operations use combined operation-assign operators (such as += or *=)?What is the outcome?"
   ]
  },
  {
   "cell_type": "markdown",
   "id": "0cf7977e-9ca3-4c33-92a9-fde65d9fe464",
   "metadata": {},
   "source": [
    "Array-to-scalar operations in NumPy can use combined operation-assign operators such as `+=`, `*=`, and so on. These operators modify the array in-place, updating its values based on the combined operation with the scalar value.\n",
    "\n",
    "When you use combined operation-assign operators with array-to-scalar operations, the scalar value is applied to each element of the array, and the result is stored back in the original array. This allows for efficient in-place modification of the array.\n",
    "\n",
    "Here's an example to illustrate the outcome of array-to-scalar combined operation-assign operators:"
   ]
  },
  {
   "cell_type": "code",
   "execution_count": 5,
   "id": "bd54d484-071a-4ad9-8001-6ae459c85640",
   "metadata": {},
   "outputs": [
    {
     "name": "stdout",
     "output_type": "stream",
     "text": [
      "[3 4 5]\n"
     ]
    }
   ],
   "source": [
    "\n",
    "import numpy as np\n",
    "\n",
    "A = np.array([1, 2, 3])\n",
    "n = 2\n",
    "\n",
    "A += n  # Equivalent to A = A + n\n",
    "\n",
    "print(A)\n"
   ]
  },
  {
   "cell_type": "markdown",
   "id": "c819a0ce-8885-49e8-8897-c7340050bf03",
   "metadata": {},
   "source": [
    "In this example, the array `A` contains `[1, 2, 3]`, and the scalar value `n` is 2. The `+=` operator is used to add the scalar value to each element of the array in-place. After the operation, the array `A` is modified to `[3, 4, 5]`.\n",
    "\n",
    "Similarly, you can use other combined operation-assign operators like `*=`, `-=`, `/=`, and so on to perform element-wise operations between arrays and scalar values."
   ]
  },
  {
   "cell_type": "markdown",
   "id": "1022ecb4-2de7-4322-9fa2-e944a727848e",
   "metadata": {},
   "source": [
    "**Q8. Does a numpy array contain fixed-length strings? What happens if you allocate a longer string to one of these arrays?**"
   ]
  },
  {
   "cell_type": "markdown",
   "id": "e3a4662b-9072-4eec-ab65-ac418f31ac1a",
   "metadata": {},
   "source": [
    "In NumPy, it is possible to create arrays with fixed-length strings using the `dtype` parameter. By specifying `dtype='Sn'`, where `n` represents the desired length of the string, you can create a NumPy array where each element has a fixed-length string.\n",
    "\n",
    "For example, to create an array of fixed-length strings with a length of 5 characters, you can use the following code:"
   ]
  },
  {
   "cell_type": "code",
   "execution_count": 6,
   "id": "eebd251e-ef30-4c5b-bfbf-f38d788b45b5",
   "metadata": {},
   "outputs": [],
   "source": [
    "\n",
    "import numpy as np\n",
    "\n",
    "arr = np.array(['abcde', 'fghij', 'klmno'], dtype='S5')\n"
   ]
  },
  {
   "cell_type": "markdown",
   "id": "c0d18c39-c856-457b-8339-dad169885dc5",
   "metadata": {},
   "source": [
    "In this case, `arr` will be a NumPy array with three elements, and each element will have a fixed length of 5 characters.\n",
    "\n",
    "If you attempt to assign a longer string to one of these arrays, NumPy will truncate the string to fit within the specified fixed length. No error or exception is raised, and the assigned value will be truncated to match the specified length.\n",
    "\n",
    "Here's an example that demonstrates this behavior:"
   ]
  },
  {
   "cell_type": "code",
   "execution_count": 7,
   "id": "08b0a4f5-4848-4855-b310-07e07c40045a",
   "metadata": {},
   "outputs": [
    {
     "name": "stdout",
     "output_type": "stream",
     "text": [
      "[b'abcde' b'pqrst' b'klmno']\n"
     ]
    }
   ],
   "source": [
    "import numpy as np\n",
    "\n",
    "arr = np.array(['abcde', 'fghij', 'klmno'], dtype='S5')\n",
    "arr[1] = 'pqrstuvwxyz'  # Assigning a longer string\n",
    "\n",
    "print(arr)"
   ]
  },
  {
   "cell_type": "markdown",
   "id": "5947697c-74a7-4d59-926d-862c9657b01a",
   "metadata": {},
   "source": [
    "In this example, the original value at index 1, `'fghij'`, is replaced with the longer string `'pqrstuvwxyz'`. However, since the specified fixed length is 5 characters, the assigned value is truncated to `'pqrst'` to fit within the fixed length. The resulting array, `arr`, contains the truncated value."
   ]
  },
  {
   "cell_type": "markdown",
   "id": "5a4b5fe1-e83b-44b9-9fa4-31f8238e3f3e",
   "metadata": {},
   "source": [
    "**Q9. What happens when you combine two numpy arrays using an operation like addition (+) or multiplication (*)? What are the conditions for combining two numpy arrays?**"
   ]
  },
  {
   "cell_type": "markdown",
   "id": "b568a930-0dca-47f5-ae44-cf477bd69959",
   "metadata": {},
   "source": [
    "When you combine two NumPy arrays using operations like addition (+) or multiplication (*), the arrays are combined element-wise based on their shapes. The conditions for combining two NumPy arrays are as follows:\n",
    "\n",
    "1. Shape compatibility: The arrays being combined must have compatible shapes. For element-wise operations to be performed, the arrays must have the same shape or be broadcastable to a common shape.\n",
    "\n",
    "2. Element-wise operation: The corresponding elements of the arrays are combined based on the specified operation. Addition (+) performs element-wise addition, multiplication (*) performs element-wise multiplication, and so on.\n",
    "\n",
    "Here are some scenarios that illustrate the behavior of combining two NumPy arrays:\n",
    "\n",
    "1. Arrays with the same shape:"
   ]
  },
  {
   "cell_type": "code",
   "execution_count": 8,
   "id": "30f28ef5-47dd-4557-a805-208ae130b05d",
   "metadata": {},
   "outputs": [
    {
     "name": "stdout",
     "output_type": "stream",
     "text": [
      "[5 7 9]\n"
     ]
    }
   ],
   "source": [
    "\n",
    "import numpy as np\n",
    "\n",
    "A = np.array([1, 2, 3])\n",
    "B = np.array([4, 5, 6])\n",
    "\n",
    "result = A + B\n",
    "\n",
    "print(result)\n",
    " "
   ]
  },
  {
   "cell_type": "markdown",
   "id": "1be84d78-2570-4629-8a9f-1ec340661265",
   "metadata": {},
   "source": [
    "   In this case, both arrays `A` and `B` have the same shape `(3,)`, and element-wise addition is performed. Each element of `A` is added to the corresponding element of `B`, resulting in `[5, 7, 9]`.\n",
    "\n",
    "2. Arrays with compatible shapes:"
   ]
  },
  {
   "cell_type": "code",
   "execution_count": 9,
   "id": "50a34bb1-3971-4cc9-86ae-70c691f32502",
   "metadata": {},
   "outputs": [
    {
     "name": "stdout",
     "output_type": "stream",
     "text": [
      "[[10 40]\n",
      " [30 80]]\n"
     ]
    }
   ],
   "source": [
    "\n",
    "import numpy as np\n",
    "\n",
    "A = np.array([[1, 2], [3, 4]])\n",
    "B = np.array([10, 20])\n",
    "\n",
    "result = A * B\n",
    "\n",
    "print(result)\n"
   ]
  },
  {
   "cell_type": "markdown",
   "id": "bc9ea782-bc24-4d23-8774-640381671c86",
   "metadata": {},
   "source": [
    "   In this example, array `A` has shape `(2, 2)` and array `B` has shape `(2,)`. The shape of `B` is compatible for broadcasting, and element-wise multiplication is performed between `A` and the broadcasted `B`. Each element of `A` is multiplied by the corresponding element of `B`, resulting in `[[10, 40], [30, 80]]`.\n",
    "\n",
    "3. Incompatible shapes:"
   ]
  },
  {
   "cell_type": "code",
   "execution_count": 10,
   "id": "f12d41b3-64d6-4c0c-a6e1-05fdd9fc4a15",
   "metadata": {},
   "outputs": [
    {
     "ename": "ValueError",
     "evalue": "operands could not be broadcast together with shapes (3,) (2,) ",
     "output_type": "error",
     "traceback": [
      "\u001b[0;31m---------------------------------------------------------------------------\u001b[0m",
      "\u001b[0;31mValueError\u001b[0m                                Traceback (most recent call last)",
      "Cell \u001b[0;32mIn [10], line 6\u001b[0m\n\u001b[1;32m      3\u001b[0m A \u001b[38;5;241m=\u001b[39m np\u001b[38;5;241m.\u001b[39marray([\u001b[38;5;241m1\u001b[39m, \u001b[38;5;241m2\u001b[39m, \u001b[38;5;241m3\u001b[39m])\n\u001b[1;32m      4\u001b[0m B \u001b[38;5;241m=\u001b[39m np\u001b[38;5;241m.\u001b[39marray([\u001b[38;5;241m4\u001b[39m, \u001b[38;5;241m5\u001b[39m])\n\u001b[0;32m----> 6\u001b[0m result \u001b[38;5;241m=\u001b[39m \u001b[43mA\u001b[49m\u001b[43m \u001b[49m\u001b[38;5;241;43m+\u001b[39;49m\u001b[43m \u001b[49m\u001b[43mB\u001b[49m  \u001b[38;5;66;03m# Raises ValueError\u001b[39;00m\n\u001b[1;32m      8\u001b[0m \u001b[38;5;28mprint\u001b[39m(result)\n",
      "\u001b[0;31mValueError\u001b[0m: operands could not be broadcast together with shapes (3,) (2,) "
     ]
    }
   ],
   "source": [
    "\n",
    "import numpy as np\n",
    "\n",
    "A = np.array([1, 2, 3])\n",
    "B = np.array([4, 5])\n",
    "\n",
    "result = A + B  # Raises ValueError\n",
    "\n",
    "print(result)"
   ]
  },
  {
   "cell_type": "markdown",
   "id": "a2498035-56a9-4d59-97dd-500c0a55fbda",
   "metadata": {},
   "source": [
    "   In this case, arrays `A` and `B` have incompatible shapes for element-wise addition. The shapes `(3,)` and `(2,)` cannot be broadcasted to a common shape, resulting in a `ValueError` when attempting to perform the operation."
   ]
  },
  {
   "cell_type": "markdown",
   "id": "c5aa8be9-bbe7-42dc-9cb7-b43255e2bf7a",
   "metadata": {},
   "source": [
    "**Q10. What is the best way to use a Boolean array to mask another array?**"
   ]
  },
  {
   "cell_type": "markdown",
   "id": "cf26aa67-d083-4140-bd99-db0c80c23f7e",
   "metadata": {},
   "source": [
    "The best way to use a Boolean array to mask another array in NumPy is by using the Boolean array as an index to select or filter the elements from the target array. This process is commonly referred to as Boolean array indexing or Boolean masking.\n",
    "\n",
    "Here's an example to illustrate how to use a Boolean array to mask another array:"
   ]
  },
  {
   "cell_type": "code",
   "execution_count": 11,
   "id": "49357219-3db4-4258-a548-af976b819d77",
   "metadata": {},
   "outputs": [
    {
     "name": "stdout",
     "output_type": "stream",
     "text": [
      "[1 3 5]\n"
     ]
    }
   ],
   "source": [
    "import numpy as np\n",
    "\n",
    "# Target array\n",
    "arr = np.array([1, 2, 3, 4, 5])\n",
    "\n",
    "# Boolean mask\n",
    "mask = np.array([True, False, True, False, True])\n",
    "\n",
    "# Masking the target array\n",
    "masked_arr = arr[mask]\n",
    "\n",
    "print(masked_arr)"
   ]
  },
  {
   "cell_type": "markdown",
   "id": "41edeb96-6c2f-4b96-af5a-5af4d74519ff",
   "metadata": {},
   "source": [
    "In this example, the target array `arr` contains `[1, 2, 3, 4, 5]`, and the Boolean mask `mask` is `[True, False, True, False, True]`. Each element in the mask corresponds to an element in the target array, indicating whether that element should be selected or masked.\n",
    "\n",
    "By using the mask as an index to the target array (`arr[mask]`), only the elements where the mask is `True` are selected, and a new masked array is created with those selected elements. In this case, the resulting masked array is `[1, 3, 5]`."
   ]
  },
  {
   "cell_type": "markdown",
   "id": "5145d130-fbae-4a38-9fb4-03ed39d432db",
   "metadata": {},
   "source": [
    "**Q11. What are three different ways to get the standard deviation of a wide collection of data using both standard Python and its packages? Sort the three of them by how quickly they execute.**"
   ]
  },
  {
   "cell_type": "markdown",
   "id": "398d7d03-cf1f-48ba-81f8-6fa02f55c78e",
   "metadata": {},
   "source": [
    "Sorting the three methods by execution speed can vary depending on the specific dataset and hardware. However, here are three different ways to calculate the standard deviation of a large collection of data using standard Python and its packages, listed in ascending order based on general execution speed:\n",
    "\n",
    "1. Standard Python (`statistics` module):\n",
    "   The `statistics` module in Python's standard library provides a `stdev` function to calculate the standard deviation. However, it operates on a single list of data and may not be the most efficient for large datasets.\n",
    "\n",
    "   Example:"
   ]
  },
  {
   "cell_type": "code",
   "execution_count": 13,
   "id": "586eeed6-6d17-4a49-badb-73818d618361",
   "metadata": {},
   "outputs": [],
   "source": [
    "\n",
    "import statistics\n",
    "\n",
    "data = [1, 2, 3, 4, 5]  # Large collection of data\n",
    "\n",
    "standard_deviation = statistics.stdev(data)"
   ]
  },
  {
   "cell_type": "markdown",
   "id": "32a9471e-d34e-41d4-8384-9303f9da53b8",
   "metadata": {},
   "source": [
    "2. NumPy:\n",
    "   NumPy is a powerful numerical computing library for Python. It provides a `std` function to calculate the standard deviation efficiently. NumPy operates on arrays and can handle large datasets more efficiently than the `statistics` module.\n",
    "\n",
    "   Example:"
   ]
  },
  {
   "cell_type": "code",
   "execution_count": 14,
   "id": "c2a2792c-65a5-4849-b8cc-524faccd901f",
   "metadata": {},
   "outputs": [],
   "source": [
    "\n",
    "import numpy as np\n",
    "\n",
    "data = np.array([1, 2, 3, 4, 5])  # Large collection of data\n",
    "\n",
    "standard_deviation = np.std(data)"
   ]
  },
  {
   "cell_type": "markdown",
   "id": "b9afa586-e46a-45af-a675-9215acbcf5d8",
   "metadata": {},
   "source": [
    "3. Pandas:\n",
    "   Pandas is a popular data manipulation library built on top of NumPy. It provides a high-level `Series` object with built-in statistical functions, including the standard deviation (`std`).\n",
    "\n",
    "   Example:"
   ]
  },
  {
   "cell_type": "code",
   "execution_count": 15,
   "id": "5d02511a-5a6b-4a1a-8867-2c5ff2d1c603",
   "metadata": {},
   "outputs": [],
   "source": [
    "import pandas as pd\n",
    "\n",
    "data = pd.Series([1, 2, 3, 4, 5])  # Large collection of data\n",
    "\n",
    "standard_deviation = data.std()"
   ]
  },
  {
   "cell_type": "markdown",
   "id": "636cc4a0-7a7d-4df4-b484-7266c3ce1331",
   "metadata": {},
   "source": [
    "**12. What is the dimensionality of a Boolean mask-generated array?**"
   ]
  },
  {
   "cell_type": "markdown",
   "id": "c8acd85b-31b5-4bea-93ec-296b3a4a49bf",
   "metadata": {},
   "source": [
    "The dimensionality of a Boolean mask-generated array depends on the shape and dimensionality of the original array and the Boolean mask used.\n",
    "\n",
    "When using a Boolean mask to index or filter an array, the resulting array will have a dimensionality that reflects the shape of the Boolean mask. Specifically, the resulting array will have the same number of dimensions as the Boolean mask, and the size of each dimension will correspond to the number of `True` values in that dimension of the mask.\n",
    "\n",
    "Here's an example to illustrate the dimensionality of a Boolean mask-generated array:"
   ]
  },
  {
   "cell_type": "code",
   "execution_count": 16,
   "id": "bbad0256-2902-46c1-9c08-e7cf92a8fddc",
   "metadata": {},
   "outputs": [
    {
     "name": "stdout",
     "output_type": "stream",
     "text": [
      "[1 3 5 7 9]\n",
      "(5,)\n"
     ]
    }
   ],
   "source": [
    "import numpy as np\n",
    "\n",
    "# Original array\n",
    "arr = np.array([[1, 2, 3], [4, 5, 6], [7, 8, 9]])\n",
    "\n",
    "# Boolean mask\n",
    "mask = np.array([[True, False, True], [False, True, False], [True, False, True]])\n",
    "\n",
    "# Applying the mask\n",
    "masked_arr = arr[mask]\n",
    "\n",
    "print(masked_arr)\n",
    "print(masked_arr.shape)\n"
   ]
  },
  {
   "cell_type": "markdown",
   "id": "1df9bdfb-52db-46da-a8fa-4d1c2ae8c184",
   "metadata": {},
   "source": [
    "In this example, the original array `arr` has a shape of `(3, 3)`, and the Boolean mask `mask` also has a shape of `(3, 3)`. The resulting masked array `masked_arr` contains the elements from `arr` where the corresponding elements of the mask are `True`.\n",
    "\n",
    "Since the mask has a 2D shape, the resulting masked array has a 1D shape `(5,)`, which reflects the number of `True` values in the mask. The dimensionality of the resulting array matches the dimensionality of the Boolean mask."
   ]
  },
  {
   "cell_type": "markdown",
   "id": "947c013c-a037-4255-9289-e9c0113a1f28",
   "metadata": {},
   "source": []
  }
 ],
 "metadata": {
  "kernelspec": {
   "display_name": "Python 3 (ipykernel)",
   "language": "python",
   "name": "python3"
  },
  "language_info": {
   "codemirror_mode": {
    "name": "ipython",
    "version": 3
   },
   "file_extension": ".py",
   "mimetype": "text/x-python",
   "name": "python",
   "nbconvert_exporter": "python",
   "pygments_lexer": "ipython3",
   "version": "3.10.6"
  }
 },
 "nbformat": 4,
 "nbformat_minor": 5
}
