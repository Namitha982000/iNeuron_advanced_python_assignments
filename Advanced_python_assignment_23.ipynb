{
 "cells": [
  {
   "cell_type": "markdown",
   "id": "692ab43d-158f-4aab-a579-ab75fde4e4cc",
   "metadata": {},
   "source": [
    "# Assignment 23"
   ]
  },
  {
   "cell_type": "markdown",
   "id": "cf22a697-96b7-4578-ab38-457f5b170279",
   "metadata": {},
   "source": [
    "**Q1. If you have any, what are your choices for increasing the comparison between different figures on the same graph?**"
   ]
  },
  {
   "cell_type": "markdown",
   "id": "ba0c0aaa-92be-4a50-b51a-e11f0ea01b39",
   "metadata": {},
   "source": [
    "To increase the comparison between different figures on the same graph, you have several choices. Here are a few options:\n",
    "\n",
    "1. Modify the axes' sizing: By changing the axes' scaling, you can draw attention to the variations between the figures. To focus on the pertinent range of data, you can manually adjust the x- and y-axis bounds. This may aid in drawing attention to and emphasising the variations.\n",
    "\n",
    "2. Use diverse colours or line styles to distinguish between different figures. This can help with visual comparison. You can make it simpler for viewers to identify between the figures by utilising distinct line types (such as solid, dashed, or dotted lines), high contrast colour choices, or both.\n",
    "\n",
    "3. Include annotations or labels: Annotations or labels can add details about particular data points or graphs. You can improve the comparison between figures and highlight critical information by labelling key areas or adding context through annotations.\n",
    "\n",
    "4. Use direct comparison techniques: You can use stacked bar charts, grouped bar charts, or superimposed line plots as direct comparison approaches. With the use of these techniques, viewers can compare values or trends directly by seeing various data side by side or overlay.\n",
    "\n",
    "5. Include visual components like markers or data points: Markers or data points can help make the statistics easier to differentiate from one another and facilitate comparison. You can draw attention to particular data points or interesting numbers by utilising different marker types, sizes, or colours.\n",
    "\n",
    "6. Clearly label the figures with legends or captions: Helping viewers comprehend what each figure represents is possible by clearly labelling the figures with legends or captions. This promotes comparison and aids in the organisation of the information.\n",
    "\n",
    "7. Think about utilising interactive visualisations: Interactive visualisations, such zoomable plots or interactive sliders, let users explore and contrast the data in real-time. The comparing capabilities may be improved by making the experience more dynamic and immersive."
   ]
  },
  {
   "cell_type": "markdown",
   "id": "5ac8d8fe-a95d-4224-917c-35d03872b71f",
   "metadata": {},
   "source": [
    "**Q2. Can you explain the benefit of compound interest over a higher rate of interest that does not compound after reading this chapter?**"
   ]
  },
  {
   "cell_type": "markdown",
   "id": "2441507a-1f30-45ba-adda-548da56ef063",
   "metadata": {},
   "source": [
    "The interest earned on both the initial principle sum and any accrued interest from earlier periods is referred to as compound interest. Simple interest, which has a greater rate of interest but does not compound, is computed just using the original principal sum.\n",
    "\n",
    "When comparing the long-term growth and accumulation of wealth, compound interest has an advantage over a higher rate of interest that does not compound. These are a few of the principal benefits of compound interest:\n",
    "\n",
    "1. Exponential Growth: Compound interest enables your savings or investments to expand exponentially over time. The principal is increased by the amount of interest earned, and this new base is used to calculate interest in the future. The growth potential is increased by this compounding effect, especially when interest is calculated and reinvested on a regular basis.\n",
    "\n",
    "2. Higher Total Returns: Compound interest has the potential to produce total returns that are higher than simple interest over a longer time frame. Your savings or investments might grow faster because to the compounding effect, which results in a bigger total amount amassed over time.\n",
    "\n",
    "3. Time Value of Money: Compound interest takes into account the passage of time, which means that the potential for growth increases the longer money is allowed to compound. You may harness the power of time and increase your wealth by starting early and letting your investments compound over a long period of time.\n",
    "\n",
    "4. Passive Growth: Compound interest benefits you even if you put no extra effort into it. Money grows passively throughout time once it has been invested and given time to compound. This enables you to gain from the expansion without actually contributing more money or effort.\n",
    "\n",
    "5. Long-Term Financial Objectives: Compound interest is especially helpful for long-term financial objectives, such as retirement savings or college fund accounts. You can potentially create a sizable nest egg to fulfil your future financial demands by continually investing and letting your money grow."
   ]
  },
  {
   "cell_type": "markdown",
   "id": "80c36a94-35f7-4955-877c-e40ae155548f",
   "metadata": {},
   "source": [
    "**Q3. What is a histogram, exactly? Name a numpy method for creating such a graph.**"
   ]
  },
  {
   "cell_type": "markdown",
   "id": "3f83b21c-8d66-46ff-9396-6cdf74e7b316",
   "metadata": {},
   "source": [
    "A histogram is a graphical representation that displays the distribution of a dataset. It represents the frequencies or counts of data points falling into different intervals or bins. The x-axis of a histogram represents the range of values or intervals, while the y-axis represents the frequency or count of data points falling within each interval.\n",
    "\n",
    "Numpy provides the `histogram` function to create a histogram graph. Here's how you can use it:"
   ]
  },
  {
   "cell_type": "code",
   "execution_count": 1,
   "id": "45425bc6-c948-4033-8cd2-32a552e4109b",
   "metadata": {},
   "outputs": [
    {
     "data": {
      "image/png": "[encoded data removed]",
      "text/plain": [
       "<Figure size 640x480 with 1 Axes>"
      ]
     },
     "metadata": {},
     "output_type": "display_data"
    }
   ],
   "source": [
    "import numpy as np\n",
    "import matplotlib.pyplot as plt\n",
    "\n",
    "# Create a dataset\n",
    "data = np.array([1, 1, 2, 3, 3, 3, 4, 4, 5, 6, 7, 8, 8, 8])\n",
    "\n",
    "# Create histogram\n",
    "hist, bins = np.histogram(data, bins=5)  # Specify the number of bins or bin edges\n",
    "\n",
    "# Plot histogram\n",
    "plt.hist(data, bins=5)\n",
    "\n",
    "# Add labels and title\n",
    "plt.xlabel('Value')\n",
    "plt.ylabel('Frequency')\n",
    "plt.title('Histogram')\n",
    "\n",
    "# Show the plot\n",
    "plt.show()"
   ]
  },
  {
   "cell_type": "markdown",
   "id": "003cc52e-3d77-4a83-bbe0-7ee5bf856116",
   "metadata": {},
   "source": [
    "In this example, we have a dataset `data` containing values from 1 to 8. We use the `np.histogram` function to calculate the frequencies and bin edges for the histogram. The `bins` parameter specifies the number of bins or bin edges to use in the histogram.\n",
    "\n",
    "Then, we use `plt.hist` from the `matplotlib.pyplot` module to plot the histogram. We pass the dataset `data` and the bin edges to `plt.hist`. The function automatically calculates the frequencies and creates the histogram plot."
   ]
  },
  {
   "cell_type": "markdown",
   "id": "429d9398-7120-4b83-973f-bfd1a0dc242a",
   "metadata": {},
   "source": [
    "**Q4. If necessary, how do you change the aspect ratios between the X and Y axes?**"
   ]
  },
  {
   "cell_type": "markdown",
   "id": "3ab092e7-6879-4d14-9fae-437d1856e865",
   "metadata": {},
   "source": [
    "To change the aspect ratios between the X and Y axes in a matplotlib plot, you can use the `set_aspect` method of the axes object. This allows you to control the scaling and proportions of the plot. Here's how you can do it:"
   ]
  },
  {
   "cell_type": "code",
   "execution_count": 2,
   "id": "89fd7ff4-5b3f-44dd-b72f-077de692747c",
   "metadata": {},
   "outputs": [
    {
     "data": {
      "image/png": "[encoded data removed]",
      "text/plain": [
       "<Figure size 640x480 with 1 Axes>"
      ]
     },
     "metadata": {},
     "output_type": "display_data"
    }
   ],
   "source": [
    "import matplotlib.pyplot as plt\n",
    "\n",
    "# Create a sample plot\n",
    "fig, ax = plt.subplots()\n",
    "ax.plot([1, 2, 3, 4], [1, 4, 9, 16])\n",
    "\n",
    "# Change the aspect ratio\n",
    "ax.set_aspect('equal')  # 'equal' sets equal aspect ratio, 'auto' adjusts aspect ratio automatically\n",
    "\n",
    "# Show the plot\n",
    "plt.show()"
   ]
  },
  {
   "cell_type": "markdown",
   "id": "7b9ccd80-7d85-45bd-9998-473050bba459",
   "metadata": {},
   "source": [
    "In this example, we create a simple plot using the `plot` function of matplotlib. The x-values are `[1, 2, 3, 4]`, and the y-values are `[1, 4, 9, 16]`. \n",
    "\n",
    "To change the aspect ratio, we call the `set_aspect` method of the `ax` object (which represents the axes of the plot). We pass either the string `'equal'` or `'auto'` to the `set_aspect` method to adjust the aspect ratio.\n",
    "\n",
    "- `'equal'`: This option sets an equal aspect ratio, meaning that one unit on the x-axis will be equal in length to one unit on the y-axis. This ensures that the plot appears in a square or circle shape, maintaining the proportions of the data.\n",
    "\n",
    "- `'auto'`: This option allows matplotlib to automatically adjust the aspect ratio based on the plot's content and the figure's size. It adjusts the aspect ratio to fit the available space while maintaining the relative scaling of the data.\n",
    "\n",
    "After changing the aspect ratio, you can display the plot using `plt.show()`.\n",
    "\n",
    "By manipulating the aspect ratio, you can control the stretching or compression of the plot along the X and Y axes, allowing for customization of the plot's appearance based on your specific requirements."
   ]
  },
  {
   "cell_type": "markdown",
   "id": "6c649d89-366d-4f8f-8d93-5201fbec2cfa",
   "metadata": {},
   "source": [
    "**Q5. Compare and contrast the three types of array multiplication between two numpy arrays: dot product, outer product, and regular multiplication of two numpy arrays.**"
   ]
  },
  {
   "cell_type": "markdown",
   "id": "212aedc0-f9a1-4c70-a6e4-5cd68fb7d1bc",
   "metadata": {},
   "source": [
    "The three types of array multiplication in numpy—dot product, outer product, and regular element-wise multiplication—have distinct behaviors and purposes. Let's compare and contrast them:\n",
    "\n",
    "1. Dot Product:\n",
    "   - Operation: The dot product is a mathematical operation that calculates the sum of the element-wise products of two arrays.\n",
    "   - Syntax: `np.dot(arr1, arr2)` or `arr1.dot(arr2)`\n",
    "   - Dimensions: The dot product requires compatible dimensions between the two arrays. The number of columns in the first array must match the number of rows in the second array.\n",
    "   - Result: The dot product produces a single scalar value or a 1D array if the input arrays are 1D.\n",
    "   - Purpose: The dot product is used for linear algebraic operations such as matrix multiplication, solving systems of equations, and calculating projections and transformations.\n",
    "\n",
    "2. Outer Product:\n",
    "   - Operation: The outer product calculates the element-wise multiplication of all combinations of the elements from two arrays.\n",
    "   - Syntax: `np.outer(arr1, arr2)`\n",
    "   - Dimensions: The outer product does not have strict requirements on the dimensions of the input arrays. The resulting outer product will have the shape `(arr1.shape[0], arr2.shape[0])`.\n",
    "   - Result: The outer product produces a 2D array with the shape `(arr1.shape[0], arr2.shape[0])`.\n",
    "   - Purpose: The outer product is useful for creating matrices or computing pairwise interactions between elements of two arrays. It is commonly used in linear algebra, statistics, and machine learning algorithms.\n",
    "\n",
    "3. Regular Element-wise Multiplication:\n",
    "   - Operation: Regular element-wise multiplication multiplies corresponding elements of two arrays.\n",
    "   - Syntax: `arr1 * arr2`\n",
    "   - Dimensions: Element-wise multiplication requires compatible dimensions between the two arrays. The arrays must have the same shape or be broadcastable to the same shape.\n",
    "   - Result: The regular element-wise multiplication produces an array with the same shape as the input arrays, where each element is the product of the corresponding elements from the input arrays.\n",
    "   - Purpose: Element-wise multiplication is used for applying mathematical operations to corresponding elements in arrays. It can be employed for calculations such as scaling, weighting, or element-wise transformations."
   ]
  },
  {
   "cell_type": "markdown",
   "id": "94810763-7bec-4170-b7fd-e525bb2f0424",
   "metadata": {},
   "source": [
    "**Q6. Before you buy a home, which numpy function will you use to measure your monthly mortgage payment?**"
   ]
  },
  {
   "cell_type": "markdown",
   "id": "68839cc3-394e-4b24-b7a3-e4de45266b14",
   "metadata": {},
   "source": [
    "To measure your monthly mortgage payment before buying a home, you can use the numpy function called `numpy.pmt()`. This function calculates the fixed monthly payment required to pay off a loan or mortgage over a specified period, given the interest rate and loan details.\n",
    "\n",
    "The syntax for using `numpy.pmt()` is as follows:"
   ]
  },
  {
   "cell_type": "code",
   "execution_count": null,
   "id": "27e36d4b-17c4-4970-9c8e-5928e53325d6",
   "metadata": {},
   "outputs": [],
   "source": [
    "\n",
    "import numpy as np\n",
    "\n",
    "rate = 12.6\n",
    "nper = 10\n",
    "pv = 125606\n",
    "\n",
    "monthly_payment = np.pmt(rate, nper, pv)\n",
    "print(monthly_payment)"
   ]
  },
  {
   "cell_type": "markdown",
   "id": "7b04e9e2-a570-4ee2-af78-e77db7396408",
   "metadata": {},
   "source": [
    "In the above code snippet, you need to provide the interest rate per period (`rate`), the total number of payment periods (`nper`), and the principal loan amount (`pv`). The interest rate should be in decimal form (e.g., 5% should be represented as 0.05).\n",
    "\n",
    "The `numpy.pmt()` function calculates the fixed monthly payment needed to repay the loan over the specified number of periods, considering the interest rate and principal loan amount. The resulting `monthly_payment` value represents the amount you would need to pay each month to fulfill the mortgage requirements.\n",
    "\n",
    "Using this function, you can estimate your monthly mortgage payment based on the loan details and interest rate, allowing you to plan and budget accordingly before buying a home."
   ]
  },
  {
   "cell_type": "markdown",
   "id": "c7deaaf3-57fc-476b-b5da-f345bc654e25",
   "metadata": {},
   "source": [
    "**Q7. Can string data be stored in numpy arrays? If so, list at least one restriction that applies to this data.**"
   ]
  },
  {
   "cell_type": "markdown",
   "id": "4fbf52e8-407c-47e8-a928-5815eddf593e",
   "metadata": {},
   "source": [
    "Yes, string data can be stored in numpy arrays using the `dtype` parameter. You can specify the data type of the array elements as `str` or `object` to accommodate string values. Here's an example:"
   ]
  },
  {
   "cell_type": "code",
   "execution_count": 5,
   "id": "865b1522-334e-404b-9619-640fabf95d37",
   "metadata": {},
   "outputs": [
    {
     "name": "stdout",
     "output_type": "stream",
     "text": [
      "['apple' 'banana' 'cherry']\n"
     ]
    }
   ],
   "source": [
    "import numpy as np\n",
    "\n",
    "# Create a numpy array with string data\n",
    "arr = np.array(['apple', 'banana', 'cherry'], dtype=str)\n",
    "\n",
    "# Print the array\n",
    "print(arr)"
   ]
  },
  {
   "cell_type": "markdown",
   "id": "522f4a69-1ce3-498f-8687-f1079764624c",
   "metadata": {},
   "source": [
    "In this example, we create a numpy array `arr` with string values using the `dtype=str` parameter. The resulting array can store and manipulate string data.\n",
    "\n",
    "However, there is a restriction when working with string data in numpy arrays:\n",
    "\n",
    "1. Fixed-Length Requirement: Numpy arrays have a fixed size for each element, which means the strings in the array must have a fixed length. If you specify a specific length for the strings (e.g., `dtype='U10'` for strings of length 10), all strings in the array must have the same length. If the strings have varying lengths, they will be truncated or padded to match the specified length. This restriction can lead to inefficiencies or potential loss of data if the strings have significantly different lengths."
   ]
  },
  {
   "cell_type": "code",
   "execution_count": null,
   "id": "c022901e-05d0-4420-8c18-ed8b92904145",
   "metadata": {},
   "outputs": [],
   "source": []
  }
 ],
 "metadata": {
  "kernelspec": {
   "display_name": "Python 3 (ipykernel)",
   "language": "python",
   "name": "python3"
  },
  "language_info": {
   "codemirror_mode": {
    "name": "ipython",
    "version": 3
   },
   "file_extension": ".py",
   "mimetype": "text/x-python",
   "name": "python",
   "nbconvert_exporter": "python",
   "pygments_lexer": "ipython3",
   "version": "3.10.6"
  }
 },
 "nbformat": 4,
 "nbformat_minor": 5
}
