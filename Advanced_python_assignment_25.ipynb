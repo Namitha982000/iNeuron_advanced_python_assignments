{
 "cells": [
  {
   "cell_type": "markdown",
   "id": "4015cfef-516e-45de-9063-5cf571801bec",
   "metadata": {},
   "source": [
    "# Assignment 25"
   ]
  },
  {
   "cell_type": "markdown",
   "id": "74806a88-db5f-47ee-b9e1-458d71dbb9e1",
   "metadata": {},
   "source": [
    "**Q1. What is the distinction between a numpy array and a pandas data frame? Is there a way to convert between the two if there is?**"
   ]
  },
  {
   "cell_type": "markdown",
   "id": "51385c27-4820-4afd-bf35-cb3d171fed33",
   "metadata": {},
   "source": [
    "The distinction between a NumPy array and a pandas DataFrame lies in their underlying data structure and the functionalities they provide:\n",
    "\n",
    "1. NumPy Array:\n",
    "   - A NumPy array is a homogeneous, multidimensional array that stores data of the same type. It is the fundamental data structure in NumPy, which is a powerful library for numerical computing in Python.\n",
    "   - NumPy arrays offer efficient storage and operations on large arrays of numerical data. They provide mathematical operations, indexing, slicing, and various array manipulation functions.\n",
    "   - NumPy arrays are typically used for numerical computations and data processing tasks. They are especially useful for tasks involving linear algebra, statistical analysis, and scientific computing.\n",
    "\n",
    "2. Pandas DataFrame:\n",
    "   - A pandas DataFrame is a two-dimensional, labeled data structure that can store data of different types. It is built on top of NumPy arrays and provides additional functionalities for data manipulation and analysis.\n",
    "   - A DataFrame consists of rows and columns, similar to a table or a spreadsheet. It provides labeled axes (rows and columns) and allows for flexible indexing and selection of data.\n",
    "   - Pandas DataFrames offer powerful data manipulation operations, including data alignment, merging, reshaping, grouping, and aggregation. They also provide convenient methods for data cleaning, handling missing values, and dealing with time series data.\n",
    "   - DataFrames are widely used in data analysis, data preprocessing, and data exploration tasks. They provide a tabular structure and can handle heterogeneous data, making them suitable for working with structured and semi-structured data.\n",
    "\n",
    "Conversion between NumPy arrays and pandas DataFrames is straightforward as both libraries provide functions to facilitate the conversion:\n",
    "\n",
    "- Converting from a NumPy array to a pandas DataFrame: You can use the `pd.DataFrame()` constructor in pandas to create a DataFrame from a NumPy array. This allows you to add column labels and provides additional DataFrame functionality.\n",
    "- Converting from a pandas DataFrame to a NumPy array: You can use the `.values` attribute of a DataFrame to obtain the underlying NumPy array representation. This returns a NumPy array containing the data from the DataFrame.\n",
    "\n",
    "Here's an example demonstrating the conversion between a NumPy array and a pandas DataFrame:"
   ]
  },
  {
   "cell_type": "code",
   "execution_count": 1,
   "id": "8fc45517-6bfe-446e-bd31-d2fb43496857",
   "metadata": {},
   "outputs": [
    {
     "name": "stdout",
     "output_type": "stream",
     "text": [
      "   A  B  C\n",
      "0  1  2  3\n",
      "1  4  5  6\n",
      "[[1 2 3]\n",
      " [4 5 6]]\n"
     ]
    }
   ],
   "source": [
    "import numpy as np\n",
    "import pandas as pd\n",
    "\n",
    "# Create a NumPy array\n",
    "numpy_array = np.array([[1, 2, 3], [4, 5, 6]])\n",
    "\n",
    "# Convert NumPy array to pandas DataFrame\n",
    "df = pd.DataFrame(numpy_array, columns=['A', 'B', 'C'])\n",
    "print(df)\n",
    "\n",
    "# Convert pandas DataFrame to NumPy array\n",
    "numpy_array = df.values\n",
    "print(numpy_array)"
   ]
  },
  {
   "cell_type": "markdown",
   "id": "d985d462-1018-4e78-9287-203672ad39ad",
   "metadata": {},
   "source": [
    "**Q2. What can go wrong when an user enters in a stock-ticker symbol, and how do you handle it?**"
   ]
  },
  {
   "cell_type": "markdown",
   "id": "0eb4af54-a190-49f7-a855-96f3176e71f5",
   "metadata": {},
   "source": [
    "Several things can go wrong when a user enters a stock ticker symbol. Here are some common issues and how you can handle them:\n",
    "\n",
    "1. Incorrect Ticker Symbol: A false or nonexistent ticker symbol may be entered by the user. You may deal with this by putting in validation tests to make sure the symbol entered corresponds to a legitimate stock. This may entail running a query against a dependable data source or employing an API created especially for obtaining stock data. You can alert the user with the proper error message and ask them to enter a valid symbol if the symbol is invalid.\n",
    "\n",
    "2. Case Sensitivity: Stock ticker symbols typically don't care about case, although certain systems do. This can be dealt with by changing the user's input to uppercase or lowercase before processing and matching it with the accessible stock symbols.\n",
    "\n",
    "3. Ambiguous Symbols: Some ticker symbols may be connected to a number of different businesses or financial products. In these circumstances, you might need to ask the user for further details, like the exchange, or offer the user a list of potential matches from which to choose. This guarantees that the appropriate supply is chosen.\n",
    "\n",
    "4. API Restrictions or Errors: If you use an external API to retrieve stock data, there may be times when the API is unavailable, encounters problems, or imposes restrictions like rate limits. By adding error handling mechanisms, providing the user with educational information, and potentially retrying the request after a predetermined amount of time, it's critical to handle these instances gracefully.\n",
    "\n",
    "5. Data Inconsistencies: On occasion, stock data may have errors or be missing details. It's crucial to handle any missing or partial data gently and offer the proper notifications or default values when displaying stock information to the user.\n",
    "\n",
    "6. Users may encounter network connectivity problems, which can prevent stock data from being fetched. When this occurs, you can implement the necessary error handling procedures to alert the user to the connectivity issue and encourage them to try again later."
   ]
  },
  {
   "cell_type": "markdown",
   "id": "fec2b512-8e6d-4384-ae84-95129c5afcb9",
   "metadata": {},
   "source": [
    "**Q3. Identify some of the plotting techniques that are used to produce a stock-market chart**"
   ]
  },
  {
   "cell_type": "markdown",
   "id": "89ea8556-4c4c-434a-af45-100c01b8a8c1",
   "metadata": {},
   "source": [
    "Several plotting techniques are commonly used to produce stock market charts. Some of these techniques include:\n",
    "\n",
    "1. Line Chart: A line chart is a simple and popular method for displaying stock market data. It depicts the trend of stock prices over time by using straight lines to link the data points. For visualising broad price changes and spotting patterns, line charts are helpful.\n",
    "\n",
    "2. Candlestick Chart: In stock market analysis, candlestick charts are frequently utilised. By showing the opening, closing, high, and low values of the stock, they give more specific information about each trading period (such as a day or an hour). Candlestick charts display price ranges as rectangular bars (candles), with various colours and patterns indicating whether the stock price has increased or decreased.\n",
    "\n",
    "3. OHLC Chart: OHLC (Open-High-Low-Close) charts are comparable to candlestick charts, but instead of using candlestick shapes, they use straightforward bars. Short horizontal lines denoting the opening and closing prices are placed between the bars to highlight the range between lowest and highest prices throughout a trading period.\n",
    "\n",
    "4. A moving average chart is produced by determining the average price for a given time frame. They aid in minimising price swings and draw attention to a stock's long-term trend. On a stock chart, moving averages can be represented as lines to reveal price trends.\n",
    "\n",
    "5. Volume Chart: Volume charts show stock prices coupled with trading volume (the quantity of shares traded). They aid in determining the strength of the pressure to buy or sell. The height of the volume bars or histograms, which are often appended to the bottom of the chart, represents the trading volume.\n",
    "\n",
    "6. Technical Indicators: A number of technical indicators can be superimposed on stock charts to offer more context to price patterns and trends. Moving averages, Bollinger Bands, relative strength index (RSI), MACD (Moving Average Convergence Divergence), and many other technical indicators are examples. These indicators, which are based on mathematical computations and past price data, can assist in identifying probable buy or sell signals.\n",
    "\n",
    "7. Overlaying Multiple Stocks: Charts of the stock market frequently permit the overlaying of multiple stocks or indices. This makes it possible to compare several equities or indices visually and to analyse correlations."
   ]
  },
  {
   "cell_type": "markdown",
   "id": "f73c0040-e015-4dc7-8590-bfc528c4fb4b",
   "metadata": {},
   "source": [
    "**Q4. Why is it essential to print a legend on a stock market chart?**"
   ]
  },
  {
   "cell_type": "markdown",
   "id": "b6cf7e6a-6c97-4c45-b58d-a310ff2d7f96",
   "metadata": {},
   "source": [
    "A legend must be printed on stock market charts in order for viewers to effectively read and comprehend the data. The legend gives crucial information about the visual components used in the chart. Here are some justifications for the significance of a legend in a stock market chart:\n",
    "\n",
    "\n",
    "1. Identification of Data Series: Multiple data series, such as various stocks, indexes, or technical indicators, are frequently included in stock market charts. Each data series' identification and a clear mapping between the visual representation and the associated data are provided via a legend. It would be challenging for viewers to distinguish between the different items on the chart without a legend.\n",
    "\n",
    "2. Interpreting Colours and Symbols: Colours and symbols are frequently used in stock charts to signify numerous data points, including price patterns, volume, or particular occurrences. Each colour or symbol used in the chart is explained in the legend, making it simpler for readers to understand the visual clues. It guarantees that the chart is consistently understood by all viewers and helps prevent misunderstanding.\n",
    "\n",
    "3. Comprehending Technical Indicators: Technical indicators on stock market charts are frequently used to examine price patterns and trends. These indicators may depict their computations with lines, shapes, or other visual components. For viewers to comprehend the relevance of the indicators and make decisions based on the analysis, a legend provides a description of each indicator utilised along with its interpretation.\n",
    "\n",
    "4. Reference for Annotations: Stock charts could have annotations like trend lines, levels of support and resistance, or symbols for particular occurrences. To help readers comprehend the meaning and context of these annotations, a legend may incorporate labels or explanations.\n",
    "\n",
    "5. Improving Chart Clarity: Adding a legend enhances the readability and general clarity of a stock market chart. It lessens ambiguity and guarantees that viewers can rapidly understand the meaning and context of the chart's visual components. It offers a visual help that makes it easier to comprehend and analyse the data properly."
   ]
  },
  {
   "cell_type": "markdown",
   "id": "90cc55a8-cf02-4ab5-9eef-cfb8273f8e17",
   "metadata": {},
   "source": [
    "**Q5. What is the best way to limit the length of a pandas data frame to less than a year?**"
   ]
  },
  {
   "cell_type": "markdown",
   "id": "0692833d-8699-4584-bc2b-6ee0bde288e3",
   "metadata": {},
   "source": [
    "To limit the length of a pandas DataFrame to less than a year, you can filter the DataFrame based on the date or timestamp column. Here's an example of how you can accomplish this:\n",
    "\n",
    "Assuming you have a DataFrame named `df` with a date column named 'timestamp', and the 'timestamp' column is of type datetime, you can follow these steps:\n",
    "\n",
    "1. Sort the DataFrame by the 'timestamp' column in ascending order to ensure the dates are in chronological order:\n",
    "\n",
    "```python\n",
    "df.sort_values('timestamp', inplace=True)\n",
    "```\n",
    "\n",
    "2. Calculate the date range to limit the DataFrame. For example, if you want to limit the DataFrame to the most recent 365 days, you can use the `pd.DateOffset` class to subtract 365 days from the maximum date:\n",
    "\n",
    "```python\n",
    "import pandas as pd\n",
    "\n",
    "max_date = df['timestamp'].max()\n",
    "start_date = max_date - pd.DateOffset(days=365)\n",
    "```\n",
    "\n",
    "3. Filter the DataFrame based on the date range using boolean indexing:\n",
    "\n",
    "```python\n",
    "filtered_df = df[df['timestamp'] >= start_date]\n",
    "```\n",
    "\n",
    "This will create a new DataFrame, `filtered_df`, that contains data only within the specified date range."
   ]
  },
  {
   "cell_type": "markdown",
   "id": "bd538a87-2a10-49e0-9189-802463a3f37e",
   "metadata": {},
   "source": [
    "**Q6. What is the definition of a 180-day moving average?**"
   ]
  },
  {
   "cell_type": "markdown",
   "id": "7d4ce031-a9ed-4a21-a76f-b6582cf6073f",
   "metadata": {},
   "source": [
    "A 180-day moving average, also known as a 180-day simple moving average (SMA), is a technical analysis indicator used to smooth out price data and identify long-term trends. It calculates the average closing price of a financial instrument, such as a stock or an index, over a period of 180 trading days.\n",
    "\n",
    "The calculation of a 180-day moving average involves adding up the closing prices of the financial instrument for the past 180 trading days and dividing the sum by 180. Each day, as a new closing price becomes available, the oldest closing price in the calculation is dropped, and the new closing price is added to the calculation.\n",
    "\n",
    "Here's an example to illustrate the calculation:\n",
    "\n",
    "1. Let's assume we have the closing prices for the past 180 trading days:\n",
    "\n",
    "```\n",
    "[100, 105, 110, 108, 115, 120, ...]\n",
    "```\n",
    "\n",
    "2. To calculate the 180-day moving average, we sum up these closing prices and divide the sum by 180:\n",
    "\n",
    "```\n",
    "Moving Average = (100 + 105 + 110 + 108 + 115 + 120 + ...) / 180\n",
    "```\n",
    "\n",
    "The resulting value represents the 180-day moving average at a specific point in time. It provides a smoothed representation of the instrument's price over the past 180 trading days, helping to identify long-term trends by reducing short-term price fluctuations.\n",
    "\n",
    "Traders and investors often use moving averages, including the 180-day moving average, to assess the overall direction of a financial instrument's price movement and make decisions based on the trend."
   ]
  },
  {
   "cell_type": "markdown",
   "id": "95f76847-ff96-4f13-98e9-02fe92302c6d",
   "metadata": {},
   "source": [
    "**Q7. Did the chapter's final example use \"indirect\" importing? If so, how exactly do you do it?**"
   ]
  },
  {
   "cell_type": "markdown",
   "id": "d0074f9f-47e6-463d-b30e-9677e4520d17",
   "metadata": {},
   "source": [
    "The term \"indirect\" importing is not commonly used in the context of Python. However, if you are referring to importing specific names or attributes from a module without importing the entire module, then the chapter's final example did demonstrate this concept.\n",
    "\n",
    "In Python, you can import specific names or attributes from a module using the `from ... import ...` syntax. This allows you to directly access those names without needing to prefix them with the module name.\n",
    "\n",
    "Here's an example of how you can perform \"indirect\" importing in Python:\n",
    "\n",
    "```python\n",
    "from module_name import name1, name2, ...\n",
    "```\n",
    "\n",
    "In the above code, `module_name` represents the name of the module from which you want to import specific names. `name1`, `name2`, etc., are the names of the specific attributes, functions, or classes that you want to import.\n",
    "\n",
    "For instance, consider the `math` module in Python, which provides mathematical functions. If you only need to use the `sqrt` and `cos` functions from the `math` module, you can import them directly using \"indirect\" importing as follows:\n",
    "\n",
    "```python\n",
    "from math import sqrt, cos\n",
    "```\n",
    "\n",
    "After this import statement, you can directly use `sqrt` and `cos` in your code without needing to reference the `math` module explicitly.\n",
    "\n",
    "\"Indirect\" importing is useful when you only need a few specific names from a module and want to avoid namespace conflicts or excessive typing by importing the entire module. However, it's important to use it judiciously and avoid excessive use of star (*) imports or importing too many names, as it can make the code less readable and may lead to name clashes in the global namespace."
   ]
  },
  {
   "cell_type": "markdown",
   "id": "a9b3f7d2-9785-4d2a-ad21-bde367ea133b",
   "metadata": {},
   "source": []
  },
  {
   "cell_type": "markdown",
   "id": "2e5937f1-cc23-418d-989a-e98c8fe1c2b9",
   "metadata": {},
   "source": []
  },
  {
   "cell_type": "markdown",
   "id": "85f569e7-4c3a-431d-912b-0ab52510ffcc",
   "metadata": {},
   "source": []
  },
  {
   "cell_type": "markdown",
   "id": "a9fd0f1b-ea06-4322-a7be-efb96dfc3872",
   "metadata": {},
   "source": []
  },
  {
   "cell_type": "markdown",
   "id": "e7fc6212-69c6-448a-837f-7c4380f7ff6b",
   "metadata": {},
   "source": []
  },
  {
   "cell_type": "markdown",
   "id": "9cfe56b8-c5e9-4f36-8bbd-3bea41b10f37",
   "metadata": {},
   "source": []
  },
  {
   "cell_type": "markdown",
   "id": "f2a81da5-e0a8-461b-9612-f1c2ea38501f",
   "metadata": {},
   "source": []
  },
  {
   "cell_type": "markdown",
   "id": "58870d14-7ff3-4725-9faf-86982a06cce6",
   "metadata": {},
   "source": []
  }
 ],
 "metadata": {
  "kernelspec": {
   "display_name": "Python 3 (ipykernel)",
   "language": "python",
   "name": "python3"
  },
  "language_info": {
   "codemirror_mode": {
    "name": "ipython",
    "version": 3
   },
   "file_extension": ".py",
   "mimetype": "text/x-python",
   "name": "python",
   "nbconvert_exporter": "python",
   "pygments_lexer": "ipython3",
   "version": "3.10.6"
  }
 },
 "nbformat": 4,
 "nbformat_minor": 5
}
