{
 "cells": [
  {
   "cell_type": "markdown",
   "id": "8f481328-2565-4eb8-9ed1-fab0cd39b9bd",
   "metadata": {},
   "source": [
    "# Assignment 3"
   ]
  },
  {
   "cell_type": "markdown",
   "id": "b0b0c9c2-0e22-4467-80f7-a442b9e96001",
   "metadata": {},
   "source": [
    "**1. What is the concept of an abstract superclass?**"
   ]
  },
  {
   "cell_type": "markdown",
   "id": "f8925eef-156a-4298-ac0c-608bdb755261",
   "metadata": {},
   "source": [
    "The concept of an abstract superclass is related to the concept of abstract classes in object-oriented programming. An abstract superclass is a class that is designed to be inherited by other classes but cannot be instantiated on its own. It serves as a blueprint for its subclasses, providing a common interface and defining abstract methods that must be implemented by its subclasses.\n",
    "An abstract superclass typically contains abstract methods, which are method declarations without an implementation. These abstract methods define a contract that subclasses must adhere to by providing their own implementation. Subclasses that inherit from an abstract superclass are responsible for implementing the abstract methods defined by the superclass.\n",
    "The purpose of an abstract superclass is to provide a common structure and behavior that multiple related classes can share. It captures the common characteristics and responsibilities of its subclasses and ensures that they implement certain methods to fulfill the contract defined by the abstract superclass.\n",
    "In Python, abstract superclasses can be created using the `abc` module, which stands for Abstract Base Classes. The `abc` module provides the `ABC` (Abstract Base Class) and `abstractmethod` decorators, which allow you to define abstract methods and create abstract superclasses.\n",
    "Here's an example of an abstract superclass in Python:"
   ]
  },
  {
   "cell_type": "code",
   "execution_count": 2,
   "id": "5bde24fe-bb09-4d15-876a-928fd0a07587",
   "metadata": {},
   "outputs": [
    {
     "name": "stdout",
     "output_type": "stream",
     "text": [
      "Woof!\n",
      "Meow!\n"
     ]
    }
   ],
   "source": [
    "\n",
    "from abc import ABC, abstractmethod\n",
    "class Animal(ABC):\n",
    "    @abstractmethod\n",
    "    def speak(self):\n",
    "        pass\n",
    "class Dog(Animal):\n",
    "    def speak(self):\n",
    "        return \"Woof!\"\n",
    "class Cat(Animal):\n",
    "    def speak(self):\n",
    "        return \"Meow!\"\n",
    "dog = Dog()\n",
    "cat = Cat()\n",
    "# Call the common method defined by the abstract superclass\n",
    "print(dog.speak())\n",
    "print(cat.speak()) "
   ]
  },
  {
   "cell_type": "markdown",
   "id": "34e14bc6-da17-4174-8436-10b0e2b22286",
   "metadata": {},
   "source": [
    "**2. What happens when a class statement's top level contains a basic assignment statement?**"
   ]
  },
  {
   "cell_type": "markdown",
   "id": "8b6eb292-19b7-4001-8b61-282a08485922",
   "metadata": {},
   "source": [
    "When a class statement's top level contains a basic assignment statement, it creates a class attribute that is shared by all instances of the class. \n",
    "In Python, a class attribute is a variable that belongs to the class itself rather than to any specific instance of the class. It is defined directly within the class body but outside of any method. Class attributes are accessible to all instances of the class, and any changes made to the class attribute will be reflected in all instances.\n",
    "Here's an example that demonstrates the behavior of a class attribute:"
   ]
  },
  {
   "cell_type": "code",
   "execution_count": 3,
   "id": "53351b77-a49d-4218-8f0c-49a65789c162",
   "metadata": {},
   "outputs": [
    {
     "name": "stdout",
     "output_type": "stream",
     "text": [
      "I am a class attribute\n",
      "Instance 1\n",
      "Instance 2\n",
      "I am a class attribute\n",
      "I am a class attribute\n",
      "Updated class attribute\n",
      "Updated class attribute\n"
     ]
    }
   ],
   "source": [
    "\n",
    "class MyClass:\n",
    "    class_attr = \"I am a class attribute\"\n",
    "    def __init__(self, instance_attr):\n",
    "        self.instance_attr = instance_attr\n",
    "# Accessing the class attribute\n",
    "print(MyClass.class_attr) \n",
    "# Creating instances of the class\n",
    "obj1 = MyClass(\"Instance 1\")\n",
    "obj2 = MyClass(\"Instance 2\")\n",
    "# Accessing the instance attributes\n",
    "print(obj1.instance_attr)  \n",
    "print(obj2.instance_attr) \n",
    "# Accessing the class attribute through an instance\n",
    "print(obj1.class_attr)  \n",
    "print(obj2.class_attr)  \n",
    "# Modifying the class attribute\n",
    "MyClass.class_attr = \"Updated class attribute\"\n",
    "# Accessing the class attribute through an instance after modification\n",
    "print(obj1.class_attr)  \n",
    "print(obj2.class_attr) "
   ]
  },
  {
   "cell_type": "markdown",
   "id": "119b5639-5978-4116-be68-068aa842f6e2",
   "metadata": {},
   "source": [
    "**3. Why does a class need to manually call a superclass's __init__ method?**"
   ]
  },
  {
   "cell_type": "markdown",
   "id": "2526961f-763c-4b4b-a3ba-76599a75f043",
   "metadata": {},
   "source": [
    "In Python, a class needs to manually call a superclass's `__init__` method when the subclass overrides the `__init__` method and wants to initialize both the subclass-specific attributes and the superclass attributes.\n",
    "When a subclass defines its own `__init__` method, it overrides the `__init__` method of the superclass. By doing so, the subclass takes responsibility for initializing its own attributes and customizing the initialization process.\n",
    "However, in many cases, it is still necessary to ensure that the initialization code of the superclass is executed. This is important because the superclass may define essential attributes or perform crucial initialization steps that are required for the subclass to function correctly.\n",
    "To manually call the superclass's `__init__` method within the subclass's `__init__` method, you use the `super()` function. The `super()` function returns a temporary object of the superclass, allowing you to call its methods.\n",
    "Here's an example that illustrates the need to call the superclass's `__init__` method:"
   ]
  },
  {
   "cell_type": "code",
   "execution_count": 4,
   "id": "79f2276a-be02-4a52-afc0-9534c99fc75f",
   "metadata": {},
   "outputs": [
    {
     "name": "stdout",
     "output_type": "stream",
     "text": [
      "Vehicle started.\n",
      "Toyota Camry started.\n"
     ]
    }
   ],
   "source": [
    "class Vehicle:\n",
    "    def __init__(self, brand):\n",
    "        self.brand = brand\n",
    "    def start(self):\n",
    "        print(\"Vehicle started.\")\n",
    "class Car(Vehicle):\n",
    "    def __init__(self, brand, model):\n",
    "        # Call the superclass's __init__ method to initialize the 'brand' attribute\n",
    "        super().__init__(brand)\n",
    "        self.model = model\n",
    "    def start(self):\n",
    "        super().start()\n",
    "        print(f\"{self.brand} {self.model} started.\")\n",
    "car = Car(\"Toyota\", \"Camry\")\n",
    "car.start()"
   ]
  },
  {
   "cell_type": "markdown",
   "id": "6ae34587-ef07-485d-9da8-b6558e2e6ee9",
   "metadata": {},
   "source": [
    "In the above example, the `Vehicle` class is the superclass, and the `Car` class is the subclass that inherits from `Vehicle`.\n",
    "The `Vehicle` class has an `__init__` method that initializes the `brand` attribute. The `Car` class overrides the `__init__` method to add its own `model` attribute.\n",
    "To ensure that both the `brand` and `model` attributes are properly initialized, the `Car` class calls the `__init__` method of the superclass (`Vehicle`) using `super().__init__(brand)` inside its own `__init__` method. This allows the superclass to handle the initialization of the `brand` attribute while the subclass takes care of the `model` attribute.\n",
    "By calling the superclass's `__init__` method, the subclass ensures that the initialization code defined in the superclass is executed, setting up any necessary attributes or performing any required initialization steps. This helps maintain the integrity of the class hierarchy and ensures that all necessary initialization logic is executed correctly."
   ]
  },
  {
   "cell_type": "markdown",
   "id": "a93ac075-4858-48ca-8cf5-10566e7c6576",
   "metadata": {},
   "source": [
    "**4. How can you augment, instead of completely replacing, an inherited method?**"
   ]
  },
  {
   "cell_type": "markdown",
   "id": "38632173-80c9-4723-91dd-1cf02d701a26",
   "metadata": {},
   "source": [
    "To augment, or extend, an inherited method without completely replacing it, you can follow these steps:\n",
    "1. Define the method in the subclass with the same name as the method you want to augment in the superclass. This is called method overriding.\n",
    "2. Inside the subclass method, call the superclass method using the `super()` function. This allows you to execute the original implementation of the method defined in the superclass.\n",
    "3. Add your additional code or modifications before or after the call to the superclass method to augment its behavior.\n",
    "Here's an example to illustrate how to augment an inherited method:"
   ]
  },
  {
   "cell_type": "code",
   "execution_count": 5,
   "id": "e16ff662-86b8-40fb-a035-f9919fa2a6c6",
   "metadata": {},
   "outputs": [
    {
     "name": "stdout",
     "output_type": "stream",
     "text": [
      "Car started.\n",
      "Vehicle started.\n",
      "Car engine running.\n"
     ]
    }
   ],
   "source": [
    "\n",
    "class Vehicle:\n",
    "    def start(self):\n",
    "        print(\"Vehicle started.\")\n",
    "class Car(Vehicle):\n",
    "    def start(self):\n",
    "        print(\"Car started.\")\n",
    "        super().start()\n",
    "        print(\"Car engine running.\")\n",
    "car = Car()\n",
    "car.start()"
   ]
  },
  {
   "cell_type": "markdown",
   "id": "a3a73e94-a5ca-4b02-ae10-87aebe906553",
   "metadata": {},
   "source": [
    "**5. How is the local scope of a class different from that of a function?**"
   ]
  },
  {
   "cell_type": "markdown",
   "id": "330a0663-c67d-464e-8212-37572c67b937",
   "metadata": {},
   "source": [
    "The local scope of a class and a function in Python is different in several ways:\n",
    "1. Access to Variables: In a class, variables defined within methods (including the `self` parameter) are accessible across different methods within the class. These variables are considered instance variables and can be accessed and modified using the `self` keyword. In contrast, variables defined within a function are local to that function and cannot be directly accessed or modified outside of the function's scope.\n",
    "2. Persistence of Variables: In a class, instance variables persist throughout the lifetime of the object. They retain their values as long as the object exists and can be accessed or modified from different methods within the class. On the other hand, variables defined within a function are local to that function and cease to exist once the function finishes executing. They are created anew each time the function is called.\n",
    "3. Visibility: In a class, instance variables and methods are accessible by other methods within the same class. They can be accessed using the `self` keyword. In contrast, variables defined within a function are only visible within the function's scope and cannot be directly accessed or modified outside of that scope.\n",
    "4. Encapsulation: Classes provide a way to encapsulate data and behavior into objects. Instance variables in a class encapsulate the state of an object and can be accessed or modified through class methods. Functions, on the other hand, do not have this encapsulation feature and mainly serve as self-contained blocks of code.\n",
    "5. Class Attributes: In a class, variables defined directly within the class body (outside of any method) are class attributes. These attributes are shared by all instances of the class and can be accessed using the class name or through instances. Class attributes have a scope that extends to the entire class, while variables defined within a function are limited to that function's scope.\n",
    "In summary, the local scope of a class provides a broader context where instance variables can be shared and accessed across methods, whereas the local scope of a function is limited to that function's execution and does not have the same persistence and visibility as instance variables in a class. Classes provide a higher level of encapsulation and the ability to define and maintain state across different methods."
   ]
  },
  {
   "cell_type": "markdown",
   "id": "9d98ee2f-8928-45e7-a4ad-0ac024fda35b",
   "metadata": {},
   "source": []
  }
 ],
 "metadata": {
  "kernelspec": {
   "display_name": "Python 3 (ipykernel)",
   "language": "python",
   "name": "python3"
  },
  "language_info": {
   "codemirror_mode": {
    "name": "ipython",
    "version": 3
   },
   "file_extension": ".py",
   "mimetype": "text/x-python",
   "name": "python",
   "nbconvert_exporter": "python",
   "pygments_lexer": "ipython3",
   "version": "3.10.6"
  }
 },
 "nbformat": 4,
 "nbformat_minor": 5
}
